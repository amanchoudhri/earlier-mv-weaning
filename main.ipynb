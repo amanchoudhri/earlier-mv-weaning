{
 "cells": [
  {
   "cell_type": "markdown",
   "metadata": {},
   "source": [
    "# Effects of Aggressive and Conservative Strategies for Mechanical Ventilation Liberation\n",
    "This project aims to use causal inference to estimate the effects of weaning patients off mechanical ventilation sooner or later than normal, following the approach described in [Kennedy, 2018](https://arxiv.org/pdf/1704.00211.pdf). In this study we consider patients who have been on mechanical ventilation for 24 hours (our start criteria)."
   ]
  },
  {
   "cell_type": "code",
   "execution_count": 2,
   "metadata": {},
   "outputs": [],
   "source": [
    "import pickle\n",
    "from pprint import pprint\n",
    "\n",
    "import numpy as np\n",
    "import pandas as pd\n",
    "\n",
    "from matplotlib import pyplot as plt\n",
    "from sklearn.calibration import CalibratedClassifierCV\n",
    "from sklearn.linear_model import LogisticRegression\n",
    "from sklearn.preprocessing import LabelEncoder, StandardScaler\n",
    "\n",
    "# ALL_WEANING_PREDICTORS is a list of all covariates intially identified as potentially useful in predicting probability of weaning\n",
    "# group_by_stay is a helper function that groups a dataframe by the column 'stay_id'\n",
    "from common import (\n",
    "    ALL_WEANING_PREDICTORS,\n",
    "    group_by_stay,\n",
    "    calibration_curve\n",
    ")\n",
    "\n",
    "np.random.seed(0)"
   ]
  },
  {
   "cell_type": "markdown",
   "metadata": {},
   "source": [
    "First, we exclude variables from consideration if they are missing more than 10% of the time in post-baseline times. Post-baseline in this case means we filter out records from patients at time points before our start criteria.\n",
    "\n",
    "```\n",
    ">>> full_df = pd.read_csv('mimic_iv_cxr_reports_labeled_notext.csv')\n",
    ">>> post_baseline_df = full_df.loc[full_df['hour_baseline'] >= 1]\n",
    ">>> post_baseline_df.to_csv('post_baseline_weaning.csv')\n",
    "```"
   ]
  },
  {
   "cell_type": "code",
   "execution_count": 3,
   "metadata": {},
   "outputs": [
    {
     "name": "stderr",
     "output_type": "stream",
     "text": [
      "/Users/aman/VSCode Files/liberation-timing-paper/venv/lib/python3.9/site-packages/IPython/core/interactiveshell.py:3169: DtypeWarning: Columns (10) have mixed types.Specify dtype option on import or set low_memory=False.\n",
      "  has_raised = await self.run_ast_nodes(code_ast.body, cell_name,\n"
     ]
    }
   ],
   "source": [
    "# Load in the required datasets\n",
    "# df contains records for the duration of each stay across all stay_ids\n",
    "df = pd.read_csv('post_baseline_weaning.csv')\n",
    "# Cohort contains information about each patient, including\n",
    "# intime, outtime, deathtime, subject_id, etc\n",
    "cohort = pd.read_csv('icustays_1.0.csv')\n",
    "careunits = pd.read_csv('careunits_1.0.csv')\n",
    "admissions = pd.read_csv('admissions.csv')\n",
    "cohort = cohort.merge(careunits).merge(admissions)"
   ]
  },
  {
   "cell_type": "markdown",
   "metadata": {},
   "source": [
    "## Clean the main dataframe\n",
    "Overview:\n",
    " - Remove patients who have deathtimes before the baseline criteria for the study.\n",
    " - Include only the first ICU stays for each patient\n",
    " - Fill missing values for certain columns where NaN values just mean 0\n",
    " - Create a few columns to track the value of certain variables at time t-1\n",
    " - Forward fill most of the columns to remove NaN values, since in most cases NaN simply means the variable wasn't measured at that timepoint\n",
    " - Ignore columns who still have a NaN proportion > 0.1\n",
    " \n",
    "First, remove patients whose deathtimes are listed as before the baseline criteria for this study."
   ]
  },
  {
   "cell_type": "markdown",
   "metadata": {},
   "source": [
    "Ventilation status being 2 or 5 indicates invasive ventilation or the presence a tracheal tube, respectively. When the status shifts away from these values, it implies the patient was extubated, so adjust control accordingly."
   ]
  },
  {
   "cell_type": "code",
   "execution_count": 4,
   "metadata": {},
   "outputs": [],
   "source": [
    "df.loc[~df['ventilation_status'].isin([2, 5]), 'control'] = 0"
   ]
  },
  {
   "cell_type": "markdown",
   "metadata": {},
   "source": [
    "Our time period of interest is every timestep up until and including the start of the first liberation attempt. So, we remove all data points past weaning."
   ]
  },
  {
   "cell_type": "code",
   "execution_count": 5,
   "metadata": {},
   "outputs": [],
   "source": [
    "df['weaning'] = 1 - df['control']\n",
    "df['is_past_wean'] = group_by_stay(df, 'weaning').apply(\n",
    "    lambda stay: stay.cumsum().cumsum() > 1\n",
    "    )\n",
    "df = df[~df['is_past_wean']]                                   "
   ]
  },
  {
   "cell_type": "markdown",
   "metadata": {},
   "source": [
    "Fill missing urine output and vasopressor (`rate_std`) values with 0, since missing entries for these two columns means the value is 0 in this dataset. We do this to make sure we don't accidentally exclude the columns from the dataset because their NaN proportion appears too high, when they should really be included."
   ]
  },
  {
   "cell_type": "code",
   "execution_count": 6,
   "metadata": {},
   "outputs": [],
   "source": [
    "cols_to_impute = ['urine_output', 'last_urine_output', 'rate_std', 'last_rate_std']\n",
    "df.loc[:, cols_to_impute] = df[cols_to_impute].fillna(0)"
   ]
  },
  {
   "cell_type": "markdown",
   "metadata": {},
   "source": [
    "Next, we'll create some relevant columns (mostly ones that track the 'last' version of a given variable, i.e. the value at the previous timepoint)."
   ]
  },
  {
   "cell_type": "code",
   "execution_count": 7,
   "metadata": {},
   "outputs": [],
   "source": [
    "df['any_vaso'] = df['rate_std'] > 0\n",
    "\n",
    "for col in ('opioid', 'benzo', 'propofol','dex', 'driving_pressure', 'any_vaso'):\n",
    "    df[f'last_{col}'] = group_by_stay(df, col).shift(periods=1)"
   ]
  },
  {
   "cell_type": "markdown",
   "metadata": {},
   "source": [
    "Remove any stays corresponding to patients whose deathtimes occured before the baseline time for the study."
   ]
  },
  {
   "cell_type": "code",
   "execution_count": 8,
   "metadata": {},
   "outputs": [],
   "source": [
    "df = df.merge(cohort[['stay_id', 'deathtime', 'intime']])\n",
    "# Find the actual time at which the patient's stay started,\n",
    "# rather than hour `44`, for example\n",
    "df['baseline_time'] = (\n",
    "    pd.to_datetime(df['intime']) +\n",
    "    pd.to_timedelta(df['baseline_hour'], unit='hr')\n",
    ")\n",
    "# Identify the stays corresponding to patients whose\n",
    "# deathtimes occured before the baseline time for the study.\n",
    "stays_to_omit = df.loc[ \n",
    "    df['baseline_time'] > pd.to_datetime(df['deathtime']),\n",
    "    'stay_id'\n",
    "].unique()\n",
    "\n",
    "df = df.loc[~df['stay_id'].isin(stays_to_omit)]"
   ]
  },
  {
   "cell_type": "markdown",
   "metadata": {},
   "source": [
    "Next, we'll filter the dataframe so only the first ICU stay for each patient is included."
   ]
  },
  {
   "cell_type": "code",
   "execution_count": 9,
   "metadata": {},
   "outputs": [],
   "source": [
    "# Select subject_id and intime from each valid stay_id in cohort\n",
    "subjects = cohort.loc[\n",
    "    cohort['stay_id'].isin(df['stay_id']), ['subject_id', 'stay_id', 'intime']\n",
    "]\n",
    "# Sort by subject_id, then by intime to identify which is the first stay\n",
    "subjects.sort_values(['subject_id', 'intime'], ignore_index=True, inplace=True)\n",
    "# Get those first stay_ids\n",
    "first_stay_ids = subjects.groupby('subject_id')['stay_id'].first()\n",
    "# Filter df (and subjects) to only include those stays\n",
    "df = df[df['stay_id'].isin(first_stay_ids)]\n",
    "subjects = subjects[subjects['stay_id'].isin(first_stay_ids)]\n",
    "\n",
    "# Sort the df\n",
    "df.sort_values(['stay_id', 'hour'], ignore_index=True, inplace=True)"
   ]
  },
  {
   "cell_type": "markdown",
   "metadata": {},
   "source": [
    "Identify variables whose NA proportion is above 0.10, so we can exclude them."
   ]
  },
  {
   "cell_type": "code",
   "execution_count": 10,
   "metadata": {},
   "outputs": [
    {
     "name": "stdout",
     "output_type": "stream",
     "text": [
      "marital_status: 0.15031893611692573\n"
     ]
    }
   ],
   "source": [
    "cols_to_exclude = []\n",
    "for c in ALL_WEANING_PREDICTORS:\n",
    "    na_proportion = df[c].isna().mean()\n",
    "    if na_proportion >= 0.1:\n",
    "        cols_to_exclude.append(c)\n",
    "        print(f'{c}: {na_proportion}')"
   ]
  },
  {
   "cell_type": "markdown",
   "metadata": {},
   "source": [
    "Now that we've identified which columns should be excluded from our analysis, we can create a new list of predictors."
   ]
  },
  {
   "cell_type": "code",
   "execution_count": 11,
   "metadata": {},
   "outputs": [],
   "source": [
    "weaning_predictors = [\n",
    "    c for c in ALL_WEANING_PREDICTORS if c not in cols_to_exclude\n",
    "]"
   ]
  },
  {
   "cell_type": "markdown",
   "metadata": {},
   "source": [
    "Impute missing values (for numeric columns) with the median value."
   ]
  },
  {
   "cell_type": "code",
   "execution_count": 12,
   "metadata": {},
   "outputs": [],
   "source": [
    "for c in weaning_predictors:\n",
    "    try:\n",
    "        df[c].fillna(df[c].median(), inplace=True)\n",
    "    # If a column is a string or object type, the median method will throw a TypeError\n",
    "    except TypeError:\n",
    "        pass"
   ]
  },
  {
   "cell_type": "markdown",
   "metadata": {},
   "source": [
    "Now, we'll standardize our predictors."
   ]
  },
  {
   "cell_type": "code",
   "execution_count": 13,
   "metadata": {},
   "outputs": [
    {
     "data": {
      "text/html": [
       "<div>\n",
       "<style scoped>\n",
       "    .dataframe tbody tr th:only-of-type {\n",
       "        vertical-align: middle;\n",
       "    }\n",
       "\n",
       "    .dataframe tbody tr th {\n",
       "        vertical-align: top;\n",
       "    }\n",
       "\n",
       "    .dataframe thead th {\n",
       "        text-align: right;\n",
       "    }\n",
       "</style>\n",
       "<table border=\"1\" class=\"dataframe\">\n",
       "  <thead>\n",
       "    <tr style=\"text-align: right;\">\n",
       "      <th></th>\n",
       "      <th>mean</th>\n",
       "      <th>std</th>\n",
       "    </tr>\n",
       "  </thead>\n",
       "  <tbody>\n",
       "    <tr>\n",
       "      <th>last_peep_set</th>\n",
       "      <td>1.894669e-16</td>\n",
       "      <td>1.000002</td>\n",
       "    </tr>\n",
       "    <tr>\n",
       "      <th>last_tidal_volume_set</th>\n",
       "      <td>-2.701398e-16</td>\n",
       "      <td>1.000002</td>\n",
       "    </tr>\n",
       "    <tr>\n",
       "      <th>last_resp_rate</th>\n",
       "      <td>-3.831521e-17</td>\n",
       "      <td>1.000002</td>\n",
       "    </tr>\n",
       "    <tr>\n",
       "      <th>last_peak_insp_pressure</th>\n",
       "      <td>-1.344547e-16</td>\n",
       "      <td>1.000002</td>\n",
       "    </tr>\n",
       "    <tr>\n",
       "      <th>last_plateau_pressure</th>\n",
       "      <td>-1.963215e-16</td>\n",
       "      <td>1.000002</td>\n",
       "    </tr>\n",
       "    <tr>\n",
       "      <th>last_mean_airway_pressure</th>\n",
       "      <td>2.193458e-16</td>\n",
       "      <td>1.000002</td>\n",
       "    </tr>\n",
       "    <tr>\n",
       "      <th>last_minutes_vol</th>\n",
       "      <td>2.293640e-17</td>\n",
       "      <td>1.000002</td>\n",
       "    </tr>\n",
       "    <tr>\n",
       "      <th>last_pao2fio2ratio</th>\n",
       "      <td>3.485278e-16</td>\n",
       "      <td>1.000002</td>\n",
       "    </tr>\n",
       "    <tr>\n",
       "      <th>last_driving_pressure</th>\n",
       "      <td>-1.428911e-16</td>\n",
       "      <td>1.000002</td>\n",
       "    </tr>\n",
       "    <tr>\n",
       "      <th>last_po2</th>\n",
       "      <td>-5.769250e-17</td>\n",
       "      <td>1.000002</td>\n",
       "    </tr>\n",
       "    <tr>\n",
       "      <th>last_pco2</th>\n",
       "      <td>1.613457e-16</td>\n",
       "      <td>1.000002</td>\n",
       "    </tr>\n",
       "    <tr>\n",
       "      <th>last_aado2_calc</th>\n",
       "      <td>2.530913e-17</td>\n",
       "      <td>1.000002</td>\n",
       "    </tr>\n",
       "    <tr>\n",
       "      <th>last_ph</th>\n",
       "      <td>5.858711e-15</td>\n",
       "      <td>1.000002</td>\n",
       "    </tr>\n",
       "    <tr>\n",
       "      <th>last_baseexcess</th>\n",
       "      <td>7.996981e-18</td>\n",
       "      <td>1.000002</td>\n",
       "    </tr>\n",
       "    <tr>\n",
       "      <th>last_totalco2</th>\n",
       "      <td>5.448492e-17</td>\n",
       "      <td>1.000002</td>\n",
       "    </tr>\n",
       "    <tr>\n",
       "      <th>last_temperature</th>\n",
       "      <td>1.020221e-14</td>\n",
       "      <td>1.000002</td>\n",
       "    </tr>\n",
       "    <tr>\n",
       "      <th>last_fio2_chartevents</th>\n",
       "      <td>1.986063e-16</td>\n",
       "      <td>1.000002</td>\n",
       "    </tr>\n",
       "    <tr>\n",
       "      <th>last_urine_output</th>\n",
       "      <td>-5.362811e-17</td>\n",
       "      <td>1.000002</td>\n",
       "    </tr>\n",
       "    <tr>\n",
       "      <th>last_lactate</th>\n",
       "      <td>1.572593e-16</td>\n",
       "      <td>1.000002</td>\n",
       "    </tr>\n",
       "    <tr>\n",
       "      <th>last_glucose</th>\n",
       "      <td>-3.954551e-19</td>\n",
       "      <td>1.000002</td>\n",
       "    </tr>\n",
       "    <tr>\n",
       "      <th>last_gcs</th>\n",
       "      <td>1.794487e-16</td>\n",
       "      <td>1.000002</td>\n",
       "    </tr>\n",
       "    <tr>\n",
       "      <th>last_gcs_verbal</th>\n",
       "      <td>-3.154853e-17</td>\n",
       "      <td>1.000002</td>\n",
       "    </tr>\n",
       "    <tr>\n",
       "      <th>last_gcs_motor</th>\n",
       "      <td>3.093338e-17</td>\n",
       "      <td>1.000002</td>\n",
       "    </tr>\n",
       "    <tr>\n",
       "      <th>last_gcs_eyes</th>\n",
       "      <td>-2.602973e-16</td>\n",
       "      <td>1.000002</td>\n",
       "    </tr>\n",
       "    <tr>\n",
       "      <th>last_gcs_unable</th>\n",
       "      <td>1.971124e-16</td>\n",
       "      <td>1.000002</td>\n",
       "    </tr>\n",
       "    <tr>\n",
       "      <th>last_CREATININE</th>\n",
       "      <td>-3.047641e-16</td>\n",
       "      <td>1.000002</td>\n",
       "    </tr>\n",
       "    <tr>\n",
       "      <th>last_PLATELET</th>\n",
       "      <td>7.487283e-17</td>\n",
       "      <td>1.000002</td>\n",
       "    </tr>\n",
       "    <tr>\n",
       "      <th>last_PTT</th>\n",
       "      <td>2.871004e-16</td>\n",
       "      <td>1.000002</td>\n",
       "    </tr>\n",
       "    <tr>\n",
       "      <th>last_BUN</th>\n",
       "      <td>2.221579e-16</td>\n",
       "      <td>1.000002</td>\n",
       "    </tr>\n",
       "    <tr>\n",
       "      <th>last_WBC</th>\n",
       "      <td>-6.784252e-17</td>\n",
       "      <td>1.000002</td>\n",
       "    </tr>\n",
       "    <tr>\n",
       "      <th>last_sbp</th>\n",
       "      <td>-4.312218e-16</td>\n",
       "      <td>1.000002</td>\n",
       "    </tr>\n",
       "    <tr>\n",
       "      <th>last_dbp</th>\n",
       "      <td>-1.117820e-16</td>\n",
       "      <td>1.000002</td>\n",
       "    </tr>\n",
       "    <tr>\n",
       "      <th>last_mbp</th>\n",
       "      <td>3.265580e-16</td>\n",
       "      <td>1.000002</td>\n",
       "    </tr>\n",
       "    <tr>\n",
       "      <th>last_spo2</th>\n",
       "      <td>-4.924734e-16</td>\n",
       "      <td>1.000002</td>\n",
       "    </tr>\n",
       "    <tr>\n",
       "      <th>last_heart_rate</th>\n",
       "      <td>-3.100368e-16</td>\n",
       "      <td>1.000002</td>\n",
       "    </tr>\n",
       "    <tr>\n",
       "      <th>last_respiration_24hours</th>\n",
       "      <td>-6.204251e-17</td>\n",
       "      <td>1.000002</td>\n",
       "    </tr>\n",
       "    <tr>\n",
       "      <th>last_coagulation_24hours</th>\n",
       "      <td>-1.652124e-17</td>\n",
       "      <td>1.000002</td>\n",
       "    </tr>\n",
       "    <tr>\n",
       "      <th>last_liver_24hours</th>\n",
       "      <td>-2.478185e-17</td>\n",
       "      <td>1.000002</td>\n",
       "    </tr>\n",
       "    <tr>\n",
       "      <th>last_cardiovascular_24hours</th>\n",
       "      <td>3.620611e-17</td>\n",
       "      <td>1.000002</td>\n",
       "    </tr>\n",
       "    <tr>\n",
       "      <th>last_cns_24hours</th>\n",
       "      <td>-1.040486e-16</td>\n",
       "      <td>1.000002</td>\n",
       "    </tr>\n",
       "    <tr>\n",
       "      <th>last_renal_24hours</th>\n",
       "      <td>1.379699e-17</td>\n",
       "      <td>1.000002</td>\n",
       "    </tr>\n",
       "    <tr>\n",
       "      <th>last_amount</th>\n",
       "      <td>-7.096222e-18</td>\n",
       "      <td>1.000002</td>\n",
       "    </tr>\n",
       "    <tr>\n",
       "      <th>last_weight</th>\n",
       "      <td>-1.021153e-16</td>\n",
       "      <td>1.000002</td>\n",
       "    </tr>\n",
       "    <tr>\n",
       "      <th>last_imputed_TV_standardized</th>\n",
       "      <td>-1.574526e-15</td>\n",
       "      <td>1.000002</td>\n",
       "    </tr>\n",
       "    <tr>\n",
       "      <th>last_opioid</th>\n",
       "      <td>2.794549e-17</td>\n",
       "      <td>1.000002</td>\n",
       "    </tr>\n",
       "    <tr>\n",
       "      <th>last_benzo</th>\n",
       "      <td>6.784252e-17</td>\n",
       "      <td>1.000002</td>\n",
       "    </tr>\n",
       "    <tr>\n",
       "      <th>last_propofol</th>\n",
       "      <td>1.031698e-16</td>\n",
       "      <td>1.000002</td>\n",
       "    </tr>\n",
       "    <tr>\n",
       "      <th>last_dex</th>\n",
       "      <td>-6.687585e-17</td>\n",
       "      <td>1.000002</td>\n",
       "    </tr>\n",
       "  </tbody>\n",
       "</table>\n",
       "</div>"
      ],
      "text/plain": [
       "                                      mean       std\n",
       "last_peep_set                 1.894669e-16  1.000002\n",
       "last_tidal_volume_set        -2.701398e-16  1.000002\n",
       "last_resp_rate               -3.831521e-17  1.000002\n",
       "last_peak_insp_pressure      -1.344547e-16  1.000002\n",
       "last_plateau_pressure        -1.963215e-16  1.000002\n",
       "last_mean_airway_pressure     2.193458e-16  1.000002\n",
       "last_minutes_vol              2.293640e-17  1.000002\n",
       "last_pao2fio2ratio            3.485278e-16  1.000002\n",
       "last_driving_pressure        -1.428911e-16  1.000002\n",
       "last_po2                     -5.769250e-17  1.000002\n",
       "last_pco2                     1.613457e-16  1.000002\n",
       "last_aado2_calc               2.530913e-17  1.000002\n",
       "last_ph                       5.858711e-15  1.000002\n",
       "last_baseexcess               7.996981e-18  1.000002\n",
       "last_totalco2                 5.448492e-17  1.000002\n",
       "last_temperature              1.020221e-14  1.000002\n",
       "last_fio2_chartevents         1.986063e-16  1.000002\n",
       "last_urine_output            -5.362811e-17  1.000002\n",
       "last_lactate                  1.572593e-16  1.000002\n",
       "last_glucose                 -3.954551e-19  1.000002\n",
       "last_gcs                      1.794487e-16  1.000002\n",
       "last_gcs_verbal              -3.154853e-17  1.000002\n",
       "last_gcs_motor                3.093338e-17  1.000002\n",
       "last_gcs_eyes                -2.602973e-16  1.000002\n",
       "last_gcs_unable               1.971124e-16  1.000002\n",
       "last_CREATININE              -3.047641e-16  1.000002\n",
       "last_PLATELET                 7.487283e-17  1.000002\n",
       "last_PTT                      2.871004e-16  1.000002\n",
       "last_BUN                      2.221579e-16  1.000002\n",
       "last_WBC                     -6.784252e-17  1.000002\n",
       "last_sbp                     -4.312218e-16  1.000002\n",
       "last_dbp                     -1.117820e-16  1.000002\n",
       "last_mbp                      3.265580e-16  1.000002\n",
       "last_spo2                    -4.924734e-16  1.000002\n",
       "last_heart_rate              -3.100368e-16  1.000002\n",
       "last_respiration_24hours     -6.204251e-17  1.000002\n",
       "last_coagulation_24hours     -1.652124e-17  1.000002\n",
       "last_liver_24hours           -2.478185e-17  1.000002\n",
       "last_cardiovascular_24hours   3.620611e-17  1.000002\n",
       "last_cns_24hours             -1.040486e-16  1.000002\n",
       "last_renal_24hours            1.379699e-17  1.000002\n",
       "last_amount                  -7.096222e-18  1.000002\n",
       "last_weight                  -1.021153e-16  1.000002\n",
       "last_imputed_TV_standardized -1.574526e-15  1.000002\n",
       "last_opioid                   2.794549e-17  1.000002\n",
       "last_benzo                    6.784252e-17  1.000002\n",
       "last_propofol                 1.031698e-16  1.000002\n",
       "last_dex                     -6.687585e-17  1.000002"
      ]
     },
     "execution_count": 13,
     "metadata": {},
     "output_type": "execute_result"
    }
   ],
   "source": [
    "# Get the numeric columns\n",
    "numeric = df[weaning_predictors].select_dtypes(exclude='object').columns\n",
    "# Standardize only the columns tracking the 'last' values of a variable\n",
    "to_standardize = [c for c in numeric if 'last' in c]\n",
    "df.loc[:, to_standardize] = StandardScaler().fit_transform(df[to_standardize])\n",
    "# Sanity check to make sure the DataFrame was actually standardized\n",
    "df[to_standardize].agg(['mean', 'std']).T"
   ]
  },
  {
   "cell_type": "markdown",
   "metadata": {},
   "source": [
    "For our final processing step, we'll remove extreme values from the covariates."
   ]
  },
  {
   "cell_type": "code",
   "execution_count": 14,
   "metadata": {},
   "outputs": [],
   "source": [
    "for c in weaning_predictors:\n",
    "    if 'last' in c:\n",
    "        df[c] = np.maximum(-5, np.minimum(df[c], 5))\n"
   ]
  },
  {
   "cell_type": "markdown",
   "metadata": {},
   "source": [
    "### Define patient subgroups by risk\n",
    "We'll later be performing a subgroup analysis, so we divide up our patients based on risk indicators like P/F ratio and SOFA score."
   ]
  },
  {
   "cell_type": "code",
   "execution_count": 15,
   "metadata": {},
   "outputs": [],
   "source": [
    "def get_pats(cond: pd.Series) -> pd.Series:\n",
    "    \"\"\"Return the stay_ids for patients meeting the given condition.\"\"\"\n",
    "    rows = (df['hour_baseline'] == 1) & cond\n",
    "    return df.loc[rows, 'stay_id'].dropna().unique()\n",
    "\n",
    "low_pfratio_pats = get_pats(df['pao2fio2ratio'] <= 150)\n",
    "high_pfratio_pats = get_pats(df['pao2fio2ratio'] >= 300)\n",
    "\n",
    "low_sofa_pats = get_pats(df['sofa_24hours'] <= 5)\n",
    "high_sofa_pats = get_pats(df['sofa_24hours'] >= 12)"
   ]
  },
  {
   "cell_type": "markdown",
   "metadata": {},
   "source": [
    "Next, load in pulmonary edema data and process it. [TODO: explain why] "
   ]
  },
  {
   "cell_type": "code",
   "execution_count": 16,
   "metadata": {},
   "outputs": [
    {
     "data": {
      "text/html": [
       "<div>\n",
       "<style scoped>\n",
       "    .dataframe tbody tr th:only-of-type {\n",
       "        vertical-align: middle;\n",
       "    }\n",
       "\n",
       "    .dataframe tbody tr th {\n",
       "        vertical-align: top;\n",
       "    }\n",
       "\n",
       "    .dataframe thead th {\n",
       "        text-align: right;\n",
       "    }\n",
       "</style>\n",
       "<table border=\"1\" class=\"dataframe\">\n",
       "  <thead>\n",
       "    <tr style=\"text-align: right;\">\n",
       "      <th></th>\n",
       "      <th>subject_id</th>\n",
       "      <th>hadm_id</th>\n",
       "      <th>note_id</th>\n",
       "      <th>charttime</th>\n",
       "      <th>note_type</th>\n",
       "      <th>field_value</th>\n",
       "      <th>No Finding</th>\n",
       "      <th>Enlarged Cardiomediastinum</th>\n",
       "      <th>Cardiomegaly</th>\n",
       "      <th>Lung Lesion</th>\n",
       "      <th>Lung Opacity</th>\n",
       "      <th>Edema</th>\n",
       "      <th>Consolidation</th>\n",
       "      <th>Pneumonia</th>\n",
       "      <th>Atelectasis</th>\n",
       "      <th>Pneumothorax</th>\n",
       "      <th>Pleural Effusion</th>\n",
       "      <th>Pleural Other</th>\n",
       "      <th>Fracture</th>\n",
       "      <th>Support Devices</th>\n",
       "    </tr>\n",
       "  </thead>\n",
       "  <tbody>\n",
       "    <tr>\n",
       "      <th>0</th>\n",
       "      <td>16977294</td>\n",
       "      <td>29291018.0</td>\n",
       "      <td>16977294-RR-17</td>\n",
       "      <td>2122-06-17 21:49:00</td>\n",
       "      <td>RR</td>\n",
       "      <td>C12</td>\n",
       "      <td>NaN</td>\n",
       "      <td>1.0</td>\n",
       "      <td>NaN</td>\n",
       "      <td>NaN</td>\n",
       "      <td>1.0</td>\n",
       "      <td>-1.0</td>\n",
       "      <td>1.0</td>\n",
       "      <td>1.0</td>\n",
       "      <td>NaN</td>\n",
       "      <td>0.0</td>\n",
       "      <td>NaN</td>\n",
       "      <td>NaN</td>\n",
       "      <td>NaN</td>\n",
       "      <td>NaN</td>\n",
       "    </tr>\n",
       "    <tr>\n",
       "      <th>1</th>\n",
       "      <td>12233384</td>\n",
       "      <td>22824404.0</td>\n",
       "      <td>12233384-RR-78</td>\n",
       "      <td>2170-10-08 12:25:00</td>\n",
       "      <td>RR</td>\n",
       "      <td>C11</td>\n",
       "      <td>NaN</td>\n",
       "      <td>NaN</td>\n",
       "      <td>1.0</td>\n",
       "      <td>NaN</td>\n",
       "      <td>-1.0</td>\n",
       "      <td>1.0</td>\n",
       "      <td>NaN</td>\n",
       "      <td>NaN</td>\n",
       "      <td>1.0</td>\n",
       "      <td>0.0</td>\n",
       "      <td>0.0</td>\n",
       "      <td>NaN</td>\n",
       "      <td>NaN</td>\n",
       "      <td>1.0</td>\n",
       "    </tr>\n",
       "    <tr>\n",
       "      <th>2</th>\n",
       "      <td>11571683</td>\n",
       "      <td>22882793.0</td>\n",
       "      <td>11571683-RR-52</td>\n",
       "      <td>2138-07-05 15:02:00</td>\n",
       "      <td>RR</td>\n",
       "      <td>C11</td>\n",
       "      <td>NaN</td>\n",
       "      <td>NaN</td>\n",
       "      <td>0.0</td>\n",
       "      <td>NaN</td>\n",
       "      <td>NaN</td>\n",
       "      <td>NaN</td>\n",
       "      <td>0.0</td>\n",
       "      <td>NaN</td>\n",
       "      <td>NaN</td>\n",
       "      <td>0.0</td>\n",
       "      <td>0.0</td>\n",
       "      <td>NaN</td>\n",
       "      <td>NaN</td>\n",
       "      <td>NaN</td>\n",
       "    </tr>\n",
       "    <tr>\n",
       "      <th>3</th>\n",
       "      <td>17540015</td>\n",
       "      <td>21531298.0</td>\n",
       "      <td>17540015-RR-77</td>\n",
       "      <td>2189-10-14 04:45:00</td>\n",
       "      <td>RR</td>\n",
       "      <td>C12</td>\n",
       "      <td>NaN</td>\n",
       "      <td>NaN</td>\n",
       "      <td>1.0</td>\n",
       "      <td>NaN</td>\n",
       "      <td>1.0</td>\n",
       "      <td>NaN</td>\n",
       "      <td>NaN</td>\n",
       "      <td>NaN</td>\n",
       "      <td>NaN</td>\n",
       "      <td>NaN</td>\n",
       "      <td>1.0</td>\n",
       "      <td>NaN</td>\n",
       "      <td>NaN</td>\n",
       "      <td>1.0</td>\n",
       "    </tr>\n",
       "    <tr>\n",
       "      <th>4</th>\n",
       "      <td>10150056</td>\n",
       "      <td>NaN</td>\n",
       "      <td>10150056-RR-40</td>\n",
       "      <td>2151-09-08 11:39:00</td>\n",
       "      <td>RR</td>\n",
       "      <td>C11</td>\n",
       "      <td>NaN</td>\n",
       "      <td>NaN</td>\n",
       "      <td>1.0</td>\n",
       "      <td>NaN</td>\n",
       "      <td>NaN</td>\n",
       "      <td>NaN</td>\n",
       "      <td>NaN</td>\n",
       "      <td>NaN</td>\n",
       "      <td>1.0</td>\n",
       "      <td>0.0</td>\n",
       "      <td>1.0</td>\n",
       "      <td>NaN</td>\n",
       "      <td>NaN</td>\n",
       "      <td>NaN</td>\n",
       "    </tr>\n",
       "  </tbody>\n",
       "</table>\n",
       "</div>"
      ],
      "text/plain": [
       "   subject_id     hadm_id         note_id            charttime note_type  \\\n",
       "0    16977294  29291018.0  16977294-RR-17  2122-06-17 21:49:00        RR   \n",
       "1    12233384  22824404.0  12233384-RR-78  2170-10-08 12:25:00        RR   \n",
       "2    11571683  22882793.0  11571683-RR-52  2138-07-05 15:02:00        RR   \n",
       "3    17540015  21531298.0  17540015-RR-77  2189-10-14 04:45:00        RR   \n",
       "4    10150056         NaN  10150056-RR-40  2151-09-08 11:39:00        RR   \n",
       "\n",
       "  field_value  No Finding  Enlarged Cardiomediastinum  Cardiomegaly  \\\n",
       "0         C12         NaN                         1.0           NaN   \n",
       "1         C11         NaN                         NaN           1.0   \n",
       "2         C11         NaN                         NaN           0.0   \n",
       "3         C12         NaN                         NaN           1.0   \n",
       "4         C11         NaN                         NaN           1.0   \n",
       "\n",
       "   Lung Lesion  Lung Opacity  Edema  Consolidation  Pneumonia  Atelectasis  \\\n",
       "0          NaN           1.0   -1.0            1.0        1.0          NaN   \n",
       "1          NaN          -1.0    1.0            NaN        NaN          1.0   \n",
       "2          NaN           NaN    NaN            0.0        NaN          NaN   \n",
       "3          NaN           1.0    NaN            NaN        NaN          NaN   \n",
       "4          NaN           NaN    NaN            NaN        NaN          1.0   \n",
       "\n",
       "   Pneumothorax  Pleural Effusion  Pleural Other  Fracture  Support Devices  \n",
       "0           0.0               NaN            NaN       NaN              NaN  \n",
       "1           0.0               0.0            NaN       NaN              1.0  \n",
       "2           0.0               0.0            NaN       NaN              NaN  \n",
       "3           NaN               1.0            NaN       NaN              1.0  \n",
       "4           0.0               1.0            NaN       NaN              NaN  "
      ]
     },
     "execution_count": 16,
     "metadata": {},
     "output_type": "execute_result"
    }
   ],
   "source": [
    "pulmonary_edema = pd.read_csv('mimic_iv_cxr_reports_labeled_notext.csv')\n",
    "pulmonary_edema.head()"
   ]
  },
  {
   "cell_type": "code",
   "execution_count": 17,
   "metadata": {},
   "outputs": [],
   "source": [
    "# keep only rows when pulmonary edema is 1 or -1,\n",
    "# and cardiomegaly is not 1\n",
    "correct_vals = (pulmonary_edema['Edema'].isin((1, -1))) & (pulmonary_edema['Cardiomegaly'] != 1)\n",
    "# also make sure neither edema nor cardiomegaly columns are na\n",
    "not_na = pulmonary_edema[['Cardiomegaly', 'Edema']].notna().all(axis=1)\n",
    "# filter by the above conditions\n",
    "pulmonary_edema = pulmonary_edema.loc[correct_vals & not_na]\n",
    "# and merge in the following columns from cohort\n",
    "pulmonary_edema = pulmonary_edema.merge(\n",
    "    cohort[['subject_id', 'hadm_id', 'stay_id', 'intime', 'outtime']])"
   ]
  },
  {
   "cell_type": "code",
   "execution_count": 18,
   "metadata": {},
   "outputs": [],
   "source": [
    "# convert various time columns to pandas datetime objects\n",
    "for col in ('charttime', 'intime', 'outtime'):\n",
    "    pulmonary_edema[col] = pd.to_datetime(pulmonary_edema[col])\n",
    "\n",
    "# create new columns tracking duration between charttime and intime, and outtime and intime\n",
    "pulmonary_edema['charthour'] = pulmonary_edema['charttime'] - pulmonary_edema['intime']\n",
    "pulmonary_edema['outhour'] = pulmonary_edema['outtime'] - pulmonary_edema['intime']\n",
    "\n",
    "# only include records where charthour < outhour\n",
    "pulmonary_edema = pulmonary_edema.loc[pulmonary_edema['charthour'] < pulmonary_edema['outhour']]"
   ]
  },
  {
   "cell_type": "code",
   "execution_count": 19,
   "metadata": {},
   "outputs": [],
   "source": [
    "# create new table tracking only essential values\n",
    "# from pulmonary_edema\n",
    "edema_df = pulmonary_edema.loc[:, ['stay_id', 'charthour', 'Edema']]\n",
    "# group by stay_id and edema, and take the minimum value for each group\n",
    "edema_df = edema_df.groupby(['stay_id', 'Edema']).min().reset_index()"
   ]
  },
  {
   "cell_type": "code",
   "execution_count": 20,
   "metadata": {},
   "outputs": [],
   "source": [
    "# convert charthour to an array of ints\n",
    "# counting the total hours the timedelta represents\n",
    "edema_df['charthour'] = (edema_df['charthour']\n",
    "    .dt.ceil(freq='H')\n",
    "    .dt.total_seconds()\n",
    "    / 3600\n",
    ").astype(int)\n",
    "# then set all negative values to 1\n",
    "edema_df['hour'] = np.maximum(1, edema_df['charthour'])"
   ]
  },
  {
   "cell_type": "code",
   "execution_count": 21,
   "metadata": {},
   "outputs": [],
   "source": [
    "# ok i have no idea why we do this, but\n",
    "# set all values for pulmonary_edema to 1 ??\n",
    "edema_df['Edema'] = 1\n",
    "\n",
    "# then merge in the data into our main dataframe\n",
    "edema_df.rename({'Edema': 'pulmonary_edema'}, axis=1, inplace=True)\n",
    "df = df.merge(edema_df[['stay_id', 'hour', 'pulmonary_edema']], how='left')\n",
    "\n",
    "# set all na values to zero\n",
    "df['pulmonary_edema'].fillna(0, inplace=True)\n",
    "\n",
    "# then set the values at each intermediate time point to be\n",
    "# the cumulative number of timesteps where pulmonary_edema was true\n",
    "df['pulmonary_edema'] = df.groupby('stay_id')['pulmonary_edema'].cumsum()"
   ]
  },
  {
   "cell_type": "code",
   "execution_count": 22,
   "metadata": {},
   "outputs": [],
   "source": [
    "# define another subset of patients: those with ards\n",
    "ards_criteria = (df['pao2fio2ratio'] <= 300) & (df['pulmonary_edema'] == 1)\n",
    "ards_pats = df.loc[ards_criteria, 'stay_id'].unique()"
   ]
  },
  {
   "cell_type": "code",
   "execution_count": 23,
   "metadata": {},
   "outputs": [],
   "source": [
    "# now that we have our pulmonary edema data,\n",
    "# we'll add it to our covariates list\n",
    "weaning_predictors.append('pulmonary_edema')\n",
    "\n",
    "# save the processed data\n",
    "df.to_csv('processed_data.csv')"
   ]
  },
  {
   "cell_type": "markdown",
   "metadata": {},
   "source": [
    "### Fit weaning predictor\n",
    "The final step before modeling is to define our training data. \n",
    "\n",
    "For context, any commented-out code in the following cells represents what was/would be run had the notebook used the full dataframe instead of a sampled dataframe."
   ]
  },
  {
   "cell_type": "code",
   "execution_count": 24,
   "metadata": {},
   "outputs": [],
   "source": [
    "MODEL_PARAMS = {\n",
    "    'penalty': 'l2',\n",
    "    'max_iter': 2000,\n",
    "}\n",
    "# Dataframe checkpoint (loading in full processed dataset)\n",
    "df = pd.read_csv('processed_data.csv')\n",
    "\n",
    "X = df.loc[:, weaning_predictors]\n",
    "y = df['weaning']\n",
    "\n",
    "# Encode string/object columns as integers\n",
    "for col in X.select_dtypes(include='object'):\n",
    "    X[col] = LabelEncoder().fit_transform(X[col])"
   ]
  },
  {
   "cell_type": "code",
   "execution_count": 25,
   "metadata": {},
   "outputs": [],
   "source": [
    "weaning_predictor = LogisticRegression(**MODEL_PARAMS).fit(X, y)\n",
    "\n",
    "with open('models/weaning_predictor.pkl', 'wb') as f:\n",
    "    pickle.dump(weaning_predictor, f)"
   ]
  },
  {
   "cell_type": "code",
   "execution_count": 26,
   "metadata": {},
   "outputs": [
    {
     "data": {
      "image/png": "[encoded data removed]",
      "text/plain": [
       "<Figure size 432x288 with 1 Axes>"
      ]
     },
     "metadata": {
      "needs_background": "light"
     },
     "output_type": "display_data"
    }
   ],
   "source": [
    "# Model checkpoint\n",
    "with open('models/weaning_predictor.pkl', 'rb') as f:\n",
    "    weaning_predictor = pickle.load(f)\n",
    "\n",
    "# create a calibration curve\n",
    "df['p_hat'] = weaning_predictor.predict_proba(X)[:, 1]\n",
    "\n",
    "calibration_curve(\n",
    "    df, 'p_hat', 'weaning', 'Logistic Regression Calibration Curve', \n",
    "    filename='logistic_reg_calibration.png'\n",
    "    )"
   ]
  },
  {
   "cell_type": "markdown",
   "metadata": {},
   "source": [
    "Train a calibrated regressor since the above graph shows that the current predictor is poorly calibrated."
   ]
  },
  {
   "cell_type": "code",
   "execution_count": 27,
   "metadata": {},
   "outputs": [],
   "source": [
    "calibrated_predictor = CalibratedClassifierCV(\n",
    "    base_estimator=LogisticRegression(**MODEL_PARAMS),\n",
    "    method='isotonic'\n",
    "    ).fit(X, y)\n",
    "\n",
    "with open('models/calibrated_predictor.pkl', 'wb') as f:\n",
    "    pickle.dump(calibrated_predictor, f)"
   ]
  },
  {
   "cell_type": "code",
   "execution_count": 28,
   "metadata": {},
   "outputs": [
    {
     "data": {
      "image/png": "[encoded data removed]",
      "text/plain": [
       "<Figure size 432x288 with 1 Axes>"
      ]
     },
     "metadata": {
      "needs_background": "light"
     },
     "output_type": "display_data"
    }
   ],
   "source": [
    "# Model checkpoint\n",
    "with open('models/calibrated_predictor.pkl', 'rb') as f:\n",
    "    calibrated_predictor = pickle.load(f)\n",
    "\n",
    "df['propensity_score'] = calibrated_predictor.predict_proba(X)[:, 1]\n",
    "\n",
    "calibration_curve(\n",
    "    df, 'propensity_score', 'weaning', 'Isotonic Logistic Regression Calibration Curve',\n",
    "    filename='isoreg_calibration.png'\n",
    "    )"
   ]
  },
  {
   "cell_type": "markdown",
   "metadata": {},
   "source": [
    "Since we'll be performing subgroup analyses later, we'll fit individual weaning predictors on each subset we defined above."
   ]
  },
  {
   "cell_type": "code",
   "execution_count": 29,
   "metadata": {},
   "outputs": [],
   "source": [
    "# def train_model(df_subset) -> CalibratedClassifierCV:\n",
    "#     X_subset = df_subset.loc[:, weaning_predictors]\n",
    "#     y_subset = df_subset['weaning']\n",
    "#     for col in X_subset.select_dtypes(include='object'):\n",
    "#         X_subset[col] = LabelEncoder().fit_transform(X_subset[col])\n",
    "    \n",
    "#     return CalibratedClassifierCV(\n",
    "#         base_estimator=LogisticRegression(**MODEL_PARAMS),\n",
    "#         method='isotonic'\n",
    "#     ).fit(X_subset, y_subset)\n",
    "\n",
    "# model_pf = train_model(data_pf)\n",
    "# model_pf_high = train_model(data_pf_high)\n",
    "# model_sofa = train_model(data_sofa)\n",
    "# model_sofa_low = train_model(data_sofa_low)\n",
    "# model_ards = train_model(data_ards)"
   ]
  },
  {
   "cell_type": "markdown",
   "metadata": {},
   "source": [
    "### Effect estimation\n",
    "With our well-calibrated model for the probability of weaning, we can now estimate the causal effect of incrementing this propensity score. To do so, there are four major steps:\n",
    "\n",
    "1. Construct time-dependent weights W_t for each subject and timepoint\n",
    "2. Calculate the cumulative weight for each subject across all timepoints\n",
    "3. Multiply each cumulative weight by the outcome\n",
    "4. Take the average of these products to estimate the mean counterfactual outcome\n",
    "\n",
    "Since we have multiple outcomes of interest, we first calculate the cumulative weights and later multiply them by each outcome."
   ]
  },
  {
   "cell_type": "code",
   "execution_count": 30,
   "metadata": {},
   "outputs": [],
   "source": [
    "# round to remove floating point errors\n",
    "DELTAS = np.around(np.arange(0.5, 2.1, 0.1), decimals=1)\n",
    "\n",
    "def cumulative_weights(data, truncated=True, propensity_col: str = 'propensity_score'):\n",
    "    \"\"\"\n",
    "    For each value of delta, calculate weights for each patient using the given\n",
    "    propensity scores.\n",
    "    \"\"\"\n",
    "    weights = {}\n",
    "    for delta in DELTAS:\n",
    "        A = data['weaning']\n",
    "        pi_hat = data[propensity_col]\n",
    "        weight_col = f'weights_d{delta}'\n",
    "        # construct time-dependent weights for each subject at each timepoint\n",
    "        data.loc[:, weight_col] = (\n",
    "            ((delta * A) + 1 - A) /\n",
    "            ((delta * pi_hat) + 1 - pi_hat)\n",
    "        )\n",
    "        # calculate cumulative product of weights\n",
    "        cumulative_products = group_by_stay(data, weight_col).prod()\n",
    "        # truncate cumulative weights at the 99th percentile\n",
    "        if truncated:\n",
    "            max_val = cumulative_products.quantile(q=0.99)\n",
    "            cumulative_products = np.minimum(cumulative_products, max_val)\n",
    "        # save the weights\n",
    "        weights[delta] = cumulative_products\n",
    "    return weights"
   ]
  },
  {
   "cell_type": "code",
   "execution_count": 31,
   "metadata": {},
   "outputs": [],
   "source": [
    "# calculate the overall weights\n",
    "weights = cumulative_weights(df)\n",
    "\n",
    "# now breakdown by subgroup\n",
    "def weights_by_subgroup(stay_ids):\n",
    "    return {delta: col[stay_ids] for delta, col in weights.items()}\n",
    "\n",
    "weights_pf = weights_by_subgroup(low_pfratio_pats)\n",
    "weights_pf_high = weights_by_subgroup(high_pfratio_pats)\n",
    "weights_sofa = weights_by_subgroup(high_sofa_pats)\n",
    "weights_sofa_low = weights_by_subgroup(low_sofa_pats)\n",
    "weights_ards = weights_by_subgroup(ards_pats)"
   ]
  },
  {
   "cell_type": "markdown",
   "metadata": {},
   "source": [
    "First, examine the impact on time until weaning. The goal of this analysis is to make sure that our incremental interventions actually affect the counterfactual time until weaning for a given patient."
   ]
  },
  {
   "cell_type": "code",
   "execution_count": 32,
   "metadata": {},
   "outputs": [],
   "source": [
    "# time until weaning outcome\n",
    "grouped = group_by_stay(df, 'weaning')\n",
    "df['time_until_wean'] = (grouped\n",
    "    # Apply the .max() and .size() functions to the weaning groups\n",
    "    # This determines 1. whether weaning occured\n",
    "    # and 2. the number of hours at which weaning began (if it did)\n",
    "    .agg(['max', 'size'])\n",
    "    # If weaning did occur, return the number of hours after baseline with it occured\n",
    "    # Otherwise, we set the value to 720 hours\n",
    "    .apply(lambda row: row['size'] if row['max'] else 720, axis=1)\n",
    "    # Repeat rows to ensure the size of the array matches what's in the dataframe\n",
    "    .repeat(grouped.size())\n",
    "    # Reset index so column can be inserted into the dataframe properly\n",
    "    .reset_index(drop=True)\n",
    ")"
   ]
  },
  {
   "cell_type": "markdown",
   "metadata": {},
   "source": [
    "Define a helper function to calculate our estimates given a set of cumulative weights and a given outcome."
   ]
  },
  {
   "cell_type": "code",
   "execution_count": 33,
   "metadata": {},
   "outputs": [],
   "source": [
    "def calculate_estimates(weights, outcome):\n",
    "    \"\"\"\n",
    "    Estimate the effect on the given outcome of intervening on weawning.\n",
    "    \"\"\"\n",
    "    if isinstance(outcome, pd.core.groupby.generic.SeriesGroupBy):\n",
    "        outcome = outcome.first()\n",
    "    results = {}\n",
    "    for delta in DELTAS:\n",
    "        # multiply by outcome\n",
    "        weighted_products = weights[delta].multiply(outcome)\n",
    "        # average over subjects and add to results\n",
    "        results[delta] = weighted_products.mean()\n",
    "    return results"
   ]
  },
  {
   "cell_type": "code",
   "execution_count": 34,
   "metadata": {},
   "outputs": [
    {
     "name": "stdout",
     "output_type": "stream",
     "text": [
      "{0.5: 73.17804449216197,\n",
      " 0.6: 65.84771945407431,\n",
      " 0.7: 59.116308042511676,\n",
      " 0.8: 53.24077883791837,\n",
      " 0.9: 48.25067452639452,\n",
      " 1.0: 44.05771559262774,\n",
      " 1.1: 40.21565674731608,\n",
      " 1.2: 37.22467854882971,\n",
      " 1.3: 34.76077641841339,\n",
      " 1.4: 32.66538157361617,\n",
      " 1.5: 30.847460733613048,\n",
      " 1.6: 29.247992328081157,\n",
      " 1.7: 27.82550949893563,\n",
      " 1.8: 26.549351828072524,\n",
      " 1.9: 25.396068061869638,\n",
      " 2.0: 24.347280958565097}\n"
     ]
    }
   ],
   "source": [
    "wean_times_results = calculate_estimates(weights, group_by_stay(df, 'time_until_wean'))\n",
    "pprint(wean_times_results)"
   ]
  },
  {
   "cell_type": "markdown",
   "metadata": {},
   "source": [
    "Now, get the results for each subgroup."
   ]
  },
  {
   "cell_type": "code",
   "execution_count": 35,
   "metadata": {},
   "outputs": [],
   "source": [
    "# for convenience, name each subgroup\n",
    "# (the groups are constant so this won't cause problems)\n",
    "SUBGROUPS = (\n",
    "    {  \n",
    "        'SOFA >= 12': high_sofa_pats,\n",
    "        'SOFA <= 5': low_sofa_pats,\n",
    "    },\n",
    "    {\n",
    "        'PaO2/FiO2 Ratio <= 150': low_pfratio_pats,\n",
    "        'PaO2/FiO2 Ratio >= 300': high_pfratio_pats,\n",
    "    }\n",
    ")\n",
    "\n",
    "def get_subgroup_results(data: pd.DataFrame, outcome_col: str):\n",
    "    \"\"\"\n",
    "    Given a dataframe with the stay_id column and a specified outcome column,\n",
    "    return a dictionary of the results broken down by each subgroup.\n",
    "    \"\"\"\n",
    "    results = {}\n",
    "    groups = {**SUBGROUPS[0], **SUBGROUPS[1]}\n",
    "    for name, pats in groups.items():\n",
    "        subgroup_weights = weights_by_subgroup(pats)\n",
    "        subgroup_data = data.loc[data['stay_id'].isin(pats)]\n",
    "        outcome = group_by_stay(subgroup_data, outcome_col)\n",
    "        results[name] = calculate_estimates(subgroup_weights, outcome)\n",
    "    return results\n",
    "\n",
    "wean_times_subgroup_results = get_subgroup_results(df, 'time_until_wean')"
   ]
  },
  {
   "cell_type": "code",
   "execution_count": 36,
   "metadata": {},
   "outputs": [],
   "source": [
    "def display_results(title, ylabel, cohort_results, subgroup_results, filename=''):\n",
    "    fig, axs = plt.subplots(nrows=2, ncols=1, figsize=(10, 10))\n",
    "    for grps, ax in zip(SUBGROUPS, axs):\n",
    "        # plot full cohort data on each subplot\n",
    "        ax.scatter(cohort_results.keys(), cohort_results.values(), color='black', label='Full cohort')\n",
    "        # then plot sofa on ax[0] and pf on ax[1]\n",
    "        for name in grps:\n",
    "            ax.scatter(\n",
    "                subgroup_results[name].keys(),\n",
    "                subgroup_results[name].values(),\n",
    "                label=name\n",
    "                )\n",
    "        # now for cosmetics\n",
    "        ax.set_title(title)\n",
    "        ax.set_xlabel('Delta')\n",
    "        ax.set_ylabel(ylabel)\n",
    "        # add a vertical line at x = 1 to each plot\n",
    "        ax.axvline(1, color='grey', alpha=0.5)\n",
    "        # and a legend\n",
    "        ax.legend()\n",
    "    \n",
    "    if filename:\n",
    "        plt.savefig(f'images/{filename}.png', facecolor='white')\n",
    "    \n",
    "    plt.show()"
   ]
  },
  {
   "cell_type": "code",
   "execution_count": 37,
   "metadata": {},
   "outputs": [
    {
     "data": {
      "image/png": "[encoded data removed]",
      "text/plain": [
       "<Figure size 720x720 with 2 Axes>"
      ]
     },
     "metadata": {
      "needs_background": "light"
     },
     "output_type": "display_data"
    }
   ],
   "source": [
    "display_results(\n",
    "    'Counterfactual Time to First Attempt Under Incremental Interventions',\n",
    "    'Hours to First Liberation Attempt',\n",
    "    wean_times_results,\n",
    "    wean_times_subgroup_results,\n",
    "    'wean_times'\n",
    ")"
   ]
  },
  {
   "cell_type": "markdown",
   "metadata": {},
   "source": [
    "Next, calculate the effect on mortality."
   ]
  },
  {
   "cell_type": "code",
   "execution_count": 38,
   "metadata": {},
   "outputs": [
    {
     "name": "stdout",
     "output_type": "stream",
     "text": [
      "{0.5: 0.33519454698033735,\n",
      " 0.6: 0.3373248962201278,\n",
      " 0.7: 0.33730234644058643,\n",
      " 0.8: 0.336488820414818,\n",
      " 0.9: 0.33554249734297764,\n",
      " 1.0: 0.33472353020314904,\n",
      " 1.1: 0.3337681044675111,\n",
      " 1.2: 0.33329447693110337,\n",
      " 1.3: 0.3330667012836953,\n",
      " 1.4: 0.33296851671825806,\n",
      " 1.5: 0.332935215521177,\n",
      " 1.6: 0.3329279216723524,\n",
      " 1.7: 0.33292241066739797,\n",
      " 1.8: 0.3329034404683114,\n",
      " 1.9: 0.33286156708116055,\n",
      " 2.0: 0.3327912110627911}\n"
     ]
    }
   ],
   "source": [
    "mortality_results = calculate_estimates(weights, group_by_stay(df, 'hospital_expire_flag'))\n",
    "mortality_subgroup_results = get_subgroup_results(df, 'hospital_expire_flag')\n",
    "\n",
    "pprint(mortality_results)"
   ]
  },
  {
   "cell_type": "code",
   "execution_count": 39,
   "metadata": {},
   "outputs": [
    {
     "data": {
      "image/png": "[encoded data removed]",
      "text/plain": [
       "<Figure size 720x720 with 2 Axes>"
      ]
     },
     "metadata": {
      "needs_background": "light"
     },
     "output_type": "display_data"
    }
   ],
   "source": [
    "display_results(\n",
    "    'Counterfactual Mortality Rates Under Incremental Interventions',\n",
    "    'In-Hospital Mortality Rate',\n",
    "    mortality_results,\n",
    "    mortality_subgroup_results,\n",
    "    'mortality'\n",
    ")"
   ]
  },
  {
   "cell_type": "markdown",
   "metadata": {},
   "source": [
    "Now construct the ICU-free days outcome."
   ]
  },
  {
   "cell_type": "code",
   "execution_count": 140,
   "metadata": {},
   "outputs": [],
   "source": [
    "# 1. find baseline time\n",
    "# 2. find how many days in the 30 days post-baseline the patient was alive and not in the icu\n",
    "# assumptions:\n",
    "#   if the patient didn't die in a hospital stay, they didn't die\n",
    "#   if they died in hospital, assume discharge time is time of death\n",
    "\n",
    "# make sure dtypes agree\n",
    "df['baseline_time'] = pd.to_datetime(df['baseline_time'])\n",
    "\n",
    "for time_col in ('intime', 'outtime', 'deathtime'):\n",
    "    cohort[time_col] = pd.to_datetime(cohort[time_col])\n",
    "\n",
    "# Merge dataframe containing in and out time\n",
    "baseline_hour_df = cohort.loc[\n",
    "    :, ['stay_id', 'intime', 'outtime', 'subject_id']\n",
    "    ].merge(\n",
    "        df.loc[df['hour_baseline'] == 1, ['stay_id', 'baseline_hour', 'baseline_time']]\n",
    "    )\n",
    "\n",
    "icu_duration_df = cohort.merge(\n",
    "    baseline_hour_df.loc[:, ['subject_id', 'baseline_time']].drop_duplicates()\n",
    "    )"
   ]
  },
  {
   "cell_type": "code",
   "execution_count": 41,
   "metadata": {},
   "outputs": [],
   "source": [
    "icu_duration_df['max_time'] = icu_duration_df['baseline_time'] + pd.Timedelta(30, unit=\"days\")\n",
    "# remove ones where outtime <= baseline_time\n",
    "icu_duration_df = icu_duration_df.loc[icu_duration_df['outtime'] > icu_duration_df['baseline_time']]\n",
    "# remove rows with max_time <= intime\n",
    "icu_duration_df = icu_duration_df.loc[icu_duration_df['max_time'] > icu_duration_df['intime']]"
   ]
  },
  {
   "cell_type": "code",
   "execution_count": 42,
   "metadata": {},
   "outputs": [],
   "source": [
    "# Calculate duration of each stay\n",
    "icu_duration_df = icu_duration_df.sort_values('subject_id')\n",
    "stay_start = np.maximum(icu_duration_df['intime'], icu_duration_df['baseline_time'])\n",
    "stay_end = np.minimum(icu_duration_df['outtime'], icu_duration_df['max_time'])\n",
    "icu_duration_df['icu_stay_durations'] = stay_end - stay_start"
   ]
  },
  {
   "cell_type": "code",
   "execution_count": 43,
   "metadata": {},
   "outputs": [],
   "source": [
    "icu_duration_df['death_day'] = icu_duration_df['deathtime'] - icu_duration_df['baseline_time']\n",
    "# fill all entries with deathtime before baseline_time with 0\n",
    "icu_duration_df.loc[icu_duration_df['death_day'] < pd.to_timedelta(0), 'death_day'] = pd.to_timedelta(0)\n",
    "# fill all entries with NaN deathtime with a dummy value\n",
    "icu_duration_df['death_day'].fillna(pd.Timedelta(100000, unit=\"days\"), inplace=True)"
   ]
  },
  {
   "cell_type": "code",
   "execution_count": 44,
   "metadata": {},
   "outputs": [],
   "source": [
    "max_val = pd.Timedelta(30, \"days\")\n",
    "icu_duration_df['max'] = icu_duration_df['death_day'].where(\n",
    "    icu_duration_df['death_day'] <= max_val, max_val\n",
    "    )\n",
    "max_df = icu_duration_df[['subject_id', 'max']].drop_duplicates()\n",
    "max_df = max_df.groupby('subject_id', as_index=False).min()"
   ]
  },
  {
   "cell_type": "code",
   "execution_count": 45,
   "metadata": {},
   "outputs": [],
   "source": [
    "duration_df = icu_duration_df.groupby('subject_id', as_index=False)['icu_stay_durations'].sum()"
   ]
  },
  {
   "cell_type": "code",
   "execution_count": 46,
   "metadata": {},
   "outputs": [],
   "source": [
    "icu_outcome_df = max_df.merge(duration_df)\n",
    "icu_outcome_df.rename(columns = {'icu_stay_durations' : 'icu_duration'}, inplace=True)"
   ]
  },
  {
   "cell_type": "code",
   "execution_count": 47,
   "metadata": {},
   "outputs": [],
   "source": [
    "# construct outcome column (take ceil of the time difference to the nearest day)\n",
    "icu_outcome_df['outcome'] = (icu_outcome_df['max'] - icu_outcome_df['icu_duration']).dt.ceil('d')\n",
    "# and convert to an int\n",
    "icu_outcome_df['outcome'] = icu_outcome_df['outcome'].dt.days\n",
    "# merge with subjects to get stay id\n",
    "icu_outcome_df = icu_outcome_df.merge(subjects[['subject_id', 'stay_id']])\n",
    "icu_outcome_df.sort_values('stay_id', inplace=True)"
   ]
  },
  {
   "cell_type": "markdown",
   "metadata": {},
   "source": [
    "Calculate estimates!"
   ]
  },
  {
   "cell_type": "code",
   "execution_count": 48,
   "metadata": {},
   "outputs": [],
   "source": [
    "icu_free_days_results = calculate_estimates(weights, group_by_stay(icu_outcome_df, 'outcome'))\n",
    "icu_free_days_subgroup_results = get_subgroup_results(icu_outcome_df, 'outcome')"
   ]
  },
  {
   "cell_type": "code",
   "execution_count": 49,
   "metadata": {},
   "outputs": [
    {
     "data": {
      "image/png": "[encoded data removed]",
      "text/plain": [
       "<Figure size 720x720 with 2 Axes>"
      ]
     },
     "metadata": {
      "needs_background": "light"
     },
     "output_type": "display_data"
    }
   ],
   "source": [
    "display_results(\n",
    "    'Counterfactual ICU Free Days Under Incremental Interventions',\n",
    "    'ICU Free Days',\n",
    "    icu_free_days_results,\n",
    "    icu_free_days_subgroup_results,\n",
    "    filename='icufreedays'\n",
    ")"
   ]
  },
  {
   "cell_type": "markdown",
   "metadata": {},
   "source": [
    "Next, we'll analyze the impact on ventilator-free days."
   ]
  },
  {
   "cell_type": "code",
   "execution_count": 141,
   "metadata": {},
   "outputs": [],
   "source": [
    "vent = pd.read_csv('ventilator.csv')"
   ]
  },
  {
   "cell_type": "code",
   "execution_count": 142,
   "metadata": {},
   "outputs": [],
   "source": [
    "vent_duration_df = vent.merge(baseline_hour_df[['stay_id', 'subject_id', 'baseline_time']])\n",
    "vent_duration_df = vent_duration_df.loc[vent_duration_df['ventilation_status'].isin((\"InvasiveVent\", \"Trach\"))]\n",
    "vent_duration_df['max_time'] = vent_duration_df['baseline_time'] + pd.Timedelta(30, \"days\")"
   ]
  },
  {
   "cell_type": "code",
   "execution_count": 143,
   "metadata": {},
   "outputs": [],
   "source": [
    "# convert endtime + max_time + starttime to datetime columns\n",
    "for time_col in ('starttime', 'endtime'):\n",
    "    vent_duration_df[time_col] = pd.to_datetime(vent_duration_df[time_col])"
   ]
  },
  {
   "cell_type": "code",
   "execution_count": 144,
   "metadata": {},
   "outputs": [],
   "source": [
    "# remove rows with endtime <= baseline_time\n",
    "vent_duration_df = vent_duration_df[vent_duration_df['endtime'] > vent_duration_df['baseline_time']]\n",
    "vent_duration_df = vent_duration_df[vent_duration_df['max_time'] > vent_duration_df['starttime']]\n",
    "\n",
    "# the ceil function rounds up to the nearest day, then use the dt.days accessor to convert to an integer\n",
    "vent_duration_df['startday'] = (vent_duration_df['starttime'] - vent_duration_df['baseline_time']).dt.ceil('D').dt.days\n",
    "vent_duration_df['endday'] = (vent_duration_df['endtime'] - vent_duration_df['baseline_time']).dt.ceil('D').dt.days\n",
    "\n",
    "# min startday at 1\n",
    "vent_duration_df.loc[vent_duration_df['startday'] < 1, 'startday'] = 1\n",
    "# cap endday at 30\n",
    "vent_duration_df.loc[vent_duration_df['endday'] > 30, 'endday'] = 30\n",
    "\n",
    "# add 1 to endday inside the arange function to include the endpoint\n",
    "vent_duration_df['vent_days'] = vent_duration_df.apply(lambda r: np.arange(r['startday'], r['endday'] + 1), axis=1)\n",
    "\n",
    "death_cohort = cohort[~cohort['deathtime'].isna()]\n",
    "\n",
    "baseline_hour_df = baseline_hour_df.merge(death_cohort[['subject_id', 'deathtime']].drop_duplicates(), how='left')\n",
    "baseline_hour_df['deathtime'] = pd.to_datetime(baseline_hour_df['deathtime'])\n",
    "# LOOK INTO DEATH_DAY WTF\n",
    "baseline_hour_df['death_day'] = (baseline_hour_df['deathtime'] - baseline_hour_df['baseline_time']).dt.ceil('D').dt.days\n",
    "# min death_day at 1\n",
    "baseline_hour_df.loc[baseline_hour_df['death_day'] < 1, 'death_day'] = 1\n",
    "baseline_hour_df['death_day'].fillna(10000000, inplace=True)"
   ]
  },
  {
   "cell_type": "code",
   "execution_count": 122,
   "metadata": {},
   "outputs": [
    {
     "data": {
      "text/html": [
       "<div>\n",
       "<style scoped>\n",
       "    .dataframe tbody tr th:only-of-type {\n",
       "        vertical-align: middle;\n",
       "    }\n",
       "\n",
       "    .dataframe tbody tr th {\n",
       "        vertical-align: top;\n",
       "    }\n",
       "\n",
       "    .dataframe thead th {\n",
       "        text-align: right;\n",
       "    }\n",
       "</style>\n",
       "<table border=\"1\" class=\"dataframe\">\n",
       "  <thead>\n",
       "    <tr style=\"text-align: right;\">\n",
       "      <th></th>\n",
       "      <th>stay_id</th>\n",
       "      <th>intime</th>\n",
       "      <th>outtime</th>\n",
       "      <th>subject_id</th>\n",
       "      <th>baseline_hour</th>\n",
       "      <th>baseline_time</th>\n",
       "      <th>deathtime</th>\n",
       "      <th>death_day</th>\n",
       "      <th>vent_days</th>\n",
       "      <th>death_days</th>\n",
       "    </tr>\n",
       "  </thead>\n",
       "  <tbody>\n",
       "    <tr>\n",
       "      <th>4</th>\n",
       "      <td>32190274</td>\n",
       "      <td>2166-02-27 00:03:44</td>\n",
       "      <td>2166-03-04 06:36:21</td>\n",
       "      <td>11190732</td>\n",
       "      <td>31</td>\n",
       "      <td>2166-02-28 07:03:44</td>\n",
       "      <td>2166-03-04 12:30:00</td>\n",
       "      <td>5.0</td>\n",
       "      <td>NaN</td>\n",
       "      <td>[5.0, 6.0, 7.0, 8.0, 9.0, 10.0, 11.0, 12.0, 13...</td>\n",
       "    </tr>\n",
       "    <tr>\n",
       "      <th>341</th>\n",
       "      <td>36693551</td>\n",
       "      <td>2165-10-27 12:06:00</td>\n",
       "      <td>2165-11-11 14:51:37</td>\n",
       "      <td>11517178</td>\n",
       "      <td>259</td>\n",
       "      <td>2165-11-07 07:06:00</td>\n",
       "      <td>NaT</td>\n",
       "      <td>10000000.0</td>\n",
       "      <td>NaN</td>\n",
       "      <td>[]</td>\n",
       "    </tr>\n",
       "    <tr>\n",
       "      <th>386</th>\n",
       "      <td>30023204</td>\n",
       "      <td>2124-07-09 16:43:55</td>\n",
       "      <td>2124-07-13 15:26:02</td>\n",
       "      <td>18738693</td>\n",
       "      <td>72</td>\n",
       "      <td>2124-07-12 16:43:55</td>\n",
       "      <td>NaT</td>\n",
       "      <td>10000000.0</td>\n",
       "      <td>NaN</td>\n",
       "      <td>[]</td>\n",
       "    </tr>\n",
       "    <tr>\n",
       "      <th>406</th>\n",
       "      <td>31524880</td>\n",
       "      <td>2166-03-26 11:18:04</td>\n",
       "      <td>2166-03-28 13:14:35</td>\n",
       "      <td>13911932</td>\n",
       "      <td>25</td>\n",
       "      <td>2166-03-27 12:18:04</td>\n",
       "      <td>NaT</td>\n",
       "      <td>10000000.0</td>\n",
       "      <td>NaN</td>\n",
       "      <td>[]</td>\n",
       "    </tr>\n",
       "    <tr>\n",
       "      <th>587</th>\n",
       "      <td>33318703</td>\n",
       "      <td>2123-05-11 11:05:49</td>\n",
       "      <td>2123-05-13 15:16:58</td>\n",
       "      <td>16685152</td>\n",
       "      <td>49</td>\n",
       "      <td>2123-05-13 12:05:49</td>\n",
       "      <td>NaT</td>\n",
       "      <td>10000000.0</td>\n",
       "      <td>NaN</td>\n",
       "      <td>[]</td>\n",
       "    </tr>\n",
       "    <tr>\n",
       "      <th>...</th>\n",
       "      <td>...</td>\n",
       "      <td>...</td>\n",
       "      <td>...</td>\n",
       "      <td>...</td>\n",
       "      <td>...</td>\n",
       "      <td>...</td>\n",
       "      <td>...</td>\n",
       "      <td>...</td>\n",
       "      <td>...</td>\n",
       "      <td>...</td>\n",
       "    </tr>\n",
       "    <tr>\n",
       "      <th>7298</th>\n",
       "      <td>37671180</td>\n",
       "      <td>2147-01-13 15:26:21</td>\n",
       "      <td>2147-01-15 02:11:40</td>\n",
       "      <td>11441218</td>\n",
       "      <td>29</td>\n",
       "      <td>2147-01-14 20:26:21</td>\n",
       "      <td>2147-01-15 22:25:00</td>\n",
       "      <td>2.0</td>\n",
       "      <td>NaN</td>\n",
       "      <td>[2.0, 3.0, 4.0, 5.0, 6.0, 7.0, 8.0, 9.0, 10.0,...</td>\n",
       "    </tr>\n",
       "    <tr>\n",
       "      <th>7363</th>\n",
       "      <td>33636897</td>\n",
       "      <td>2140-05-21 19:48:55</td>\n",
       "      <td>2140-05-24 17:10:44</td>\n",
       "      <td>11802843</td>\n",
       "      <td>25</td>\n",
       "      <td>2140-05-22 20:48:55</td>\n",
       "      <td>NaT</td>\n",
       "      <td>10000000.0</td>\n",
       "      <td>NaN</td>\n",
       "      <td>[]</td>\n",
       "    </tr>\n",
       "    <tr>\n",
       "      <th>7371</th>\n",
       "      <td>34330521</td>\n",
       "      <td>2142-10-22 03:31:11</td>\n",
       "      <td>2142-10-31 16:02:45</td>\n",
       "      <td>10388043</td>\n",
       "      <td>32</td>\n",
       "      <td>2142-10-23 11:31:11</td>\n",
       "      <td>2142-10-31 15:15:00</td>\n",
       "      <td>9.0</td>\n",
       "      <td>NaN</td>\n",
       "      <td>[9.0, 10.0, 11.0, 12.0, 13.0, 14.0, 15.0, 16.0...</td>\n",
       "    </tr>\n",
       "    <tr>\n",
       "      <th>7396</th>\n",
       "      <td>36321418</td>\n",
       "      <td>2166-07-28 15:17:00</td>\n",
       "      <td>2166-08-02 11:29:14</td>\n",
       "      <td>17049635</td>\n",
       "      <td>57</td>\n",
       "      <td>2166-07-31 00:17:00</td>\n",
       "      <td>2167-03-03 06:45:00</td>\n",
       "      <td>216.0</td>\n",
       "      <td>NaN</td>\n",
       "      <td>[]</td>\n",
       "    </tr>\n",
       "    <tr>\n",
       "      <th>7430</th>\n",
       "      <td>39403976</td>\n",
       "      <td>2174-09-17 03:12:00</td>\n",
       "      <td>2174-09-25 17:06:33</td>\n",
       "      <td>18137328</td>\n",
       "      <td>25</td>\n",
       "      <td>2174-09-18 04:12:00</td>\n",
       "      <td>NaT</td>\n",
       "      <td>10000000.0</td>\n",
       "      <td>NaN</td>\n",
       "      <td>[]</td>\n",
       "    </tr>\n",
       "  </tbody>\n",
       "</table>\n",
       "<p>114 rows × 10 columns</p>\n",
       "</div>"
      ],
      "text/plain": [
       "       stay_id              intime             outtime  subject_id  \\\n",
       "4     32190274 2166-02-27 00:03:44 2166-03-04 06:36:21    11190732   \n",
       "341   36693551 2165-10-27 12:06:00 2165-11-11 14:51:37    11517178   \n",
       "386   30023204 2124-07-09 16:43:55 2124-07-13 15:26:02    18738693   \n",
       "406   31524880 2166-03-26 11:18:04 2166-03-28 13:14:35    13911932   \n",
       "587   33318703 2123-05-11 11:05:49 2123-05-13 15:16:58    16685152   \n",
       "...        ...                 ...                 ...         ...   \n",
       "7298  37671180 2147-01-13 15:26:21 2147-01-15 02:11:40    11441218   \n",
       "7363  33636897 2140-05-21 19:48:55 2140-05-24 17:10:44    11802843   \n",
       "7371  34330521 2142-10-22 03:31:11 2142-10-31 16:02:45    10388043   \n",
       "7396  36321418 2166-07-28 15:17:00 2166-08-02 11:29:14    17049635   \n",
       "7430  39403976 2174-09-17 03:12:00 2174-09-25 17:06:33    18137328   \n",
       "\n",
       "      baseline_hour       baseline_time           deathtime   death_day  \\\n",
       "4                31 2166-02-28 07:03:44 2166-03-04 12:30:00         5.0   \n",
       "341             259 2165-11-07 07:06:00                 NaT  10000000.0   \n",
       "386              72 2124-07-12 16:43:55                 NaT  10000000.0   \n",
       "406              25 2166-03-27 12:18:04                 NaT  10000000.0   \n",
       "587              49 2123-05-13 12:05:49                 NaT  10000000.0   \n",
       "...             ...                 ...                 ...         ...   \n",
       "7298             29 2147-01-14 20:26:21 2147-01-15 22:25:00         2.0   \n",
       "7363             25 2140-05-22 20:48:55                 NaT  10000000.0   \n",
       "7371             32 2142-10-23 11:31:11 2142-10-31 15:15:00         9.0   \n",
       "7396             57 2166-07-31 00:17:00 2167-03-03 06:45:00       216.0   \n",
       "7430             25 2174-09-18 04:12:00                 NaT  10000000.0   \n",
       "\n",
       "     vent_days                                         death_days  \n",
       "4          NaN  [5.0, 6.0, 7.0, 8.0, 9.0, 10.0, 11.0, 12.0, 13...  \n",
       "341        NaN                                                 []  \n",
       "386        NaN                                                 []  \n",
       "406        NaN                                                 []  \n",
       "587        NaN                                                 []  \n",
       "...        ...                                                ...  \n",
       "7298       NaN  [2.0, 3.0, 4.0, 5.0, 6.0, 7.0, 8.0, 9.0, 10.0,...  \n",
       "7363       NaN                                                 []  \n",
       "7371       NaN  [9.0, 10.0, 11.0, 12.0, 13.0, 14.0, 15.0, 16.0...  \n",
       "7396       NaN                                                 []  \n",
       "7430       NaN                                                 []  \n",
       "\n",
       "[114 rows x 10 columns]"
      ]
     },
     "execution_count": 122,
     "metadata": {},
     "output_type": "execute_result"
    }
   ],
   "source": [
    "baseline_hour_df.loc[~baseline_hour_df['stay_id'].isin(vent_duration_df['stay_id'].unique())]"
   ]
  },
  {
   "cell_type": "code",
   "execution_count": 145,
   "metadata": {},
   "outputs": [],
   "source": [
    "patients = vent_duration_df['stay_id'].unique()\n",
    "\n",
    "# create a blank dataframe indexed by stay_id\n",
    "vent_days_df = pd.DataFrame(index=patients)\n",
    "vent_days_df.index.rename('stay_id', inplace=True)\n",
    "# create the outcome\n",
    "vent_days_df['vent_days'] = group_by_stay(vent_duration_df, 'vent_days').apply(lambda g: np.concatenate([entry for entry in g]))\n",
    "# reset the stay_id index to a column so it can be merged upon\n",
    "vent_days_df.reset_index(inplace=True)\n",
    "# merge it in\n",
    "baseline_hour_df = baseline_hour_df.merge(vent_days_df, on='stay_id', how='left')\n",
    "# replace NaN entries with an empty list\n",
    "baseline_hour_df['vent_days'] = baseline_hour_df['vent_days'].fillna('').apply(list) # first fill with '' bc lists cant be passed to fillna\n",
    "\n",
    "baseline_hour_df['death_days'] = baseline_hour_df.apply(lambda r: np.arange(r['death_day'], 31), axis=1)\n",
    "\n",
    "def get_vent_free_days(row):\n",
    "    \"\"\"Get the ventilator free days outcome for the given row.\"\"\"\n",
    "    days = np.concatenate((row['vent_days'], row['death_days']))\n",
    "    # remove duplicates\n",
    "    days = list(set(days))\n",
    "    # get the outcome\n",
    "    return 30 - len(days)\n",
    "\n",
    "baseline_hour_df['vent_free_days'] = baseline_hour_df.apply(get_vent_free_days, axis=1)\n",
    "\n",
    "baseline_hour_df.sort_values('stay_id', inplace=True)"
   ]
  },
  {
   "cell_type": "code",
   "execution_count": 134,
   "metadata": {},
   "outputs": [
    {
     "data": {
      "text/html": [
       "<div>\n",
       "<style scoped>\n",
       "    .dataframe tbody tr th:only-of-type {\n",
       "        vertical-align: middle;\n",
       "    }\n",
       "\n",
       "    .dataframe tbody tr th {\n",
       "        vertical-align: top;\n",
       "    }\n",
       "\n",
       "    .dataframe thead th {\n",
       "        text-align: right;\n",
       "    }\n",
       "</style>\n",
       "<table border=\"1\" class=\"dataframe\">\n",
       "  <thead>\n",
       "    <tr style=\"text-align: right;\">\n",
       "      <th></th>\n",
       "      <th>stay_id</th>\n",
       "      <th>starttime</th>\n",
       "      <th>endtime</th>\n",
       "      <th>ventilation_status</th>\n",
       "      <th>subject_id</th>\n",
       "      <th>baseline_time</th>\n",
       "      <th>max_time</th>\n",
       "      <th>startday</th>\n",
       "      <th>endday</th>\n",
       "      <th>vent_days</th>\n",
       "    </tr>\n",
       "  </thead>\n",
       "  <tbody>\n",
       "    <tr>\n",
       "      <th>26130</th>\n",
       "      <td>30006983</td>\n",
       "      <td>2159-11-10 05:00:00</td>\n",
       "      <td>2159-11-11 12:00:00</td>\n",
       "      <td>InvasiveVent</td>\n",
       "      <td>18756985</td>\n",
       "      <td>2159-10-13 18:56:42</td>\n",
       "      <td>2159-11-12 18:56:42</td>\n",
       "      <td>28</td>\n",
       "      <td>29</td>\n",
       "      <td>[28, 29]</td>\n",
       "    </tr>\n",
       "    <tr>\n",
       "      <th>26131</th>\n",
       "      <td>30006983</td>\n",
       "      <td>2159-10-12 18:00:00</td>\n",
       "      <td>2159-10-14 19:00:00</td>\n",
       "      <td>InvasiveVent</td>\n",
       "      <td>18756985</td>\n",
       "      <td>2159-10-13 18:56:42</td>\n",
       "      <td>2159-11-12 18:56:42</td>\n",
       "      <td>1</td>\n",
       "      <td>2</td>\n",
       "      <td>[1, 2]</td>\n",
       "    </tr>\n",
       "    <tr>\n",
       "      <th>26132</th>\n",
       "      <td>30006983</td>\n",
       "      <td>2159-10-31 15:00:00</td>\n",
       "      <td>2159-10-31 20:00:00</td>\n",
       "      <td>InvasiveVent</td>\n",
       "      <td>18756985</td>\n",
       "      <td>2159-10-13 18:56:42</td>\n",
       "      <td>2159-11-12 18:56:42</td>\n",
       "      <td>18</td>\n",
       "      <td>19</td>\n",
       "      <td>[18, 19]</td>\n",
       "    </tr>\n",
       "    <tr>\n",
       "      <th>26133</th>\n",
       "      <td>30006983</td>\n",
       "      <td>2159-10-17 17:00:00</td>\n",
       "      <td>2159-10-31 00:00:00</td>\n",
       "      <td>InvasiveVent</td>\n",
       "      <td>18756985</td>\n",
       "      <td>2159-10-13 18:56:42</td>\n",
       "      <td>2159-11-12 18:56:42</td>\n",
       "      <td>4</td>\n",
       "      <td>18</td>\n",
       "      <td>[4, 5, 6, 7, 8, 9, 10, 11, 12, 13, 14, 15, 16,...</td>\n",
       "    </tr>\n",
       "  </tbody>\n",
       "</table>\n",
       "</div>"
      ],
      "text/plain": [
       "        stay_id           starttime             endtime ventilation_status  \\\n",
       "26130  30006983 2159-11-10 05:00:00 2159-11-11 12:00:00       InvasiveVent   \n",
       "26131  30006983 2159-10-12 18:00:00 2159-10-14 19:00:00       InvasiveVent   \n",
       "26132  30006983 2159-10-31 15:00:00 2159-10-31 20:00:00       InvasiveVent   \n",
       "26133  30006983 2159-10-17 17:00:00 2159-10-31 00:00:00       InvasiveVent   \n",
       "\n",
       "       subject_id       baseline_time            max_time  startday  endday  \\\n",
       "26130    18756985 2159-10-13 18:56:42 2159-11-12 18:56:42        28      29   \n",
       "26131    18756985 2159-10-13 18:56:42 2159-11-12 18:56:42         1       2   \n",
       "26132    18756985 2159-10-13 18:56:42 2159-11-12 18:56:42        18      19   \n",
       "26133    18756985 2159-10-13 18:56:42 2159-11-12 18:56:42         4      18   \n",
       "\n",
       "                                               vent_days  \n",
       "26130                                           [28, 29]  \n",
       "26131                                             [1, 2]  \n",
       "26132                                           [18, 19]  \n",
       "26133  [4, 5, 6, 7, 8, 9, 10, 11, 12, 13, 14, 15, 16,...  "
      ]
     },
     "execution_count": 134,
     "metadata": {},
     "output_type": "execute_result"
    }
   ],
   "source": [
    "vent_duration_df.loc[vent_duration_df['stay_id'] == 30006983]"
   ]
  },
  {
   "cell_type": "code",
   "execution_count": 133,
   "metadata": {},
   "outputs": [
    {
     "data": {
      "text/html": [
       "<div>\n",
       "<style scoped>\n",
       "    .dataframe tbody tr th:only-of-type {\n",
       "        vertical-align: middle;\n",
       "    }\n",
       "\n",
       "    .dataframe tbody tr th {\n",
       "        vertical-align: top;\n",
       "    }\n",
       "\n",
       "    .dataframe thead th {\n",
       "        text-align: right;\n",
       "    }\n",
       "</style>\n",
       "<table border=\"1\" class=\"dataframe\">\n",
       "  <thead>\n",
       "    <tr style=\"text-align: right;\">\n",
       "      <th></th>\n",
       "      <th>stay_id</th>\n",
       "      <th>intime</th>\n",
       "      <th>outtime</th>\n",
       "      <th>subject_id</th>\n",
       "      <th>baseline_hour</th>\n",
       "      <th>baseline_time</th>\n",
       "      <th>deathtime</th>\n",
       "      <th>death_day</th>\n",
       "      <th>vent_days</th>\n",
       "      <th>death_days</th>\n",
       "      <th>vent_free_days</th>\n",
       "    </tr>\n",
       "  </thead>\n",
       "  <tbody>\n",
       "    <tr>\n",
       "      <th>5061</th>\n",
       "      <td>30003598</td>\n",
       "      <td>2189-04-14 20:27:25</td>\n",
       "      <td>2189-04-19 15:57:41</td>\n",
       "      <td>15332791</td>\n",
       "      <td>44</td>\n",
       "      <td>2189-04-16 16:27:25</td>\n",
       "      <td>NaT</td>\n",
       "      <td>10000000.0</td>\n",
       "      <td>[1]</td>\n",
       "      <td>[]</td>\n",
       "      <td>29</td>\n",
       "    </tr>\n",
       "    <tr>\n",
       "      <th>3325</th>\n",
       "      <td>30003749</td>\n",
       "      <td>2120-11-05 16:03:00</td>\n",
       "      <td>2120-11-07 08:19:44</td>\n",
       "      <td>12227720</td>\n",
       "      <td>27</td>\n",
       "      <td>2120-11-06 19:03:00</td>\n",
       "      <td>2120-11-07 03:41:00</td>\n",
       "      <td>1.0</td>\n",
       "      <td>[1]</td>\n",
       "      <td>[1.0, 2.0, 3.0, 4.0, 5.0, 6.0, 7.0, 8.0, 9.0, ...</td>\n",
       "      <td>0</td>\n",
       "    </tr>\n",
       "    <tr>\n",
       "      <th>3092</th>\n",
       "      <td>30004391</td>\n",
       "      <td>2153-09-05 13:12:00</td>\n",
       "      <td>2153-09-13 18:21:18</td>\n",
       "      <td>18730522</td>\n",
       "      <td>25</td>\n",
       "      <td>2153-09-06 14:12:00</td>\n",
       "      <td>NaT</td>\n",
       "      <td>10000000.0</td>\n",
       "      <td>[1, 2]</td>\n",
       "      <td>[]</td>\n",
       "      <td>28</td>\n",
       "    </tr>\n",
       "    <tr>\n",
       "      <th>4848</th>\n",
       "      <td>30006983</td>\n",
       "      <td>2159-10-12 03:56:42</td>\n",
       "      <td>2159-11-22 09:29:33</td>\n",
       "      <td>18756985</td>\n",
       "      <td>39</td>\n",
       "      <td>2159-10-13 18:56:42</td>\n",
       "      <td>2159-11-22 07:26:00</td>\n",
       "      <td>40.0</td>\n",
       "      <td>[28, 29]</td>\n",
       "      <td>[]</td>\n",
       "      <td>28</td>\n",
       "    </tr>\n",
       "    <tr>\n",
       "      <th>1340</th>\n",
       "      <td>30007565</td>\n",
       "      <td>2141-07-09 01:34:00</td>\n",
       "      <td>2141-07-27 20:53:36</td>\n",
       "      <td>16828280</td>\n",
       "      <td>25</td>\n",
       "      <td>2141-07-10 02:34:00</td>\n",
       "      <td>NaT</td>\n",
       "      <td>10000000.0</td>\n",
       "      <td>[8, 9]</td>\n",
       "      <td>[]</td>\n",
       "      <td>28</td>\n",
       "    </tr>\n",
       "    <tr>\n",
       "      <th>...</th>\n",
       "      <td>...</td>\n",
       "      <td>...</td>\n",
       "      <td>...</td>\n",
       "      <td>...</td>\n",
       "      <td>...</td>\n",
       "      <td>...</td>\n",
       "      <td>...</td>\n",
       "      <td>...</td>\n",
       "      <td>...</td>\n",
       "      <td>...</td>\n",
       "      <td>...</td>\n",
       "    </tr>\n",
       "    <tr>\n",
       "      <th>2682</th>\n",
       "      <td>39995213</td>\n",
       "      <td>2127-12-11 18:03:43</td>\n",
       "      <td>2127-12-17 21:07:04</td>\n",
       "      <td>13534199</td>\n",
       "      <td>26</td>\n",
       "      <td>2127-12-12 20:03:43</td>\n",
       "      <td>NaT</td>\n",
       "      <td>10000000.0</td>\n",
       "      <td>[1]</td>\n",
       "      <td>[]</td>\n",
       "      <td>29</td>\n",
       "    </tr>\n",
       "    <tr>\n",
       "      <th>6019</th>\n",
       "      <td>39995735</td>\n",
       "      <td>2124-08-15 10:59:52</td>\n",
       "      <td>2124-08-22 17:01:54</td>\n",
       "      <td>11539827</td>\n",
       "      <td>32</td>\n",
       "      <td>2124-08-16 18:59:52</td>\n",
       "      <td>NaT</td>\n",
       "      <td>10000000.0</td>\n",
       "      <td>[1, 2, 3, 4]</td>\n",
       "      <td>[]</td>\n",
       "      <td>26</td>\n",
       "    </tr>\n",
       "    <tr>\n",
       "      <th>2298</th>\n",
       "      <td>39996867</td>\n",
       "      <td>2165-06-07 14:19:00</td>\n",
       "      <td>2165-06-24 21:45:15</td>\n",
       "      <td>12478391</td>\n",
       "      <td>26</td>\n",
       "      <td>2165-06-08 16:19:00</td>\n",
       "      <td>NaT</td>\n",
       "      <td>10000000.0</td>\n",
       "      <td>[12, 13, 14, 15]</td>\n",
       "      <td>[]</td>\n",
       "      <td>26</td>\n",
       "    </tr>\n",
       "    <tr>\n",
       "      <th>674</th>\n",
       "      <td>39998012</td>\n",
       "      <td>2133-02-03 06:48:42</td>\n",
       "      <td>2133-02-09 02:55:42</td>\n",
       "      <td>17874908</td>\n",
       "      <td>33</td>\n",
       "      <td>2133-02-04 15:48:42</td>\n",
       "      <td>2133-02-08 23:02:00</td>\n",
       "      <td>5.0</td>\n",
       "      <td>[1, 2, 3]</td>\n",
       "      <td>[5.0, 6.0, 7.0, 8.0, 9.0, 10.0, 11.0, 12.0, 13...</td>\n",
       "      <td>1</td>\n",
       "    </tr>\n",
       "    <tr>\n",
       "      <th>1075</th>\n",
       "      <td>39998622</td>\n",
       "      <td>2135-02-11 18:13:55</td>\n",
       "      <td>2135-02-20 17:53:16</td>\n",
       "      <td>19046950</td>\n",
       "      <td>46</td>\n",
       "      <td>2135-02-13 16:13:55</td>\n",
       "      <td>NaT</td>\n",
       "      <td>10000000.0</td>\n",
       "      <td>[1, 2]</td>\n",
       "      <td>[]</td>\n",
       "      <td>28</td>\n",
       "    </tr>\n",
       "  </tbody>\n",
       "</table>\n",
       "<p>7433 rows × 11 columns</p>\n",
       "</div>"
      ],
      "text/plain": [
       "       stay_id              intime             outtime  subject_id  \\\n",
       "5061  30003598 2189-04-14 20:27:25 2189-04-19 15:57:41    15332791   \n",
       "3325  30003749 2120-11-05 16:03:00 2120-11-07 08:19:44    12227720   \n",
       "3092  30004391 2153-09-05 13:12:00 2153-09-13 18:21:18    18730522   \n",
       "4848  30006983 2159-10-12 03:56:42 2159-11-22 09:29:33    18756985   \n",
       "1340  30007565 2141-07-09 01:34:00 2141-07-27 20:53:36    16828280   \n",
       "...        ...                 ...                 ...         ...   \n",
       "2682  39995213 2127-12-11 18:03:43 2127-12-17 21:07:04    13534199   \n",
       "6019  39995735 2124-08-15 10:59:52 2124-08-22 17:01:54    11539827   \n",
       "2298  39996867 2165-06-07 14:19:00 2165-06-24 21:45:15    12478391   \n",
       "674   39998012 2133-02-03 06:48:42 2133-02-09 02:55:42    17874908   \n",
       "1075  39998622 2135-02-11 18:13:55 2135-02-20 17:53:16    19046950   \n",
       "\n",
       "      baseline_hour       baseline_time           deathtime   death_day  \\\n",
       "5061             44 2189-04-16 16:27:25                 NaT  10000000.0   \n",
       "3325             27 2120-11-06 19:03:00 2120-11-07 03:41:00         1.0   \n",
       "3092             25 2153-09-06 14:12:00                 NaT  10000000.0   \n",
       "4848             39 2159-10-13 18:56:42 2159-11-22 07:26:00        40.0   \n",
       "1340             25 2141-07-10 02:34:00                 NaT  10000000.0   \n",
       "...             ...                 ...                 ...         ...   \n",
       "2682             26 2127-12-12 20:03:43                 NaT  10000000.0   \n",
       "6019             32 2124-08-16 18:59:52                 NaT  10000000.0   \n",
       "2298             26 2165-06-08 16:19:00                 NaT  10000000.0   \n",
       "674              33 2133-02-04 15:48:42 2133-02-08 23:02:00         5.0   \n",
       "1075             46 2135-02-13 16:13:55                 NaT  10000000.0   \n",
       "\n",
       "             vent_days                                         death_days  \\\n",
       "5061               [1]                                                 []   \n",
       "3325               [1]  [1.0, 2.0, 3.0, 4.0, 5.0, 6.0, 7.0, 8.0, 9.0, ...   \n",
       "3092            [1, 2]                                                 []   \n",
       "4848          [28, 29]                                                 []   \n",
       "1340            [8, 9]                                                 []   \n",
       "...                ...                                                ...   \n",
       "2682               [1]                                                 []   \n",
       "6019      [1, 2, 3, 4]                                                 []   \n",
       "2298  [12, 13, 14, 15]                                                 []   \n",
       "674          [1, 2, 3]  [5.0, 6.0, 7.0, 8.0, 9.0, 10.0, 11.0, 12.0, 13...   \n",
       "1075            [1, 2]                                                 []   \n",
       "\n",
       "      vent_free_days  \n",
       "5061              29  \n",
       "3325               0  \n",
       "3092              28  \n",
       "4848              28  \n",
       "1340              28  \n",
       "...              ...  \n",
       "2682              29  \n",
       "6019              26  \n",
       "2298              26  \n",
       "674                1  \n",
       "1075              28  \n",
       "\n",
       "[7433 rows x 11 columns]"
      ]
     },
     "execution_count": 133,
     "metadata": {},
     "output_type": "execute_result"
    }
   ],
   "source": [
    "baseline_hour_df.sort_values('stay_id')"
   ]
  },
  {
   "cell_type": "markdown",
   "metadata": {},
   "source": [
    "Get estimates!"
   ]
  },
  {
   "cell_type": "code",
   "execution_count": 152,
   "metadata": {},
   "outputs": [
    {
     "data": {
      "image/png": "[encoded data removed]",
      "text/plain": [
       "<Figure size 720x720 with 2 Axes>"
      ]
     },
     "metadata": {
      "needs_background": "light"
     },
     "output_type": "display_data"
    }
   ],
   "source": [
    "vent_free_days_results = calculate_estimates(weights, group_by_stay(baseline_hour_df, 'vent_free_days'))\n",
    "vent_free_days_subgroup_results = get_subgroup_results(baseline_hour_df, 'vent_free_days')\n",
    "\n",
    "display_results(\n",
    "    'Counterfactual Ventilator Free Days Under Incremental Interventions',\n",
    "    'Ventilator Free Days',\n",
    "    vent_free_days_results,\n",
    "    vent_free_days_subgroup_results,\n",
    "    filename='ventfreedays'\n",
    ")"
   ]
  },
  {
   "cell_type": "markdown",
   "metadata": {},
   "source": [
    "Bootstrap on outcomes to determine variability."
   ]
  },
  {
   "cell_type": "code",
   "execution_count": null,
   "metadata": {},
   "outputs": [],
   "source": [
    "N_BOOTSTRAPS = 100\n",
    "stays = df['stay_id'].unique()"
   ]
  },
  {
   "cell_type": "code",
   "execution_count": null,
   "metadata": {},
   "outputs": [],
   "source": [
    "N_BOOTSTRAPS = 100\n",
    "outcome_estimates = {d: [] for d in DELTAS}\n",
    "\n",
    "stays = df['stay_id'].unique()\n",
    "\n",
    "def get_bootstrap_sample():\n",
    "    \"\"\"Randomly sample from the dataframe, keeping the number of stays the same.\"\"\"\n",
    "    sampled_stays = np.random.choice(stays, size=stays.shape, replace=True)\n",
    "    # Determine how many times each stay should be repeated (since we sample w/replacement)\n",
    "    num_repeats = {s: 0 for s in sampled_stays}\n",
    "    for s in sampled_stays:\n",
    "        num_repeats[s] += 1\n",
    "    # Choose only the selected stays\n",
    "    curr_data = df.loc[df['stay_id'].isin(sampled_stays)]\n",
    "    indices = []\n",
    "    for stay, idxs in group_by_stay(curr_data).groups.items():\n",
    "        indices += (num_repeats[stay] * list(idxs))\n",
    "    return curr_data.reindex(indices)\n",
    "\n",
    "for i in range(N_BOOTSTRAPS):\n",
    "    r = calculate_estimates(\n",
    "        DELTAS,\n",
    "        data=get_bootstrap_sample(),\n",
    "    )\n",
    "    for delta, estimate in r.items():\n",
    "        outcome_estimates[delta].append(estimate)\n",
    "\n",
    "outcome_estimates = pd.DataFrame(outcome_estimates)\n",
    "# outcome_estimates.to_csv('outcome_estimates.csv')\n",
    "outcome_estimates.head()"
   ]
  },
  {
   "cell_type": "code",
   "execution_count": null,
   "metadata": {},
   "outputs": [],
   "source": [
    "to_plot = outcome_estimates.iloc[:, 2:17]"
   ]
  },
  {
   "cell_type": "code",
   "execution_count": null,
   "metadata": {},
   "outputs": [],
   "source": [
    "bounds = outcome_estimates.quantile(0.025), outcome_estimates.quantile(0.975)\n",
    "# bounds = outcome_estimates.min(), outcome_estimates.max()\n",
    "plt.fill_between(delta_vals, bounds[0], bounds[1], alpha=0.5)\n",
    "plt.plot(mortality_results.keys(), mortality_results.values())\n",
    "plt.show()"
   ]
  },
  {
   "cell_type": "markdown",
   "metadata": {},
   "source": [
    "Now that we have an understanding of the variability of our estimates, we'll run one final analysis. This time, instead of looking at the impact of weaning interventions on mortality, our outcome of interest will be the amount of time until first weaning attempt. The goal of this is to see how much of an impact the interventions actually have on the time before first attempt."
   ]
  },
  {
   "cell_type": "code",
   "execution_count": null,
   "metadata": {},
   "outputs": [],
   "source": [
    "grouped = group_by_stay(df, 'weaning')\n",
    "df['time_until_wean'] = (grouped\n",
    "    # Apply the .max() and .size() functions to the weaning groups\n",
    "    # This determines 1. whether weaning occured\n",
    "    # and 2. the number of hours at which weaning began (if it did)\n",
    "    .agg(['max', 'size'])\n",
    "    # If weaning did occur, return the number of hours after baseline with it occured\n",
    "    # Otherwise, we set the value to 720 hours\n",
    "    .apply(lambda row: row['size'] if row['max'] else 720, axis=1)\n",
    "    # Repeat rows to ensure the size of the array matches what's in the dataframe\n",
    "    .repeat(grouped.size())\n",
    "    # Reset index so column can be inserted into the dataframe properly\n",
    "    .reset_index(drop=True)\n",
    ")"
   ]
  },
  {
   "cell_type": "code",
   "execution_count": null,
   "metadata": {},
   "outputs": [],
   "source": [
    "time_until_wean_results = calculate_estimates(delta_vals, outcome_col='time_until_wean')\n",
    "pprint(time_until_wean_results)"
   ]
  },
  {
   "cell_type": "code",
   "execution_count": null,
   "metadata": {},
   "outputs": [],
   "source": [
    "plt.xlabel('Delta')\n",
    "plt.ylabel('Mean Estimated Hours Until Weaning Begins')\n",
    "plt.plot(time_until_wean_results.keys(), time_until_wean_results.values())\n",
    "plt.axvline(1, color='grey', alpha=0.5)\n",
    "plt.minorticks_on()\n",
    "plt.savefig('images/time_until_wean_results.png', facecolor='white')\n",
    "plt.show()"
   ]
  }
 ],
 "metadata": {
  "interpreter": {
   "hash": "8736e52e49f3375c6a349f253dc148135d5c4698b23d6afe3435df37d8fb6c09"
  },
  "kernelspec": {
   "display_name": "Python 3.9.0 ('venv': venv)",
   "language": "python",
   "name": "python3"
  },
  "language_info": {
   "codemirror_mode": {
    "name": "ipython",
    "version": 3
   },
   "file_extension": ".py",
   "mimetype": "text/x-python",
   "name": "python",
   "nbconvert_exporter": "python",
   "pygments_lexer": "ipython3",
   "version": "3.9.0"
  },
  "metadata": {
   "interpreter": {
    "hash": "974242ba8bd4aee876d4cc6b2b4fd6d90080efacd3e889d4fd5fe2f92b3a2fbb"
   }
  },
  "orig_nbformat": 2
 },
 "nbformat": 4,
 "nbformat_minor": 2
}
