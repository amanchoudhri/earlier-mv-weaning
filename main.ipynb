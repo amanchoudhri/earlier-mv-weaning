{
 "cells": [
  {
   "cell_type": "markdown",
   "source": [
    "# Determining the Effect of Earlier Weaning off Mechanical Ventilation\n",
    "This project aims to use causal inference to estimate the effects of weaning patients off mechanical ventilation sooner than normal, following the approach described in [Kennedy, 2018](https://arxiv.org/pdf/1704.00211.pdf). In our dataset we consider patients who have been on mechanical ventilation for 24 hours (our start criteria)."
   ],
   "metadata": {}
  },
  {
   "cell_type": "code",
   "execution_count": 1,
   "source": [
    "import pickle\n",
    "from pprint import pprint\n",
    "\n",
    "import numpy as np\n",
    "import pandas as pd\n",
    "\n",
    "from sklearn.calibration import CalibratedClassifierCV\n",
    "from sklearn.linear_model import LogisticRegression\n",
    "from sklearn.preprocessing import LabelEncoder, StandardScaler\n",
    "\n",
    "# ALL_WEANING_PREDICTORS is a list of all covariates intially identified as potentially useful in predicting probability of weaning\n",
    "# group_by_stay is a helper function that groups a dataframe by the column 'stay_id'\n",
    "from common import (\n",
    "    ALL_WEANING_PREDICTORS,\n",
    "    create_calibration_curve,\n",
    "    group_by_stay,\n",
    "    remove_extremes,\n",
    "    remove_outliers\n",
    ")\n",
    "\n",
    "np.random.seed(0)"
   ],
   "outputs": [],
   "metadata": {}
  },
  {
   "cell_type": "markdown",
   "source": [
    "First, we exclude variables from consideration if they are missing more than 10% of the time in post-baseline times. Post-baseline in this case means we filter out records from patients at time points before our start criteria.\n",
    "\n",
    "```\n",
    ">>> full_df = pd.read_csv('full_weaning_dataset.csv')\n",
    ">>> post_baseline_df = full_df.loc[full_df['hour_baseline'] >= 0]\n",
    ">>> post_baseline_df.to_csv('post_baseline_weaning.csv')\n",
    "```\n",
    "We sample a subset of patiets from this post-baseline dataframe and use that as our dataset for this notebook.\n",
    "```\n",
    ">>> stay_ids = post_baseline_df['stay_id'].unique()\n",
    ">>> print(len(stay_ids))\n",
    "8055\n",
    "```\n",
    "Get a random sample of about 5% of the stay_ids.\n",
    "```\n",
    ">>> stays = np.random.choice(stay_ids, size=500)\n",
    ">>> sampled_df = post_baseline_df.loc[post_baseline_df['stay_id'].isin(stays)]\n",
    ">>> sampled_df.to_csv('sampled_post_baseline.csv')\n",
    "```"
   ],
   "metadata": {}
  },
  {
   "cell_type": "code",
   "execution_count": 2,
   "source": [
    "# Load in the sampled dataset\n",
    "df = pd.read_csv('sampled_post_baseline.csv')"
   ],
   "outputs": [],
   "metadata": {}
  },
  {
   "cell_type": "markdown",
   "source": [
    "Before testing which variables are missing, we fill missing urine output (`urine_output`) and vasopressor (`rate_std`) values with 0, since missing entries for these two columns means the value is 0 in this dataset. We do this to make sure we don't exclude the columns from the dataset when we shouldn't."
   ],
   "metadata": {}
  },
  {
   "cell_type": "code",
   "execution_count": 3,
   "source": [
    "df.loc[:, ['urine_output', 'rate_std']] = df[['urine_output', 'rate_std']].fillna(0)"
   ],
   "outputs": [],
   "metadata": {}
  },
  {
   "cell_type": "markdown",
   "source": [
    "Then, we forward fill all columns except for `amount` on a per-patient basis. Their values may only be measured occasionally, which is fine since the previous measurement of these values is important, not whether they were measured recently."
   ],
   "metadata": {}
  },
  {
   "cell_type": "code",
   "execution_count": 4,
   "source": [
    "for c in ALL_WEANING_PREDICTORS:\n",
    "    if c == 'amount': continue\n",
    "    df.loc[:, c] = group_by_stay(df, c).ffill()"
   ],
   "outputs": [],
   "metadata": {
    "tags": []
   }
  },
  {
   "cell_type": "code",
   "execution_count": 5,
   "source": [
    "LEN_DF = len(df)\n",
    "cols_to_exclude = set()\n",
    "for c in ALL_WEANING_PREDICTORS:\n",
    "    na_proportion = df[c].isna().sum() / LEN_DF\n",
    "    if na_proportion >= 0.1:\n",
    "        cols_to_exclude.add(c)\n",
    "        print(f'{c}: {round(na_proportion, 3)}')"
   ],
   "outputs": [
    {
     "output_type": "stream",
     "name": "stdout",
     "text": [
      "fio2: 0.25\n",
      "carboxyhemoglobin: 0.931\n",
      "methemoglobin: 0.945\n",
      "ALBUMIN: 0.24\n",
      "BANDS: 0.655\n",
      "BILIRUBIN: 0.147\n",
      "marital_status: 0.119\n"
     ]
    }
   ],
   "metadata": {}
  },
  {
   "cell_type": "markdown",
   "source": [
    "Now that we've identified which columns should be excluded from our analysis, we can create a new list of predictors."
   ],
   "metadata": {}
  },
  {
   "cell_type": "code",
   "execution_count": 6,
   "source": [
    "weaning_predictors = [c for c in ALL_WEANING_PREDICTORS if c not in cols_to_exclude]\n",
    "\n",
    "# If a column for the measurement of a given value at time t-1 exists, add it to the predictors\n",
    "for c in weaning_predictors:\n",
    "    try:\n",
    "        df['last_' + c]\n",
    "        weaning_predictors.append('last_' + c)\n",
    "    except KeyError:\n",
    "        pass"
   ],
   "outputs": [],
   "metadata": {}
  },
  {
   "cell_type": "markdown",
   "source": [
    "The next step is to process the data and remove outliers. The `remove_outliers` function essentially writes over implausible values with NaN."
   ],
   "metadata": {}
  },
  {
   "cell_type": "code",
   "execution_count": 7,
   "source": [
    "df.loc[:, 'amount'] = df['amount']/1000\n",
    "df.loc[:, 'last_amount'] = df['last_amount']/1000\n",
    "\n",
    "remove_outliers(df)"
   ],
   "outputs": [],
   "metadata": {}
  },
  {
   "cell_type": "markdown",
   "source": [
    "Now, we'll standardize our predictors."
   ],
   "metadata": {}
  },
  {
   "cell_type": "code",
   "execution_count": 8,
   "source": [
    "# Standardize predictors\n",
    "numeric = df[weaning_predictors].select_dtypes(exclude='object').columns\n",
    "df.loc[:, numeric] = StandardScaler().fit_transform(df[numeric])\n",
    "# Sanity check to make sure the DataFrame was actually standardized\n",
    "df[numeric].agg(['mean', 'std'])"
   ],
   "outputs": [
    {
     "output_type": "execute_result",
     "data": {
      "text/plain": [
       "      tidal_volume_set  tidal_volume_observed  plateau_pressure  \\\n",
       "mean      1.654549e-16          -4.275184e-16      1.382913e-16   \n",
       "std       1.000005e+00           1.000005e+00      1.000005e+00   \n",
       "\n",
       "      ventilator_type      peep_set  total_peep_level  peak_insp_pressure  \\\n",
       "mean    -6.298554e-17  1.073852e-16      2.629660e-16        2.232358e-16   \n",
       "std      1.000005e+00  1.000005e+00      1.000005e+00        1.000005e+00   \n",
       "\n",
       "      mean_airway_pressure  inspiratory_time          spo2  ...  \\\n",
       "mean         -1.890821e-16     -7.027389e-16  2.521487e-15  ...   \n",
       "std           1.000005e+00      1.000005e+00  1.000005e+00  ...   \n",
       "\n",
       "      last_CREATININE  last_PLATELET      last_PTT      last_INR  \\\n",
       "mean    -1.912502e-16  -2.390694e-17  3.776379e-16  6.553161e-16   \n",
       "std      1.000005e+00   1.000005e+00  1.000005e+00  1.000005e+00   \n",
       "\n",
       "           last_PT      last_BUN      last_WBC  last_urine_output  \\\n",
       "mean  2.016357e-16 -2.702597e-17  2.261550e-16      -1.631025e-17   \n",
       "std   1.000005e+00  1.000005e+00  1.000005e+00       1.000008e+00   \n",
       "\n",
       "      last_GLUCOSE   last_weight  \n",
       "mean  1.101768e-16 -1.610924e-16  \n",
       "std   1.000005e+00  1.000005e+00  \n",
       "\n",
       "[2 rows x 110 columns]"
      ],
      "text/html": [
       "<div>\n",
       "<style scoped>\n",
       "    .dataframe tbody tr th:only-of-type {\n",
       "        vertical-align: middle;\n",
       "    }\n",
       "\n",
       "    .dataframe tbody tr th {\n",
       "        vertical-align: top;\n",
       "    }\n",
       "\n",
       "    .dataframe thead th {\n",
       "        text-align: right;\n",
       "    }\n",
       "</style>\n",
       "<table border=\"1\" class=\"dataframe\">\n",
       "  <thead>\n",
       "    <tr style=\"text-align: right;\">\n",
       "      <th></th>\n",
       "      <th>tidal_volume_set</th>\n",
       "      <th>tidal_volume_observed</th>\n",
       "      <th>plateau_pressure</th>\n",
       "      <th>ventilator_type</th>\n",
       "      <th>peep_set</th>\n",
       "      <th>total_peep_level</th>\n",
       "      <th>peak_insp_pressure</th>\n",
       "      <th>mean_airway_pressure</th>\n",
       "      <th>inspiratory_time</th>\n",
       "      <th>spo2</th>\n",
       "      <th>...</th>\n",
       "      <th>last_CREATININE</th>\n",
       "      <th>last_PLATELET</th>\n",
       "      <th>last_PTT</th>\n",
       "      <th>last_INR</th>\n",
       "      <th>last_PT</th>\n",
       "      <th>last_BUN</th>\n",
       "      <th>last_WBC</th>\n",
       "      <th>last_urine_output</th>\n",
       "      <th>last_GLUCOSE</th>\n",
       "      <th>last_weight</th>\n",
       "    </tr>\n",
       "  </thead>\n",
       "  <tbody>\n",
       "    <tr>\n",
       "      <th>mean</th>\n",
       "      <td>1.654549e-16</td>\n",
       "      <td>-4.275184e-16</td>\n",
       "      <td>1.382913e-16</td>\n",
       "      <td>-6.298554e-17</td>\n",
       "      <td>1.073852e-16</td>\n",
       "      <td>2.629660e-16</td>\n",
       "      <td>2.232358e-16</td>\n",
       "      <td>-1.890821e-16</td>\n",
       "      <td>-7.027389e-16</td>\n",
       "      <td>2.521487e-15</td>\n",
       "      <td>...</td>\n",
       "      <td>-1.912502e-16</td>\n",
       "      <td>-2.390694e-17</td>\n",
       "      <td>3.776379e-16</td>\n",
       "      <td>6.553161e-16</td>\n",
       "      <td>2.016357e-16</td>\n",
       "      <td>-2.702597e-17</td>\n",
       "      <td>2.261550e-16</td>\n",
       "      <td>-1.631025e-17</td>\n",
       "      <td>1.101768e-16</td>\n",
       "      <td>-1.610924e-16</td>\n",
       "    </tr>\n",
       "    <tr>\n",
       "      <th>std</th>\n",
       "      <td>1.000005e+00</td>\n",
       "      <td>1.000005e+00</td>\n",
       "      <td>1.000005e+00</td>\n",
       "      <td>1.000005e+00</td>\n",
       "      <td>1.000005e+00</td>\n",
       "      <td>1.000005e+00</td>\n",
       "      <td>1.000005e+00</td>\n",
       "      <td>1.000005e+00</td>\n",
       "      <td>1.000005e+00</td>\n",
       "      <td>1.000005e+00</td>\n",
       "      <td>...</td>\n",
       "      <td>1.000005e+00</td>\n",
       "      <td>1.000005e+00</td>\n",
       "      <td>1.000005e+00</td>\n",
       "      <td>1.000005e+00</td>\n",
       "      <td>1.000005e+00</td>\n",
       "      <td>1.000005e+00</td>\n",
       "      <td>1.000005e+00</td>\n",
       "      <td>1.000008e+00</td>\n",
       "      <td>1.000005e+00</td>\n",
       "      <td>1.000005e+00</td>\n",
       "    </tr>\n",
       "  </tbody>\n",
       "</table>\n",
       "<p>2 rows × 110 columns</p>\n",
       "</div>"
      ]
     },
     "metadata": {},
     "execution_count": 8
    }
   ],
   "metadata": {}
  },
  {
   "cell_type": "markdown",
   "source": [
    "Before modeling the probability of weaning, we'll impute medians and remove extreme values from the covariates."
   ],
   "metadata": {}
  },
  {
   "cell_type": "code",
   "execution_count": 9,
   "source": [
    "for c in numeric:\n",
    "    df.loc[:, c].fillna(df[c].median(), inplace=True)\n",
    "\n",
    "remove_extremes(df)"
   ],
   "outputs": [],
   "metadata": {}
  },
  {
   "cell_type": "markdown",
   "source": [
    "The final step before modeling is to define our training data. Since we're interested in predicting the probability of starting the first weaning attempt, the relevant data is every timestep up until and including the true start of the first weaning attempt."
   ],
   "metadata": {}
  },
  {
   "cell_type": "code",
   "execution_count": 10,
   "source": [
    "num_days_off_ctrl = group_by_stay(df, 'control').transform(\n",
    "    lambda x: (x == 0).cumsum()\n",
    ")\n",
    "df = df.loc[num_days_off_ctrl <= 1]\n",
    "\n",
    "# df.to_csv('processed_data.csv')"
   ],
   "outputs": [],
   "metadata": {}
  },
  {
   "cell_type": "code",
   "execution_count": 11,
   "source": [
    "MODEL_PARAMS = {\n",
    "    'penalty': 'l2',\n",
    "    'max_iter': 2000,\n",
    "}\n",
    "# Dataframe checkpoint\n",
    "df = pd.read_csv('processed_data.csv')\n",
    "\n",
    "X = df.loc[:, weaning_predictors]\n",
    "y = df.loc[:, 'control']\n",
    "\n",
    "for col in X.select_dtypes(include='object'):\n",
    "    X.loc[:, col] = LabelEncoder().fit_transform(X[col])"
   ],
   "outputs": [],
   "metadata": {}
  },
  {
   "cell_type": "code",
   "execution_count": 12,
   "source": [
    "# weaning_predictor = LogisticRegression(**MODEL_PARAMS).fit(X, y)\n",
    "# with open('models/weaning_predictor.pkl', 'wb') as f:\n",
    "#     pickle.dump(weaning_predictor, f)\n",
    "\n",
    "# Load in a LogisticRegression model fitted on the full dataset\n",
    "with open('models/weaning_predictor.pkl', 'rb') as f:\n",
    "    weaning_predictor = pickle.load(f)\n",
    "\n",
    "create_calibration_curve(\n",
    "    weaning_predictor, X, y,\n",
    "    'Weaning Predictor Trained on Full Dataset',\n",
    "    save_path='images/full_dataset_calibration_curve.png'\n",
    ")"
   ],
   "outputs": [
    {
     "output_type": "display_data",
     "data": {
      "text/plain": [
       "<Figure size 432x288 with 1 Axes>"
      ],
      "image/png": "[encoded data removed]"
     },
     "metadata": {
      "needs_background": "light"
     }
    }
   ],
   "metadata": {}
  },
  {
   "cell_type": "markdown",
   "source": [
    "Train a calibrated regressor since the above graph shows that the current predictor is poorly calibrated."
   ],
   "metadata": {}
  },
  {
   "cell_type": "code",
   "execution_count": 13,
   "source": [
    "# calibrated_predictor = CalibratedClassifierCV(\n",
    "#     base_estimator=LogisticRegression(**MODEL_PARAMS),\n",
    "#     method='isotonic'\n",
    "#     ).fit(X, y)\n",
    "\n",
    "# with open('models/calibrated_predictor.pkl', 'wb') as f:\n",
    "#     pickle.dump(calibrated_predictor, f)\n",
    "\n",
    "# Load in a calibrated LogisticRegression model fitted on the full dataset\n",
    "with open('models/calibrated_predictor.pkl', 'rb') as f:\n",
    "    calibrated_predictor = pickle.load(f)\n",
    "\n",
    "create_calibration_curve(\n",
    "    calibrated_predictor, X, y, \n",
    "    'Weaning Predictor with Isotonic Calibration (full dataset)',\n",
    "    save_path='images/isotonic_calibration_curve.png'\n",
    ")"
   ],
   "outputs": [
    {
     "output_type": "display_data",
     "data": {
      "text/plain": [
       "<Figure size 432x288 with 1 Axes>"
      ],
      "image/png": "[encoded data removed]"
     },
     "metadata": {
      "needs_background": "light"
     }
    }
   ],
   "metadata": {}
  },
  {
   "cell_type": "markdown",
   "source": [
    "With our well-calibrated model for the probability of weaning, we can now estimate the causal effect of incrementing this propensity score."
   ],
   "metadata": {}
  },
  {
   "cell_type": "code",
   "execution_count": 20,
   "source": [
    "# For each value of delta:\n",
    "\n",
    "# 1. Construct time-dependent weights W_t for each subject and timepoint\n",
    "# 2. Calculate cumulative product weight for each subject across timepoints\n",
    "# 3. Compute phi for each subject by multiplying this cumulative weight by the outcome\n",
    "# 4. Average phi across all subjects to estimate the causal effect\n",
    "\n",
    "df.loc[:, 'propensity_score'] = calibrated_predictor.predict_proba(X)[:, 1]\n",
    "\n",
    "results = {}\n",
    "\n",
    "for delta in np.arange(0.5, 2, 0.1):\n",
    "    delta = round(delta, 1)\n",
    "    A = df['control'] # treatment variable\n",
    "    pi_hat = df['propensity_score']\n",
    "    # construct time-dependent weights for each subject at each timepoint\n",
    "    weight_col = f'weights_d{delta}'\n",
    "    df.loc[:, weight_col] = (\n",
    "        ((delta * A) + 1 - A) /\n",
    "        ((delta * pi_hat) + 1 - pi_hat)\n",
    "    )\n",
    "    # calculate cumulative product of weights\n",
    "    cumulative_products = group_by_stay(df, weight_col).prod()\n",
    "    # multiply by outcome\n",
    "    phi = cumulative_products.multiply(\n",
    "        group_by_stay(df, 'hospital_expire_flag').first()\n",
    "    )\n",
    "    # average over subjects and add to results\n",
    "    results[delta] = phi.mean()\n",
    "\n",
    "pprint(results)"
   ],
   "outputs": [
    {
     "output_type": "stream",
     "name": "stdout",
     "text": [
      "{0.5: 0.33137824169047686,\n",
      " 0.6: 0.32965407972411376,\n",
      " 0.7: 0.32785081094236906,\n",
      " 0.8: 0.32626914297164356,\n",
      " 0.9: 0.3251022629956615,\n",
      " 1.0: 0.3246430788330232,\n",
      " 1.1: 0.327934099333022,\n",
      " 1.2: 0.3776174206356074,\n",
      " 1.3: 0.9020933701058536,\n",
      " 1.4: 5.0467358340623765,\n",
      " 1.5: 30.598338405552123,\n",
      " 1.6: 158.49716700354637,\n",
      " 1.7: 695.7076828558975,\n",
      " 1.8: 2640.124627888613,\n",
      " 1.9: 8836.55839241552}\n"
     ]
    }
   ],
   "metadata": {}
  },
  {
   "cell_type": "code",
   "execution_count": 43,
   "source": [
    "cumulative_products[cumulative_products.keys()[6235]]"
   ],
   "outputs": [
    {
     "output_type": "execute_result",
     "data": {
      "text/plain": [
       "71175333.56241415"
      ]
     },
     "metadata": {},
     "execution_count": 43
    }
   ],
   "metadata": {}
  },
  {
   "cell_type": "code",
   "execution_count": 1,
   "source": [
    "df['weights_d1.9'].iloc[group_by_stay(df, 'weights_d1.9').groups[cumulative_products.keys()[6235]]]"
   ],
   "outputs": [
    {
     "output_type": "error",
     "ename": "NameError",
     "evalue": "name 'df' is not defined",
     "traceback": [
      "\u001b[0;31m---------------------------------------------------------------------------\u001b[0m",
      "\u001b[0;31mNameError\u001b[0m                                 Traceback (most recent call last)",
      "\u001b[0;32m<ipython-input-1-cbbf1018e539>\u001b[0m in \u001b[0;36m<module>\u001b[0;34m\u001b[0m\n\u001b[0;32m----> 1\u001b[0;31m \u001b[0mdf\u001b[0m\u001b[0;34m[\u001b[0m\u001b[0;34m'weights_d1.9'\u001b[0m\u001b[0;34m]\u001b[0m\u001b[0;34m.\u001b[0m\u001b[0miloc\u001b[0m\u001b[0;34m[\u001b[0m\u001b[0mgroup_by_stay\u001b[0m\u001b[0;34m(\u001b[0m\u001b[0mdf\u001b[0m\u001b[0;34m,\u001b[0m \u001b[0;34m'weights_d1.9'\u001b[0m\u001b[0;34m)\u001b[0m\u001b[0;34m.\u001b[0m\u001b[0mgroups\u001b[0m\u001b[0;34m[\u001b[0m\u001b[0mcumulative_products\u001b[0m\u001b[0;34m.\u001b[0m\u001b[0mkeys\u001b[0m\u001b[0;34m(\u001b[0m\u001b[0;34m)\u001b[0m\u001b[0;34m[\u001b[0m\u001b[0;36m6235\u001b[0m\u001b[0;34m]\u001b[0m\u001b[0;34m]\u001b[0m\u001b[0;34m]\u001b[0m\u001b[0;34m\u001b[0m\u001b[0;34m\u001b[0m\u001b[0m\n\u001b[0m",
      "\u001b[0;31mNameError\u001b[0m: name 'df' is not defined"
     ]
    }
   ],
   "metadata": {}
  }
 ],
 "metadata": {
  "interpreter": {
   "hash": "56b99ba35fbf06c4dc463b67e081262ac24be503d9ee1adee8d3ec32db9e0e1c"
  },
  "kernelspec": {
   "name": "python3",
   "display_name": "Python 3.9.0 64-bit ('venv': venv)"
  },
  "language_info": {
   "codemirror_mode": {
    "name": "ipython",
    "version": 3
   },
   "file_extension": ".py",
   "mimetype": "text/x-python",
   "name": "python",
   "nbconvert_exporter": "python",
   "pygments_lexer": "ipython3",
   "version": "3.9.0"
  },
  "metadata": {
   "interpreter": {
    "hash": "974242ba8bd4aee876d4cc6b2b4fd6d90080efacd3e889d4fd5fe2f92b3a2fbb"
   }
  },
  "orig_nbformat": 2
 },
 "nbformat": 4,
 "nbformat_minor": 2
}