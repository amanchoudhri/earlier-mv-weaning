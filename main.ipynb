{
 "cells": [
  {
   "cell_type": "markdown",
   "source": [
    "# Determining the Effect of Earlier Weaning off Mechanical Ventilation\n",
    "This project aims to use causal inference to estimate the effects of weaning patients off mechanical ventilation sooner than normal, following the approach described in [Kennedy, 2018](https://arxiv.org/pdf/1704.00211.pdf). In our dataset we consider patients who have been on mechanical ventilation for 24 hours (our start criteria)."
   ],
   "metadata": {}
  },
  {
   "cell_type": "code",
   "execution_count": null,
   "source": [
    "import pickle\n",
    "\n",
    "import numpy as np\n",
    "import pandas as pd\n",
    "\n",
    "from matplotlib import pyplot as plt\n",
    "from sklearn.calibration import CalibratedClassifierCV\n",
    "from sklearn.linear_model import LogisticRegression\n",
    "from sklearn.preprocessing import LabelEncoder, StandardScaler\n",
    "\n",
    "# ALL_WEANING_PREDICTORS is a list of all covariates intially identified as potentially useful in predicting probability of weaning\n",
    "# group_by_stay is a helper function that groups a dataframe by the column 'stay_id'\n",
    "from common import (\n",
    "    ALL_WEANING_PREDICTORS,\n",
    "    create_calibration_curve,\n",
    "    group_by_stay,\n",
    "    remove_extremes,\n",
    "    remove_outliers\n",
    ")\n",
    "\n",
    "np.random.seed(0)"
   ],
   "outputs": [],
   "metadata": {}
  },
  {
   "cell_type": "markdown",
   "source": [
    "First, we exclude variables from consideration if they are missing more than 10% of the time in post-baseline times. Post-baseline in this case means we filter out records from patients at time points before our start criteria.\n",
    "\n",
    "```\n",
    ">>> full_df = pd.read_csv('full_weaning_dataset.csv')\n",
    ">>> post_baseline_df = full_df.loc[full_df['hour_baseline'] >= 0]\n",
    "```\n",
    "We sample a subset of patiets from this post-baseline dataframe and use that as our dataset for this notebook.\n",
    "```\n",
    ">>> stay_ids = post_baseline_df['stay_id'].unique()\n",
    ">>> print(len(stay_ids))\n",
    "8055\n",
    "```\n",
    "Get a random sample of about 5% of the stay_ids.\n",
    "```\n",
    ">>> stays = np.random.choice(stay_ids, size=500)\n",
    ">>> sampled_df = post_baseline_df.loc[post_baseline_df['stay_id'].isin(stays)]\n",
    ">>> sampled_df.to_csv('sampled_post_baseline.csv')\n",
    "```"
   ],
   "metadata": {}
  },
  {
   "cell_type": "code",
   "execution_count": 2,
   "source": [
    "# Load in the sampled dataset\n",
    "df = pd.read_csv('sampled_post_baseline.csv')"
   ],
   "outputs": [],
   "metadata": {}
  },
  {
   "cell_type": "code",
   "execution_count": 2,
   "source": [
    "df = pd.read_csv('post_baseline_weaning.csv')"
   ],
   "outputs": [
    {
     "output_type": "stream",
     "name": "stderr",
     "text": [
      "/Users/aman/VSCode Files/earlier-mv-weaning/venv/lib/python3.9/site-packages/IPython/core/interactiveshell.py:3169: DtypeWarning: Columns (474) have mixed types.Specify dtype option on import or set low_memory=False.\n",
      "  has_raised = await self.run_ast_nodes(code_ast.body, cell_name,\n"
     ]
    }
   ],
   "metadata": {}
  },
  {
   "cell_type": "markdown",
   "source": [
    "Before testing which variables are missing, we fill missing urine output (`urine_output`) and vasopressor (`rate_std`) values with 0, since missing entries for these two columns means the value is 0 in this dataset. We do this to make sure we don't exclude the columns from the dataset when we shouldn't."
   ],
   "metadata": {}
  },
  {
   "cell_type": "code",
   "execution_count": 3,
   "source": [
    "df.loc[:, ['urine_output', 'rate_std']] = df[['urine_output', 'rate_std']].fillna(0)"
   ],
   "outputs": [],
   "metadata": {}
  },
  {
   "cell_type": "markdown",
   "source": [
    "Then, we forward fill all columns except for `amount` on a per-patient basis. Their values may only be measured occasionally, which is fine since the previous measurement of these values is important, not whether they were measured recently."
   ],
   "metadata": {}
  },
  {
   "cell_type": "code",
   "execution_count": 4,
   "source": [
    "for c in ALL_WEANING_PREDICTORS:\n",
    "    if c == 'amount': continue\n",
    "    df.loc[:, c] = group_by_stay(df, c).ffill()"
   ],
   "outputs": [],
   "metadata": {
    "tags": []
   }
  },
  {
   "cell_type": "code",
   "execution_count": 5,
   "source": [
    "LEN_DF = len(df)\n",
    "cols_to_exclude = set()\n",
    "for c in ALL_WEANING_PREDICTORS:\n",
    "    na_proportion = df[c].isna().sum() / LEN_DF\n",
    "    if na_proportion >= 0.1:\n",
    "        cols_to_exclude.add(c)\n",
    "        print(f\"{c}: {round(na_proportion, 3)}\")"
   ],
   "outputs": [
    {
     "output_type": "stream",
     "name": "stdout",
     "text": [
      "fio2: 0.233\n",
      "carboxyhemoglobin: 0.958\n",
      "methemoglobin: 0.962\n",
      "ALBUMIN: 0.233\n",
      "BANDS: 0.652\n",
      "BILIRUBIN: 0.135\n",
      "marital_status: 0.115\n"
     ]
    }
   ],
   "metadata": {}
  },
  {
   "cell_type": "markdown",
   "source": [
    "Now that we've identified which columns should be excluded from our analysis, we can create a new list of predictors."
   ],
   "metadata": {}
  },
  {
   "cell_type": "code",
   "execution_count": 6,
   "source": [
    "weaning_predictors = [c for c in ALL_WEANING_PREDICTORS if c not in cols_to_exclude]\n",
    "\n",
    "# If a column for the measurement of a given value at time t-1 exists, add it to the predictors\n",
    "for c in weaning_predictors:\n",
    "    try:\n",
    "        df['last_' + c]\n",
    "        weaning_predictors.append('last_' + c)\n",
    "    except KeyError:\n",
    "        pass"
   ],
   "outputs": [],
   "metadata": {}
  },
  {
   "cell_type": "markdown",
   "source": [
    "The next step is to process the data and remove outliers. The `remove_outliers` function essentially writes over implausible values with NaN."
   ],
   "metadata": {}
  },
  {
   "cell_type": "code",
   "execution_count": 7,
   "source": [
    "df.loc[:, 'amount'] = df['amount']/1000\n",
    "df.loc[:, 'last_amount'] = df['last_amount']/1000\n",
    "\n",
    "remove_outliers(df)"
   ],
   "outputs": [],
   "metadata": {}
  },
  {
   "cell_type": "markdown",
   "source": [
    "Now, we'll standardize our predictors."
   ],
   "metadata": {}
  },
  {
   "cell_type": "code",
   "execution_count": 8,
   "source": [
    "# Standardize predictors\n",
    "numeric = df[weaning_predictors].select_dtypes(exclude='object').columns\n",
    "df.loc[:, numeric] = StandardScaler().fit_transform(df[numeric])\n",
    "# Sanity check to make sure the DataFrame was actually standardized\n",
    "df[numeric].agg(['mean', 'std'])"
   ],
   "outputs": [
    {
     "output_type": "execute_result",
     "data": {
      "text/plain": [
       "      tidal_volume_set  tidal_volume_observed  plateau_pressure  \\\n",
       "mean     -5.608631e-16          -8.375239e-17     -8.543197e-17   \n",
       "std       1.000000e+00           1.000000e+00      1.000000e+00   \n",
       "\n",
       "      ventilator_type      peep_set  total_peep_level  peak_insp_pressure  \\\n",
       "mean     5.268912e-17 -2.289835e-19     -1.458428e-15        6.524109e-16   \n",
       "std      1.000000e+00  1.000000e+00      1.000000e+00        1.000000e+00   \n",
       "\n",
       "      mean_airway_pressure  inspiratory_time          spo2  ...  \\\n",
       "mean          9.348858e-17      8.788456e-16  2.727498e-15  ...   \n",
       "std           1.000000e+00      1.000000e+00  1.000000e+00  ...   \n",
       "\n",
       "      last_CREATININE  last_PLATELET      last_PTT      last_INR  \\\n",
       "mean     8.830201e-17  -1.559713e-16 -8.908608e-16 -2.936658e-16   \n",
       "std      1.000000e+00   1.000000e+00  1.000000e+00  1.000000e+00   \n",
       "\n",
       "           last_PT      last_BUN      last_WBC  last_urine_output  \\\n",
       "mean -5.879989e-16 -1.969496e-17 -3.726353e-16       3.702949e-17   \n",
       "std   1.000000e+00  1.000000e+00  1.000000e+00       1.000000e+00   \n",
       "\n",
       "      last_GLUCOSE   last_weight  \n",
       "mean  3.983551e-16 -1.154717e-15  \n",
       "std   1.000000e+00  1.000000e+00  \n",
       "\n",
       "[2 rows x 110 columns]"
      ],
      "text/html": [
       "<div>\n",
       "<style scoped>\n",
       "    .dataframe tbody tr th:only-of-type {\n",
       "        vertical-align: middle;\n",
       "    }\n",
       "\n",
       "    .dataframe tbody tr th {\n",
       "        vertical-align: top;\n",
       "    }\n",
       "\n",
       "    .dataframe thead th {\n",
       "        text-align: right;\n",
       "    }\n",
       "</style>\n",
       "<table border=\"1\" class=\"dataframe\">\n",
       "  <thead>\n",
       "    <tr style=\"text-align: right;\">\n",
       "      <th></th>\n",
       "      <th>tidal_volume_set</th>\n",
       "      <th>tidal_volume_observed</th>\n",
       "      <th>plateau_pressure</th>\n",
       "      <th>ventilator_type</th>\n",
       "      <th>peep_set</th>\n",
       "      <th>total_peep_level</th>\n",
       "      <th>peak_insp_pressure</th>\n",
       "      <th>mean_airway_pressure</th>\n",
       "      <th>inspiratory_time</th>\n",
       "      <th>spo2</th>\n",
       "      <th>...</th>\n",
       "      <th>last_CREATININE</th>\n",
       "      <th>last_PLATELET</th>\n",
       "      <th>last_PTT</th>\n",
       "      <th>last_INR</th>\n",
       "      <th>last_PT</th>\n",
       "      <th>last_BUN</th>\n",
       "      <th>last_WBC</th>\n",
       "      <th>last_urine_output</th>\n",
       "      <th>last_GLUCOSE</th>\n",
       "      <th>last_weight</th>\n",
       "    </tr>\n",
       "  </thead>\n",
       "  <tbody>\n",
       "    <tr>\n",
       "      <th>mean</th>\n",
       "      <td>-5.608631e-16</td>\n",
       "      <td>-8.375239e-17</td>\n",
       "      <td>-8.543197e-17</td>\n",
       "      <td>5.268912e-17</td>\n",
       "      <td>-2.289835e-19</td>\n",
       "      <td>-1.458428e-15</td>\n",
       "      <td>6.524109e-16</td>\n",
       "      <td>9.348858e-17</td>\n",
       "      <td>8.788456e-16</td>\n",
       "      <td>2.727498e-15</td>\n",
       "      <td>...</td>\n",
       "      <td>8.830201e-17</td>\n",
       "      <td>-1.559713e-16</td>\n",
       "      <td>-8.908608e-16</td>\n",
       "      <td>-2.936658e-16</td>\n",
       "      <td>-5.879989e-16</td>\n",
       "      <td>-1.969496e-17</td>\n",
       "      <td>-3.726353e-16</td>\n",
       "      <td>3.702949e-17</td>\n",
       "      <td>3.983551e-16</td>\n",
       "      <td>-1.154717e-15</td>\n",
       "    </tr>\n",
       "    <tr>\n",
       "      <th>std</th>\n",
       "      <td>1.000000e+00</td>\n",
       "      <td>1.000000e+00</td>\n",
       "      <td>1.000000e+00</td>\n",
       "      <td>1.000000e+00</td>\n",
       "      <td>1.000000e+00</td>\n",
       "      <td>1.000000e+00</td>\n",
       "      <td>1.000000e+00</td>\n",
       "      <td>1.000000e+00</td>\n",
       "      <td>1.000000e+00</td>\n",
       "      <td>1.000000e+00</td>\n",
       "      <td>...</td>\n",
       "      <td>1.000000e+00</td>\n",
       "      <td>1.000000e+00</td>\n",
       "      <td>1.000000e+00</td>\n",
       "      <td>1.000000e+00</td>\n",
       "      <td>1.000000e+00</td>\n",
       "      <td>1.000000e+00</td>\n",
       "      <td>1.000000e+00</td>\n",
       "      <td>1.000000e+00</td>\n",
       "      <td>1.000000e+00</td>\n",
       "      <td>1.000000e+00</td>\n",
       "    </tr>\n",
       "  </tbody>\n",
       "</table>\n",
       "<p>2 rows × 110 columns</p>\n",
       "</div>"
      ]
     },
     "metadata": {},
     "execution_count": 8
    }
   ],
   "metadata": {}
  },
  {
   "cell_type": "markdown",
   "source": [
    "Before modeling the probability of weaning, we'll impute medians and remove extreme values from the covariates."
   ],
   "metadata": {}
  },
  {
   "cell_type": "code",
   "execution_count": 9,
   "source": [
    "for c in numeric:\n",
    "    df.loc[:, c].fillna(df[c].median(), inplace=True)\n",
    "\n",
    "remove_extremes(df)"
   ],
   "outputs": [],
   "metadata": {}
  },
  {
   "cell_type": "markdown",
   "source": [
    "The final step before modeling is to define our training data. Since we're interested in predicting the probability of starting the first weaning attempt, the relevant data is every timestep up until and including the true start of the first weaning attempt."
   ],
   "metadata": {}
  },
  {
   "cell_type": "code",
   "execution_count": 12,
   "source": [
    "num_days_off_ctrl = group_by_stay(df, 'control').transform(\n",
    "    lambda x: (x == 0).cumsum()\n",
    ")\n",
    "df = df.loc[num_days_off_ctrl <= 1]"
   ],
   "outputs": [],
   "metadata": {}
  },
  {
   "cell_type": "code",
   "execution_count": 13,
   "source": [
    "MODEL_PARAMS = {\n",
    "    'penalty': 'l2',\n",
    "    'max_iter': 2000,\n",
    "}\n",
    "X = df[weaning_predictors]\n",
    "y = df['control']\n",
    "\n",
    "for col in X.select_dtypes(include='object'):\n",
    "    X.loc[:, col] = LabelEncoder().fit_transform(X[col])"
   ],
   "outputs": [],
   "metadata": {}
  },
  {
   "cell_type": "code",
   "execution_count": 14,
   "source": [
    "weaning_predictor = LogisticRegression(**MODEL_PARAMS).fit(X, y)\n",
    "\"\"\"\n",
    "with open('weaning_predictor.pkl', 'wb') as f:\n",
    "    pickle.dump(weaning_predictor, f)\n",
    "\"\"\""
   ],
   "outputs": [],
   "metadata": {}
  },
  {
   "cell_type": "code",
   "execution_count": 15,
   "source": [
    "with open('weaning_predictor.pkl', 'rb') as f:\n",
    "    weaning_predictor = pickle.load(f)\n",
    "\n",
    "create_calibration_curve(\n",
    "    weaning_predictor, X, y,\n",
    "    'Weaning Predictor Trained on Full Dataset',\n",
    "    save_path='images/full_dataset_calibration_curve.png'\n",
    ")"
   ],
   "outputs": [
    {
     "output_type": "display_data",
     "data": {
      "text/plain": [
       "<Figure size 432x288 with 1 Axes>"
      ],
      "image/png": "[encoded data removed]"
     },
     "metadata": {
      "needs_background": "light"
     }
    }
   ],
   "metadata": {}
  },
  {
   "cell_type": "markdown",
   "source": [
    "Train a calibrated regressor since the above graph shows that the current predictor is poorly calibrated."
   ],
   "metadata": {}
  },
  {
   "cell_type": "code",
   "execution_count": 16,
   "source": [
    "calibrated_predictor = CalibratedClassifierCV(base_estimator=LogisticRegression(**MODEL_PARAMS), method='isotonic').fit(X, y)\n",
    "\"\"\"\n",
    "with open('calibrated_predictor.pkl', 'wb') as f:\n",
    "    pickle.dump(calibrated_predictor, f)\n",
    "\"\"\""
   ],
   "outputs": [],
   "metadata": {}
  },
  {
   "cell_type": "code",
   "execution_count": 19,
   "source": [
    "with open('calibrated_predictor.pkl', 'rb') as f:\n",
    "    calibrated_predictor = pickle.load(f)\n",
    "\n",
    "create_calibration_curve(\n",
    "    calibrated_predictor, X, y, \n",
    "    'Weaning Predictor with Isotonic Calibration (full dataset)',\n",
    "    save_path='images/isotonic_calibration_curve.png'\n",
    ")"
   ],
   "outputs": [
    {
     "output_type": "display_data",
     "data": {
      "text/plain": [
       "<Figure size 432x288 with 1 Axes>"
      ],
      "image/png": "[encoded data removed]"
     },
     "metadata": {
      "needs_background": "light"
     }
    }
   ],
   "metadata": {}
  },
  {
   "cell_type": "markdown",
   "source": [
    "With our well-calibrated model for the probability of weaning, we can now estimate the causal effect of incrementing this propensity score."
   ],
   "metadata": {}
  },
  {
   "cell_type": "code",
   "execution_count": null,
   "source": [
    "# for each value of delta:\n",
    "\n",
    "# 1. construct time-dependent weights W_t for each subject and timepoint\n",
    "# 2. calculate cumulative product weight for each subject across timepoints\n",
    "# 3. compute phi for each subject by multiplying this cumulative weight by the outcome\n",
    "# 4. estimator is the average of phi across subjects.\n",
    "\n",
    "df.loc[:, 'propensity_score'] = calibrated_predictor.predict_proba(X)\n",
    "\n",
    "results = {}\n",
    "\n",
    "for delta in np.arange(0.5, 2, 0.1):\n",
    "    A = df['control']\n",
    "    pi_hat = df['propensity_score']\n",
    "    # construct time-dependent weights for each subject at each timepoint\n",
    "    df.loc[:, 'weights'] = (\n",
    "        ((delta * A) + 1 - A) /\n",
    "        ((delta * pi_hat) + 1 - pi_hat)\n",
    "    )\n",
    "    # calculate cumulative product of weights\n",
    "    cumulative_products = group_by_stay(df, 'weights').prod()\n",
    "    # multiply by outcome\n",
    "    phi = cumulative_products.multiply(\n",
    "        group_by_stay(df, 'hospital_expire_flag').first()\n",
    "    )\n",
    "    # average over subjects and add to results\n",
    "    results[delta] = phi.mean()"
   ],
   "outputs": [],
   "metadata": {}
  }
 ],
 "metadata": {
  "interpreter": {
   "hash": "56b99ba35fbf06c4dc463b67e081262ac24be503d9ee1adee8d3ec32db9e0e1c"
  },
  "kernelspec": {
   "name": "python3",
   "display_name": "Python 3.9.0 64-bit ('venv': venv)"
  },
  "language_info": {
   "codemirror_mode": {
    "name": "ipython",
    "version": 3
   },
   "file_extension": ".py",
   "mimetype": "text/x-python",
   "name": "python",
   "nbconvert_exporter": "python",
   "pygments_lexer": "ipython3",
   "version": "3.9.0"
  },
  "metadata": {
   "interpreter": {
    "hash": "974242ba8bd4aee876d4cc6b2b4fd6d90080efacd3e889d4fd5fe2f92b3a2fbb"
   }
  },
  "orig_nbformat": 2
 },
 "nbformat": 4,
 "nbformat_minor": 2
}