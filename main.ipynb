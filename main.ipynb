{
 "cells": [
  {
   "cell_type": "markdown",
   "source": [
    "# Determining the Effect of Earlier Weaning off Mechanical Ventilation\n",
    "This project aims to use causal inference to estimate the effects of weaning patients off mechanical ventilation sooner than normal, following the approach described in [Kennedy, 2018](https://arxiv.org/pdf/1704.00211.pdf). In our dataset we consider patients who have been on mechanical ventilation for 24 hours (our start criteria)."
   ],
   "metadata": {}
  },
  {
   "cell_type": "markdown",
   "source": [
    "# Determining the Effect of Earlier Weaning off Mechanical Ventilation\n",
    "This project aims to use causal inference to estimate the effects of weaning patients off mechanical ventilation sooner than normal, following the approach described in [Kennedy, 2018](https://arxiv.org/pdf/1704.00211.pdf). In our dataset we consider patients who have been on mechanical ventilation for 24 hours (our start criteria)."
   ],
   "metadata": {}
  },
  {
   "cell_type": "code",
   "execution_count": null,
   "source": [
    "import pickle\n",
    "from pprint import pprint\n",
    "\n",
    "import numpy as np\n",
    "import pandas as pd\n",
    "\n",
    "from matplotlib import pyplot as plt\n",
    "from sklearn.calibration import CalibratedClassifierCV\n",
    "from sklearn.linear_model import LogisticRegression\n",
    "from sklearn.preprocessing import LabelEncoder, StandardScaler\n",
    "\n",
    "# ALL_WEANING_PREDICTORS is a list of all covariates intially identified as potentially useful in predicting probability of weaning\n",
    "# group_by_stay is a helper function that groups a dataframe by the column 'stay_id'\n",
    "from common import (\n",
    "    ALL_WEANING_PREDICTORS,\n",
    "    create_calibration_curve,\n",
    "    group_by_stay,\n",
    "    remove_extremes,\n",
    "    remove_outliers\n",
    ")\n",
    "\n",
    "np.random.seed(0)"
   ],
   "outputs": [],
   "metadata": {}
  },
  {
   "cell_type": "markdown",
   "source": [
    "First, we exclude variables from consideration if they are missing more than 10% of the time in post-baseline times. Post-baseline in this case means we filter out records from patients at time points before our start criteria.\n",
    "\n",
    "```\n",
    ">>> full_df = pd.read_csv('full_weaning_dataset.csv')\n",
    ">>> post_baseline_df = full_df.loc[full_df['hour_baseline'] >= 0]\n",
    ">>> post_baseline_df.to_csv('post_baseline_weaning.csv')\n",
    "```\n",
    "We sample a subset of patiets from this post-baseline dataframe and use that as our dataset for this notebook.\n",
    "```\n",
    ">>> stay_ids = post_baseline_df['stay_id'].unique()\n",
    ">>> print(len(stay_ids))\n",
    "8055\n",
    "```\n",
    "Get a random sample of about 5% of the stay_ids.\n",
    "```\n",
    ">>> stays = np.random.choice(stay_ids, size=500)\n",
    ">>> sampled_df = post_baseline_df.loc[post_baseline_df['stay_id'].isin(stays)]\n",
    ">>> sampled_df.to_csv('sampled_post_baseline.csv')\n",
    "```"
   ],
   "metadata": {}
  },
  {
   "cell_type": "code",
   "execution_count": 2,
   "source": [
    "# Load in the sampled dataset\n",
    "df = pd.read_csv('sampled_post_baseline.csv')"
   ],
   "outputs": [],
   "metadata": {}
  },
  {
   "cell_type": "markdown",
   "source": [
    "Before testing which variables are missing, we fill missing urine output (`urine_output`) and vasopressor (`rate_std`) values with 0, since missing entries for these two columns means the value is 0 in this dataset. We do this to make sure we don't exclude the columns from the dataset when we shouldn't."
   ],
   "metadata": {}
  },
  {
   "cell_type": "code",
   "execution_count": 3,
   "source": [
    "df.loc[:, ['urine_output', 'rate_std']] = df[['urine_output', 'rate_std']].fillna(0)"
   ],
   "outputs": [],
   "metadata": {}
  },
  {
   "cell_type": "markdown",
   "source": [
    "Then, we forward fill all columns except for `amount` on a per-patient basis. Their values may only be measured occasionally, which is fine since the previous measurement of these values is important, not whether they were measured recently."
   ],
   "metadata": {}
  },
  {
   "cell_type": "code",
   "execution_count": 4,
   "source": [
    "for c in ALL_WEANING_PREDICTORS:\n",
    "    if c == 'amount': continue\n",
    "    df.loc[:, c] = group_by_stay(df, c).ffill()"
   ],
   "outputs": [],
   "metadata": {
    "tags": []
   }
  },
  {
   "cell_type": "code",
   "execution_count": 5,
   "source": [
    "LEN_DF = len(df)\n",
    "cols_to_exclude = set()\n",
    "for c in ALL_WEANING_PREDICTORS:\n",
    "    na_proportion = df[c].isna().sum() / LEN_DF\n",
    "    if na_proportion >= 0.1:\n",
    "        cols_to_exclude.add(c)\n",
    "        print(f'{c}: {round(na_proportion, 3)}')"
   ],
   "outputs": [
    {
     "output_type": "stream",
     "name": "stdout",
     "text": [
      "fio2: 0.21\n",
      "carboxyhemoglobin: 0.95\n",
      "methemoglobin: 0.954\n",
      "ALBUMIN: 0.214\n",
      "BANDS: 0.632\n",
      "BILIRUBIN: 0.115\n",
      "marital_status: 0.124\n"
     ]
    }
   ],
   "metadata": {}
  },
  {
   "cell_type": "markdown",
   "source": [
    "Now that we've identified which columns should be excluded from our analysis, we can create a new list of predictors."
   ],
   "metadata": {}
  },
  {
   "cell_type": "code",
   "execution_count": 7,
   "source": [
    "weaning_predictors = [c for c in ALL_WEANING_PREDICTORS if c not in cols_to_exclude]\n",
    "\n",
    "# If a column for the measurement of a given value at time t-1 exists, add it to the predictors\n",
    "for c in weaning_predictors:\n",
    "    try:\n",
    "        df['last_' + c]\n",
    "        weaning_predictors.append('last_' + c)\n",
    "    except KeyError:\n",
    "        pass"
   ],
   "outputs": [],
   "metadata": {}
  },
  {
   "cell_type": "markdown",
   "source": [
    "The next step is to process the data and remove outliers. The `remove_outliers` function essentially writes over implausible values with NaN."
   ],
   "metadata": {}
  },
  {
   "cell_type": "code",
   "execution_count": 9,
   "source": [
    "df.loc[:, 'amount'] = df['amount']/1000\n",
    "df.loc[:, 'last_amount'] = df['last_amount']/1000\n",
    "\n",
    "remove_outliers(df)"
   ],
   "outputs": [],
   "metadata": {}
  },
  {
   "cell_type": "markdown",
   "source": [
    "Now, we'll standardize our predictors."
   ],
   "metadata": {}
  },
  {
   "cell_type": "code",
   "execution_count": 10,
   "source": [
    "# Standardize predictors\n",
    "numeric = df[weaning_predictors].select_dtypes(exclude='object').columns\n",
    "df.loc[:, numeric] = StandardScaler().fit_transform(df[numeric])\n",
    "# Sanity check to make sure the DataFrame was actually standardized\n",
    "df[numeric].agg(['mean', 'std']).T"
   ],
   "outputs": [
    {
     "output_type": "execute_result",
     "data": {
      "text/plain": [
       "                               mean       std\n",
       "tidal_volume_set      -1.481340e-15  1.000000\n",
       "tidal_volume_observed  1.890011e-16  1.000000\n",
       "plateau_pressure      -1.341404e-15  1.000000\n",
       "ventilator_type       -1.498263e-16  1.000000\n",
       "peep_set               4.947740e-19  1.000000\n",
       "...                             ...       ...\n",
       "last_BUN               2.126035e-16  1.000000\n",
       "last_WBC               1.270951e-15  1.000000\n",
       "last_urine_output      6.301787e-17  1.000001\n",
       "last_GLUCOSE           2.893596e-16  1.000000\n",
       "last_weight            8.312879e-16  1.000000\n",
       "\n",
       "[108 rows x 2 columns]"
      ],
      "text/html": [
       "<div>\n",
       "<style scoped>\n",
       "    .dataframe tbody tr th:only-of-type {\n",
       "        vertical-align: middle;\n",
       "    }\n",
       "\n",
       "    .dataframe tbody tr th {\n",
       "        vertical-align: top;\n",
       "    }\n",
       "\n",
       "    .dataframe thead th {\n",
       "        text-align: right;\n",
       "    }\n",
       "</style>\n",
       "<table border=\"1\" class=\"dataframe\">\n",
       "  <thead>\n",
       "    <tr style=\"text-align: right;\">\n",
       "      <th></th>\n",
       "      <th>mean</th>\n",
       "      <th>std</th>\n",
       "    </tr>\n",
       "  </thead>\n",
       "  <tbody>\n",
       "    <tr>\n",
       "      <th>tidal_volume_set</th>\n",
       "      <td>-1.481340e-15</td>\n",
       "      <td>1.000000</td>\n",
       "    </tr>\n",
       "    <tr>\n",
       "      <th>tidal_volume_observed</th>\n",
       "      <td>1.890011e-16</td>\n",
       "      <td>1.000000</td>\n",
       "    </tr>\n",
       "    <tr>\n",
       "      <th>plateau_pressure</th>\n",
       "      <td>-1.341404e-15</td>\n",
       "      <td>1.000000</td>\n",
       "    </tr>\n",
       "    <tr>\n",
       "      <th>ventilator_type</th>\n",
       "      <td>-1.498263e-16</td>\n",
       "      <td>1.000000</td>\n",
       "    </tr>\n",
       "    <tr>\n",
       "      <th>peep_set</th>\n",
       "      <td>4.947740e-19</td>\n",
       "      <td>1.000000</td>\n",
       "    </tr>\n",
       "    <tr>\n",
       "      <th>...</th>\n",
       "      <td>...</td>\n",
       "      <td>...</td>\n",
       "    </tr>\n",
       "    <tr>\n",
       "      <th>last_BUN</th>\n",
       "      <td>2.126035e-16</td>\n",
       "      <td>1.000000</td>\n",
       "    </tr>\n",
       "    <tr>\n",
       "      <th>last_WBC</th>\n",
       "      <td>1.270951e-15</td>\n",
       "      <td>1.000000</td>\n",
       "    </tr>\n",
       "    <tr>\n",
       "      <th>last_urine_output</th>\n",
       "      <td>6.301787e-17</td>\n",
       "      <td>1.000001</td>\n",
       "    </tr>\n",
       "    <tr>\n",
       "      <th>last_GLUCOSE</th>\n",
       "      <td>2.893596e-16</td>\n",
       "      <td>1.000000</td>\n",
       "    </tr>\n",
       "    <tr>\n",
       "      <th>last_weight</th>\n",
       "      <td>8.312879e-16</td>\n",
       "      <td>1.000000</td>\n",
       "    </tr>\n",
       "  </tbody>\n",
       "</table>\n",
       "<p>108 rows × 2 columns</p>\n",
       "</div>"
      ]
     },
     "metadata": {},
     "execution_count": 10
    }
   ],
   "metadata": {}
  },
  {
   "cell_type": "markdown",
   "source": [
    "Before modeling the probability of weaning, we'll impute medians and remove extreme values from the covariates."
   ],
   "metadata": {}
  },
  {
   "cell_type": "code",
   "execution_count": 11,
   "source": [
    "for c in numeric:\n",
    "    df.loc[:, c].fillna(df[c].median(), inplace=True)\n",
    "\n",
    "remove_extremes(df)"
   ],
   "outputs": [],
   "metadata": {}
  },
  {
   "cell_type": "markdown",
   "source": [
    "The final step before modeling is to define our training data. Since we're interested in predicting the probability of starting the first weaning attempt, the relevant data is every timestep up until and including the true start of the first weaning attempt.\n",
    "\n",
    "For context, any commented-out code in the following cells represents what was/would be run had the notebook used the full dataframe instead of a sampled dataframe."
   ],
   "metadata": {}
  },
  {
   "cell_type": "code",
   "execution_count": 90,
   "source": [
    "num_days_off_ctrl = group_by_stay(df, 'control').transform(\n",
    "    lambda x: (x == 0).cumsum()\n",
    ")\n",
    "df = df.loc[num_days_off_ctrl <= 1]\n",
    "df = df.reset_index(drop=True)\n",
    "\n",
    "# df.to_csv('processed_data.csv')"
   ],
   "outputs": [],
   "metadata": {}
  },
  {
   "cell_type": "code",
   "execution_count": null,
   "source": [
    "MODEL_PARAMS = {\n",
    "    'penalty': 'l2',\n",
    "    'max_iter': 2000,\n",
    "}\n",
    "# Dataframe checkpoint (loading in full processed dataset)\n",
    "df = pd.read_csv('processed_data.csv')\n",
    "\n",
    "X = df.loc[:, weaning_predictors]\n",
    "y = df.loc[:, 'control']\n",
    "\n",
    "for col in X.select_dtypes(include='object'):\n",
    "    X.loc[:, col] = LabelEncoder().fit_transform(X[col])"
   ],
   "outputs": [],
   "metadata": {}
  },
  {
   "cell_type": "code",
   "execution_count": 93,
   "source": [
    "# weaning_predictor = LogisticRegression(**MODEL_PARAMS).fit(X, y)\n",
    "# with open('models/weaning_predictor.pkl', 'wb') as f:\n",
    "#     pickle.dump(weaning_predictor, f)\n",
    "\n",
    "# Load in a LogisticRegression model fitted on the full dataset\n",
    "with open('models/weaning_predictor.pkl', 'rb') as f:\n",
    "    weaning_predictor = pickle.load(f)\n",
    "\n",
    "create_calibration_curve(\n",
    "    weaning_predictor, X, y,\n",
    "    'Standard Logistic Regression',\n",
    "    save_path='images/calibration_curve.png'\n",
    ")"
   ],
   "outputs": [
    {
     "output_type": "display_data",
     "data": {
      "text/plain": [
       "<Figure size 432x288 with 1 Axes>"
      ],
      "image/png": "[encoded data removed]"
     },
     "metadata": {
      "needs_background": "light"
     }
    }
   ],
   "metadata": {}
  },
  {
   "cell_type": "markdown",
   "source": [
    "Train a calibrated regressor since the above graph shows that the current predictor is poorly calibrated."
   ],
   "metadata": {}
  },
  {
   "cell_type": "code",
   "execution_count": 94,
   "source": [
    "calibrated_predictor = CalibratedClassifierCV(\n",
    "    base_estimator=LogisticRegression(**MODEL_PARAMS),\n",
    "    method='isotonic'\n",
    "    ).fit(X, y)\n",
    "\n",
    "with open('models/calibrated_predictor.pkl', 'wb') as f:\n",
    "    pickle.dump(calibrated_predictor, f)\n",
    "\n",
    "# Load in a calibrated LogisticRegression model fitted on the full dataset\n",
    "with open('models/calibrated_predictor.pkl', 'rb') as f:\n",
    "    calibrated_predictor = pickle.load(f)\n",
    "\n",
    "create_calibration_curve(\n",
    "    calibrated_predictor, X, y, \n",
    "    'Logistic Regression with Isotonic Calibration',\n",
    "    save_path='images/isotonic_calibration_curve.png'\n",
    ")"
   ],
   "outputs": [
    {
     "output_type": "display_data",
     "data": {
      "text/plain": [
       "<Figure size 432x288 with 1 Axes>"
      ],
      "image/png": "[encoded data removed]"
     },
     "metadata": {
      "needs_background": "light"
     }
    }
   ],
   "metadata": {}
  },
  {
   "cell_type": "markdown",
   "source": [
    "With our well-calibrated model for the probability of weaning, we can now estimate the causal effect of incrementing this propensity score."
   ],
   "metadata": {}
  },
  {
   "cell_type": "code",
   "execution_count": 101,
   "source": [
    "# For each value of delta:\n",
    "\n",
    "# 1. Construct time-dependent weights W_t for each subject and timepoint\n",
    "# 2. Calculate cumulative product weight for each subject across timepoints\n",
    "# 3. Multiply each cumulative product weight by the outcome\n",
    "# 4. Take the average of these products to estimate the mean counterfactual outcome\n",
    "\n",
    "# Create a column with the propensity of a subject at a given timepoint to begin weaning\n",
    "df.loc[:, 'propensity_score'] = calibrated_predictor.predict_proba(X)[:, 0]\n",
    "\n",
    "# Create a column tracking whether weaning has begun or not\n",
    "df.loc[:, 'weaning'] = (df['control'] == 0).astype(int)\n",
    "\n",
    "def calculate_estimates(\n",
    "    deltas,\n",
    "    data=df,\n",
    "    treatment_col='weaning',\n",
    "    propensity_col='propensity_score',\n",
    "    outcome_col='hospital_expire_flag'\n",
    "    ):\n",
    "    \"\"\"\n",
    "    Calculate estimates for the effect on `outcome_col` of intervening on `A`\n",
    "    \"\"\"\n",
    "    data = data.copy()\n",
    "    results = {}\n",
    "    for delta in deltas:\n",
    "        A = data[treatment_col]\n",
    "        pi_hat = data[propensity_col]\n",
    "        weight_col = f'weights_d{delta}_{outcome_col}'\n",
    "        # construct time-dependent weights for each subject at each timepoint\n",
    "        data.loc[:, weight_col] = (\n",
    "            ((delta * A) + 1 - A) /\n",
    "            ((delta * pi_hat) + 1 - pi_hat)\n",
    "        )\n",
    "        # calculate cumulative product of weights\n",
    "        cumulative_products = group_by_stay(data, weight_col).prod()\n",
    "        # truncate cumulative weights at the 99th percentile\n",
    "        max_val = cumulative_products.quantile(q=0.99)\n",
    "        cumulative_products = np.minimum(cumulative_products, max_val)\n",
    "        # multiply by outcome\n",
    "        weighted_products = cumulative_products.multiply(\n",
    "            group_by_stay(data, outcome_col).first()\n",
    "        )\n",
    "        # average over subjects and add to results\n",
    "        results[delta] = weighted_products.mean()\n",
    "    return results\n",
    "\n",
    "\n",
    "delta_vals = np.around(np.arange(0.5, 2.1, 0.1), decimals=1) # round to remove floating point errors\n",
    "\n",
    "results = calculate_estimates(delta_vals)\n",
    "\n",
    "pprint(results)"
   ],
   "outputs": [
    {
     "output_type": "stream",
     "name": "stdout",
     "text": [
      "{0.5: 0.3643007739410494,\n",
      " 0.6: 0.36421593701509786,\n",
      " 0.7: 0.3634146007460902,\n",
      " 0.8: 0.36220445256056355,\n",
      " 0.9: 0.36081761237349447,\n",
      " 1.0: 0.3593241357929006,\n",
      " 1.1: 0.3574718748501072,\n",
      " 1.2: 0.35576773627641306,\n",
      " 1.3: 0.35414893542362286,\n",
      " 1.4: 0.3525811443033539,\n",
      " 1.5: 0.3510452519213743,\n",
      " 1.6: 0.34953054812140316,\n",
      " 1.7: 0.3480310721138083,\n",
      " 1.8: 0.34654358992180184,\n",
      " 1.9: 0.3450664433840658,\n",
      " 2.0: 0.3435988814473932}\n"
     ]
    }
   ],
   "metadata": {}
  },
  {
   "cell_type": "markdown",
   "source": [
    "To get a better idea of the results, we'll plot a line graph of the estimated outcomes for each value of delta."
   ],
   "metadata": {}
  },
  {
   "cell_type": "code",
   "execution_count": 96,
   "source": [
    "plt.xlabel('Delta')\n",
    "plt.ylabel('Mean Estimated Mortality Rate')\n",
    "plt.plot(results.keys(), results.values())\n",
    "plt.axvline(1, color='grey', alpha=0.5)\n",
    "plt.minorticks_on()\n",
    "plt.savefig('images/mortality_results.png', facecolor='white')\n",
    "plt.show()"
   ],
   "outputs": [
    {
     "output_type": "display_data",
     "data": {
      "text/plain": [
       "<Figure size 432x288 with 1 Axes>"
      ],
      "image/png": "[encoded data removed]"
     },
     "metadata": {
      "needs_background": "light"
     }
    }
   ],
   "metadata": {}
  },
  {
   "cell_type": "markdown",
   "source": [
    "Next: bootstrap to determine variability."
   ],
   "metadata": {}
  },
  {
   "cell_type": "code",
   "execution_count": 47,
   "source": [
    "N_BOOTSTRAPS = 25\n",
    "outcome_estimates = {d: [] for d in delta_vals}\n",
    "\n",
    "stays = df['stay_id'].unique()\n",
    "\n",
    "def get_bootstrap_sample():\n",
    "    \"\"\"Randomly sample from the dataframe, keeping the number of stays the same.\"\"\"\n",
    "    sampled_stays = np.random.choice(stays, size=stays.shape, replace=True)\n",
    "    # Determine how many times each stay should be repeated (since we sample w/replacement)\n",
    "    num_repeats = {s: 0 for s in sampled_stays}\n",
    "    for s in sampled_stays:\n",
    "        num_repeats[s] += 1\n",
    "    # Choose only the selected stays\n",
    "    curr_data = df.loc[df['stay_id'].isin(sampled_stays)]\n",
    "    indices = []\n",
    "    for stay, idxs in group_by_stay(curr_data).groups.items():\n",
    "        indices += (num_repeats[stay] * list(idxs))\n",
    "    return curr_data.reindex(indices)\n",
    "\n",
    "for i in range(N_BOOTSTRAPS):\n",
    "    r = calculate_estimates(\n",
    "        delta_vals,\n",
    "        data=get_bootstrap_sample()\n",
    "    )\n",
    "    for delta, estimate in r.items():\n",
    "        outcome_estimates[delta].append(estimate)\n",
    "\n",
    "outcome_estimates = pd.DataFrame(outcome_estimates)\n",
    "# outcome_estimates.to_csv('outcome_estimates.csv')\n",
    "outcome_estimates.head()"
   ],
   "outputs": [
    {
     "output_type": "execute_result",
     "data": {
      "text/plain": [
       "        0.5       0.6       0.7       0.8       0.9       1.0       1.1  \\\n",
       "0  0.416658  0.394455  0.379731  0.370468  0.364566  0.360982  0.358191   \n",
       "1  0.381054  0.374226  0.368726  0.364702  0.361801  0.359774  0.358011   \n",
       "2  0.410796  0.390302  0.376882  0.367855  0.361892  0.358091  0.355279   \n",
       "3  0.405977  0.388406  0.376205  0.368413  0.363711  0.361057  0.359332   \n",
       "4  0.407890  0.387024  0.373697  0.365501  0.360577  0.357879  0.356163   \n",
       "\n",
       "        1.2       1.3       1.4       1.5       1.6       1.7       1.8  \\\n",
       "0  0.356961  0.356619  0.356836  0.357437  0.358316  0.359403  0.360653   \n",
       "1  0.357035  0.356535  0.356347  0.356368  0.356550  0.356847  0.357229   \n",
       "2  0.353908  0.353426  0.353558  0.354135  0.355012  0.356161  0.357515   \n",
       "3  0.358904  0.359246  0.360104  0.361309  0.362762  0.364399  0.366173   \n",
       "4  0.355855  0.356396  0.357493  0.358985  0.360773  0.362792  0.364995   \n",
       "\n",
       "        1.9       2.0  \n",
       "0  0.362034  0.363519  \n",
       "1  0.357676  0.358173  \n",
       "2  0.359034  0.360686  \n",
       "3  0.368054  0.370015  \n",
       "4  0.367347  0.369821  "
      ],
      "text/html": [
       "<div>\n",
       "<style scoped>\n",
       "    .dataframe tbody tr th:only-of-type {\n",
       "        vertical-align: middle;\n",
       "    }\n",
       "\n",
       "    .dataframe tbody tr th {\n",
       "        vertical-align: top;\n",
       "    }\n",
       "\n",
       "    .dataframe thead th {\n",
       "        text-align: right;\n",
       "    }\n",
       "</style>\n",
       "<table border=\"1\" class=\"dataframe\">\n",
       "  <thead>\n",
       "    <tr style=\"text-align: right;\">\n",
       "      <th></th>\n",
       "      <th>0.5</th>\n",
       "      <th>0.6</th>\n",
       "      <th>0.7</th>\n",
       "      <th>0.8</th>\n",
       "      <th>0.9</th>\n",
       "      <th>1.0</th>\n",
       "      <th>1.1</th>\n",
       "      <th>1.2</th>\n",
       "      <th>1.3</th>\n",
       "      <th>1.4</th>\n",
       "      <th>1.5</th>\n",
       "      <th>1.6</th>\n",
       "      <th>1.7</th>\n",
       "      <th>1.8</th>\n",
       "      <th>1.9</th>\n",
       "      <th>2.0</th>\n",
       "    </tr>\n",
       "  </thead>\n",
       "  <tbody>\n",
       "    <tr>\n",
       "      <th>0</th>\n",
       "      <td>0.416658</td>\n",
       "      <td>0.394455</td>\n",
       "      <td>0.379731</td>\n",
       "      <td>0.370468</td>\n",
       "      <td>0.364566</td>\n",
       "      <td>0.360982</td>\n",
       "      <td>0.358191</td>\n",
       "      <td>0.356961</td>\n",
       "      <td>0.356619</td>\n",
       "      <td>0.356836</td>\n",
       "      <td>0.357437</td>\n",
       "      <td>0.358316</td>\n",
       "      <td>0.359403</td>\n",
       "      <td>0.360653</td>\n",
       "      <td>0.362034</td>\n",
       "      <td>0.363519</td>\n",
       "    </tr>\n",
       "    <tr>\n",
       "      <th>1</th>\n",
       "      <td>0.381054</td>\n",
       "      <td>0.374226</td>\n",
       "      <td>0.368726</td>\n",
       "      <td>0.364702</td>\n",
       "      <td>0.361801</td>\n",
       "      <td>0.359774</td>\n",
       "      <td>0.358011</td>\n",
       "      <td>0.357035</td>\n",
       "      <td>0.356535</td>\n",
       "      <td>0.356347</td>\n",
       "      <td>0.356368</td>\n",
       "      <td>0.356550</td>\n",
       "      <td>0.356847</td>\n",
       "      <td>0.357229</td>\n",
       "      <td>0.357676</td>\n",
       "      <td>0.358173</td>\n",
       "    </tr>\n",
       "    <tr>\n",
       "      <th>2</th>\n",
       "      <td>0.410796</td>\n",
       "      <td>0.390302</td>\n",
       "      <td>0.376882</td>\n",
       "      <td>0.367855</td>\n",
       "      <td>0.361892</td>\n",
       "      <td>0.358091</td>\n",
       "      <td>0.355279</td>\n",
       "      <td>0.353908</td>\n",
       "      <td>0.353426</td>\n",
       "      <td>0.353558</td>\n",
       "      <td>0.354135</td>\n",
       "      <td>0.355012</td>\n",
       "      <td>0.356161</td>\n",
       "      <td>0.357515</td>\n",
       "      <td>0.359034</td>\n",
       "      <td>0.360686</td>\n",
       "    </tr>\n",
       "    <tr>\n",
       "      <th>3</th>\n",
       "      <td>0.405977</td>\n",
       "      <td>0.388406</td>\n",
       "      <td>0.376205</td>\n",
       "      <td>0.368413</td>\n",
       "      <td>0.363711</td>\n",
       "      <td>0.361057</td>\n",
       "      <td>0.359332</td>\n",
       "      <td>0.358904</td>\n",
       "      <td>0.359246</td>\n",
       "      <td>0.360104</td>\n",
       "      <td>0.361309</td>\n",
       "      <td>0.362762</td>\n",
       "      <td>0.364399</td>\n",
       "      <td>0.366173</td>\n",
       "      <td>0.368054</td>\n",
       "      <td>0.370015</td>\n",
       "    </tr>\n",
       "    <tr>\n",
       "      <th>4</th>\n",
       "      <td>0.407890</td>\n",
       "      <td>0.387024</td>\n",
       "      <td>0.373697</td>\n",
       "      <td>0.365501</td>\n",
       "      <td>0.360577</td>\n",
       "      <td>0.357879</td>\n",
       "      <td>0.356163</td>\n",
       "      <td>0.355855</td>\n",
       "      <td>0.356396</td>\n",
       "      <td>0.357493</td>\n",
       "      <td>0.358985</td>\n",
       "      <td>0.360773</td>\n",
       "      <td>0.362792</td>\n",
       "      <td>0.364995</td>\n",
       "      <td>0.367347</td>\n",
       "      <td>0.369821</td>\n",
       "    </tr>\n",
       "  </tbody>\n",
       "</table>\n",
       "</div>"
      ]
     },
     "metadata": {},
     "execution_count": 47
    }
   ],
   "metadata": {}
  },
  {
   "cell_type": "code",
   "execution_count": 48,
   "source": [
    "bounds = outcome_estimates.min(), outcome_estimates.max()\n",
    "plt.fill_between(delta_vals, bounds[0], bounds[1], alpha=0.5)\n",
    "plt.plot(results.keys(), results.values())\n",
    "plt.show()"
   ],
   "outputs": [
    {
     "output_type": "display_data",
     "data": {
      "text/plain": [
       "<Figure size 432x288 with 1 Axes>"
      ],
      "image/png": "[encoded data removed]"
     },
     "metadata": {
      "needs_background": "light"
     }
    }
   ],
   "metadata": {}
  },
  {
   "cell_type": "markdown",
   "source": [
    "Now that we have an understanding of the variability of our estimates, we'll run one final analysis. This time, instead of looking at the impact of weaning interventions on mortality, our outcome of interest will be the amount of time until first weaning attempt. The goal of this is to see how much of an impact the interventions actually have on the time before first attempt."
   ],
   "metadata": {}
  },
  {
   "cell_type": "code",
   "execution_count": 97,
   "source": [
    "grouped = group_by_stay(df, 'weaning')\n",
    "df['time_until_wean'] = (grouped\n",
    "    # Apply the .max() and .size() functions to the weaning groups\n",
    "    # This determines 1. whether weaning occured\n",
    "    # and 2. the number of hours at which weaning began (if it did)\n",
    "    .agg(['max', 'size'])\n",
    "    # If weaning did occur, return the number of hours after baseline with it occured\n",
    "    # Otherwise, we set the value to 720 hours\n",
    "    .apply(lambda row: row['size'] if row['max'] else 720, axis=1)\n",
    "    # Repeat rows to ensure the size of the array matches what's in the dataframe\n",
    "    .repeat(grouped.size())\n",
    "    # Reset index so column can be inserted into the dataframe properly\n",
    "    .reset_index(drop=True)\n",
    ")"
   ],
   "outputs": [],
   "metadata": {}
  },
  {
   "cell_type": "code",
   "execution_count": 99,
   "source": [
    "time_until_wean_results = calculate_estimates(delta_vals, outcome_col='time_until_wean')\n",
    "pprint(time_until_wean_results)"
   ],
   "outputs": [
    {
     "output_type": "stream",
     "name": "stdout",
     "text": [
      "{0.5: 127.57952156409202,\n",
      " 0.6: 121.58856909693662,\n",
      " 0.7: 116.45328741416078,\n",
      " 0.8: 111.99016074941635,\n",
      " 0.9: 108.09519993708635,\n",
      " 1.0: 104.64827158580074,\n",
      " 1.1: 101.37925351029698,\n",
      " 1.2: 98.52194473914695,\n",
      " 1.3: 95.97301901463695,\n",
      " 1.4: 93.66403510939921,\n",
      " 1.5: 91.547573584149,\n",
      " 1.6: 89.58950680352619,\n",
      " 1.7: 87.76446921319807,\n",
      " 1.8: 86.0530836934607,\n",
      " 1.9: 84.44019615156392,\n",
      " 2.0: 82.91371292871415}\n"
     ]
    }
   ],
   "metadata": {}
  },
  {
   "cell_type": "code",
   "execution_count": 100,
   "source": [
    "plt.xlabel('Delta')\n",
    "plt.ylabel('Mean Estimated Hours Until Weaning Begins')\n",
    "plt.plot(time_until_wean_results.keys(), time_until_wean_results.values())\n",
    "plt.axvline(1, color='grey', alpha=0.5)\n",
    "plt.minorticks_on()\n",
    "plt.savefig('images/time_until_wean_results.png', facecolor='white')\n",
    "plt.show()"
   ],
   "outputs": [
    {
     "output_type": "display_data",
     "data": {
      "text/plain": [
       "<Figure size 432x288 with 1 Axes>"
      ],
      "image/png": "[encoded data removed]"
     },
     "metadata": {
      "needs_background": "light"
     }
    }
   ],
   "metadata": {}
  },
  {
   "cell_type": "code",
   "execution_count": 102,
   "source": [
    "fig, axs = plt.subplots(nrows=1, ncols=2, figsize=(10, 5))\n",
    "axs[0].hist(df['propensity_score'])\n",
    "axs[0].set_title('log = False')\n",
    "axs[1].set_title('log = True')\n",
    "axs[1].hist(df['propensity_score'], log=True)\n",
    "fig.suptitle('Histograms of Propensity Scores')\n",
    "plt.savefig('images/propensity_scores.png', facecolor='white')\n",
    "plt.show()"
   ],
   "outputs": [
    {
     "output_type": "display_data",
     "data": {
      "text/plain": [
       "<Figure size 720x360 with 2 Axes>"
      ],
      "image/png": "[encoded data removed]"
     },
     "metadata": {
      "needs_background": "light"
     }
    }
   ],
   "metadata": {}
  }
 ],
 "metadata": {
  "interpreter": {
   "hash": "56b99ba35fbf06c4dc463b67e081262ac24be503d9ee1adee8d3ec32db9e0e1c"
  },
  "kernelspec": {
   "name": "python3",
   "display_name": "Python 3.9.0 64-bit ('venv': venv)"
  },
  "language_info": {
   "codemirror_mode": {
    "name": "ipython",
    "version": 3
   },
   "file_extension": ".py",
   "mimetype": "text/x-python",
   "name": "python",
   "nbconvert_exporter": "python",
   "pygments_lexer": "ipython3",
   "version": "3.9.0"
  },
  "metadata": {
   "interpreter": {
    "hash": "974242ba8bd4aee876d4cc6b2b4fd6d90080efacd3e889d4fd5fe2f92b3a2fbb"
   }
  },
  "orig_nbformat": 2
 },
 "nbformat": 4,
 "nbformat_minor": 2
}