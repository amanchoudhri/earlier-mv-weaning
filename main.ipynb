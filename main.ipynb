{
 "cells": [
  {
   "cell_type": "markdown",
   "metadata": {},
   "source": [
    "# Effects of Aggressive and Conservative Strategies for Mechanical Ventilation Liberation\n",
    "This project aims to use causal inference to estimate the effects of weaning patients off mechanical ventilation sooner or later than normal, following the approach described in [Kennedy, 2018](https://arxiv.org/pdf/1704.00211.pdf). In this study we consider patients who have been on mechanical ventilation for 24 hours (our start criteria)."
   ]
  },
  {
   "cell_type": "code",
   "execution_count": 22,
   "metadata": {},
   "outputs": [],
   "source": [
    "import pickle\n",
    "from pprint import pprint\n",
    "\n",
    "import numpy as np\n",
    "import pandas as pd\n",
    "\n",
    "from matplotlib import pyplot as plt\n",
    "from sklearn.calibration import CalibratedClassifierCV\n",
    "from sklearn.linear_model import LogisticRegression\n",
    "from sklearn.preprocessing import LabelEncoder, StandardScaler\n",
    "\n",
    "# ALL_WEANING_PREDICTORS is a list of all covariates intially identified as potentially useful in predicting probability of weaning\n",
    "# group_by_stay is a helper function that groups a dataframe by the column 'stay_id'\n",
    "from common import (\n",
    "    ALL_WEANING_PREDICTORS,\n",
    "    group_by_stay,\n",
    "    calibration_curve\n",
    ")\n",
    "\n",
    "np.random.seed(0)"
   ]
  },
  {
   "cell_type": "markdown",
   "metadata": {},
   "source": [
    "First, we exclude variables from consideration if they are missing more than 10% of the time in post-baseline times. Post-baseline in this case means we filter out records from patients at time points before our start criteria.\n",
    "\n",
    "```\n",
    ">>> full_df = pd.read_csv('full_weaning_dataset.csv')\n",
    ">>> post_baseline_df = full_df.loc[full_df['hour_baseline'] >= 1]\n",
    ">>> post_baseline_df.to_csv('post_baseline_weaning.csv')\n",
    "```"
   ]
  },
  {
   "cell_type": "code",
   "execution_count": 2,
   "metadata": {},
   "outputs": [
    {
     "name": "stderr",
     "output_type": "stream",
     "text": [
      "/Users/aman/VSCode Files/earlier-mv-weaning/venv/lib/python3.9/site-packages/IPython/core/interactiveshell.py:3169: DtypeWarning: Columns (10) have mixed types.Specify dtype option on import or set low_memory=False.\n",
      "  has_raised = await self.run_ast_nodes(code_ast.body, cell_name,\n"
     ]
    }
   ],
   "source": [
    "# Load in the required datasets\n",
    "# df contains records for the duration of each stay across all stay_ids\n",
    "df = pd.read_csv('post_baseline_weaning.csv')\n",
    "# Cohort contains information about each patient, including\n",
    "# intime, outtime, deathtime, subject_id, etc\n",
    "cohort = pd.read_csv('icustays_1.0.csv')\n",
    "careunits = pd.read_csv('careunits_1.0.csv')\n",
    "admissions = pd.read_csv('admissions.csv')\n",
    "cohort = cohort.merge(careunits).merge(admissions)"
   ]
  },
  {
   "cell_type": "markdown",
   "metadata": {},
   "source": [
    "## Clean the main dataframe\n",
    "Overview:\n",
    " - Remove patients who have deathtimes before the baseline criteria for the study.\n",
    " - Include only the first ICU stays for each patient\n",
    " - Fill missing values for certain columns where NaN values just mean 0\n",
    " - Create a few columns to track the value of certain variables at time t-1\n",
    " - Forward fill most of the columns to remove NaN values, since in most cases NaN simply means the variable wasn't measured at that timepoint\n",
    " - Ignore columns who still have a NaN proportion > 0.1\n",
    " \n",
    "First, remove patients whose deathtimes are listed as before the baseline criteria for this study."
   ]
  },
  {
   "cell_type": "markdown",
   "metadata": {},
   "source": [
    "Ventilation status being 2 or 5 indicates invasive ventilation or the presence a tracheal tube, respectively. When the status shifts away from these values, it implies the patient was extubated, so adjust control accordingly."
   ]
  },
  {
   "cell_type": "code",
   "execution_count": 3,
   "metadata": {},
   "outputs": [],
   "source": [
    "df.loc[~df['ventilation_status'].isin([2, 5]), 'control'] = 0"
   ]
  },
  {
   "cell_type": "markdown",
   "metadata": {},
   "source": [
    "Our time period of interest is every timestep up until and including the start of the first liberation attempt. So, we remove all data points past weaning."
   ]
  },
  {
   "cell_type": "code",
   "execution_count": 4,
   "metadata": {},
   "outputs": [],
   "source": [
    "df['weaning'] = 1 - df['control']\n",
    "df['is_past_wean'] = group_by_stay(df, 'weaning').apply(\n",
    "    lambda stay: stay.cumsum().cumsum() > 1\n",
    "    )\n",
    "df = df[~df['is_past_wean']]                                   "
   ]
  },
  {
   "cell_type": "markdown",
   "metadata": {},
   "source": [
    "Fill missing urine output and vasopressor (`rate_std`) values with 0, since missing entries for these two columns means the value is 0 in this dataset. We do this to make sure we don't accidentally exclude the columns from the dataset because their NaN proportion appears too high, when they should really be included."
   ]
  },
  {
   "cell_type": "code",
   "execution_count": 5,
   "metadata": {},
   "outputs": [],
   "source": [
    "cols_to_impute = ['urine_output', 'last_urine_output', 'rate_std', 'last_rate_std']\n",
    "df.loc[:, cols_to_impute] = df[cols_to_impute].fillna(0)"
   ]
  },
  {
   "cell_type": "markdown",
   "metadata": {},
   "source": [
    "Next, we'll create some relevant columns (mostly ones that track the 'last' version of a given variable, i.e. the value at the previous timepoint)."
   ]
  },
  {
   "cell_type": "code",
   "execution_count": 6,
   "metadata": {},
   "outputs": [],
   "source": [
    "df['any_vaso'] = df['rate_std'] > 0\n",
    "\n",
    "for col in ('opioid', 'benzo', 'propofol','dex', 'driving_pressure', 'any_vaso'):\n",
    "    df[f'last_{col}'] = group_by_stay(df, col).shift(periods=1)"
   ]
  },
  {
   "cell_type": "markdown",
   "metadata": {},
   "source": [
    "Remove any stays corresponding to patients whose deathtimes occured before the baseline time for the study."
   ]
  },
  {
   "cell_type": "code",
   "execution_count": 7,
   "metadata": {},
   "outputs": [],
   "source": [
    "df = df.merge(cohort[['stay_id', 'deathtime', 'intime']])\n",
    "# Find the actual time at which the patient's stay started,\n",
    "# rather than hour `44`, for example\n",
    "df['baseline_time'] = (\n",
    "    pd.to_datetime(df['intime']) +\n",
    "    pd.to_timedelta(df['baseline_hour'], unit='hr')\n",
    ")\n",
    "# Identify the stays corresponding to patients whose\n",
    "# deathtimes occured before the baseline time for the study.\n",
    "stays_to_omit = df.loc[ \n",
    "    df['baseline_time'] > pd.to_datetime(df['deathtime']),\n",
    "    'stay_id'\n",
    "].unique()\n",
    "\n",
    "df = df.loc[~df['stay_id'].isin(stays_to_omit)]"
   ]
  },
  {
   "cell_type": "markdown",
   "metadata": {},
   "source": [
    "Next, we'll filter the dataframe so only the first ICU stay for each patient is included."
   ]
  },
  {
   "cell_type": "code",
   "execution_count": 8,
   "metadata": {},
   "outputs": [],
   "source": [
    "# Select subject_id and intime from each valid stay_id in cohort\n",
    "subjects = cohort.loc[\n",
    "    cohort['stay_id'].isin(df['stay_id']), ['subject_id', 'stay_id', 'intime']\n",
    "]\n",
    "# Sort by subject_id, then by intime to identify which is the first stay\n",
    "subjects.sort_values(['subject_id', 'intime'], ignore_index=True, inplace=True)\n",
    "# Get those first stay_ids\n",
    "first_stay_ids = subjects.groupby('subject_id')['stay_id'].first()\n",
    "# Filter df (and subjects) to only include those stays\n",
    "df = df[df['stay_id'].isin(first_stay_ids)]\n",
    "subjects = subjects[subjects['stay_id'].isin(first_stay_ids)]\n",
    "\n",
    "# Sort the df\n",
    "df.sort_values(['stay_id', 'hour'], ignore_index=True, inplace=True)"
   ]
  },
  {
   "cell_type": "markdown",
   "metadata": {},
   "source": [
    "Identify variables whose NA proportion is above 0.10, so we can exclude them."
   ]
  },
  {
   "cell_type": "code",
   "execution_count": 9,
   "metadata": {},
   "outputs": [
    {
     "name": "stdout",
     "output_type": "stream",
     "text": [
      "marital_status: 0.15031893611692573\n"
     ]
    }
   ],
   "source": [
    "cols_to_exclude = []\n",
    "for c in ALL_WEANING_PREDICTORS:\n",
    "    na_proportion = df[c].isna().mean()\n",
    "    if na_proportion >= 0.1:\n",
    "        cols_to_exclude.append(c)\n",
    "        print(f'{c}: {na_proportion}')"
   ]
  },
  {
   "cell_type": "markdown",
   "metadata": {},
   "source": [
    "Now that we've identified which columns should be excluded from our analysis, we can create a new list of predictors."
   ]
  },
  {
   "cell_type": "code",
   "execution_count": 10,
   "metadata": {},
   "outputs": [],
   "source": [
    "weaning_predictors = [\n",
    "    c for c in ALL_WEANING_PREDICTORS if c not in cols_to_exclude\n",
    "]"
   ]
  },
  {
   "cell_type": "markdown",
   "metadata": {},
   "source": [
    "Impute missing values (for numeric columns) with the median value."
   ]
  },
  {
   "cell_type": "code",
   "execution_count": 11,
   "metadata": {},
   "outputs": [],
   "source": [
    "for c in weaning_predictors:\n",
    "    try:\n",
    "        df[c].fillna(df[c].median(), inplace=True)\n",
    "    # If a column is a string or object type, the median method will throw a TypeError\n",
    "    except TypeError:\n",
    "        pass"
   ]
  },
  {
   "cell_type": "markdown",
   "metadata": {},
   "source": [
    "Now, we'll standardize our predictors."
   ]
  },
  {
   "cell_type": "code",
   "execution_count": 12,
   "metadata": {},
   "outputs": [
    {
     "data": {
      "text/html": [
       "<div>\n",
       "<style scoped>\n",
       "    .dataframe tbody tr th:only-of-type {\n",
       "        vertical-align: middle;\n",
       "    }\n",
       "\n",
       "    .dataframe tbody tr th {\n",
       "        vertical-align: top;\n",
       "    }\n",
       "\n",
       "    .dataframe thead th {\n",
       "        text-align: right;\n",
       "    }\n",
       "</style>\n",
       "<table border=\"1\" class=\"dataframe\">\n",
       "  <thead>\n",
       "    <tr style=\"text-align: right;\">\n",
       "      <th></th>\n",
       "      <th>mean</th>\n",
       "      <th>std</th>\n",
       "    </tr>\n",
       "  </thead>\n",
       "  <tbody>\n",
       "    <tr>\n",
       "      <th>last_peep_set</th>\n",
       "      <td>1.894669e-16</td>\n",
       "      <td>1.000002</td>\n",
       "    </tr>\n",
       "    <tr>\n",
       "      <th>last_tidal_volume_set</th>\n",
       "      <td>-2.701398e-16</td>\n",
       "      <td>1.000002</td>\n",
       "    </tr>\n",
       "    <tr>\n",
       "      <th>last_resp_rate</th>\n",
       "      <td>-3.831521e-17</td>\n",
       "      <td>1.000002</td>\n",
       "    </tr>\n",
       "    <tr>\n",
       "      <th>last_peak_insp_pressure</th>\n",
       "      <td>-1.344547e-16</td>\n",
       "      <td>1.000002</td>\n",
       "    </tr>\n",
       "    <tr>\n",
       "      <th>last_plateau_pressure</th>\n",
       "      <td>-1.963215e-16</td>\n",
       "      <td>1.000002</td>\n",
       "    </tr>\n",
       "    <tr>\n",
       "      <th>last_mean_airway_pressure</th>\n",
       "      <td>2.193458e-16</td>\n",
       "      <td>1.000002</td>\n",
       "    </tr>\n",
       "    <tr>\n",
       "      <th>last_minutes_vol</th>\n",
       "      <td>2.293640e-17</td>\n",
       "      <td>1.000002</td>\n",
       "    </tr>\n",
       "    <tr>\n",
       "      <th>last_pao2fio2ratio</th>\n",
       "      <td>3.485278e-16</td>\n",
       "      <td>1.000002</td>\n",
       "    </tr>\n",
       "    <tr>\n",
       "      <th>last_driving_pressure</th>\n",
       "      <td>-1.428911e-16</td>\n",
       "      <td>1.000002</td>\n",
       "    </tr>\n",
       "    <tr>\n",
       "      <th>last_po2</th>\n",
       "      <td>-5.769250e-17</td>\n",
       "      <td>1.000002</td>\n",
       "    </tr>\n",
       "    <tr>\n",
       "      <th>last_pco2</th>\n",
       "      <td>1.613457e-16</td>\n",
       "      <td>1.000002</td>\n",
       "    </tr>\n",
       "    <tr>\n",
       "      <th>last_aado2_calc</th>\n",
       "      <td>2.530913e-17</td>\n",
       "      <td>1.000002</td>\n",
       "    </tr>\n",
       "    <tr>\n",
       "      <th>last_ph</th>\n",
       "      <td>5.858711e-15</td>\n",
       "      <td>1.000002</td>\n",
       "    </tr>\n",
       "    <tr>\n",
       "      <th>last_baseexcess</th>\n",
       "      <td>7.996981e-18</td>\n",
       "      <td>1.000002</td>\n",
       "    </tr>\n",
       "    <tr>\n",
       "      <th>last_totalco2</th>\n",
       "      <td>5.448492e-17</td>\n",
       "      <td>1.000002</td>\n",
       "    </tr>\n",
       "    <tr>\n",
       "      <th>last_temperature</th>\n",
       "      <td>1.020221e-14</td>\n",
       "      <td>1.000002</td>\n",
       "    </tr>\n",
       "    <tr>\n",
       "      <th>last_fio2_chartevents</th>\n",
       "      <td>1.986063e-16</td>\n",
       "      <td>1.000002</td>\n",
       "    </tr>\n",
       "    <tr>\n",
       "      <th>last_urine_output</th>\n",
       "      <td>-5.362811e-17</td>\n",
       "      <td>1.000002</td>\n",
       "    </tr>\n",
       "    <tr>\n",
       "      <th>last_lactate</th>\n",
       "      <td>1.572593e-16</td>\n",
       "      <td>1.000002</td>\n",
       "    </tr>\n",
       "    <tr>\n",
       "      <th>last_glucose</th>\n",
       "      <td>-3.954551e-19</td>\n",
       "      <td>1.000002</td>\n",
       "    </tr>\n",
       "    <tr>\n",
       "      <th>last_gcs</th>\n",
       "      <td>1.794487e-16</td>\n",
       "      <td>1.000002</td>\n",
       "    </tr>\n",
       "    <tr>\n",
       "      <th>last_gcs_verbal</th>\n",
       "      <td>-3.154853e-17</td>\n",
       "      <td>1.000002</td>\n",
       "    </tr>\n",
       "    <tr>\n",
       "      <th>last_gcs_motor</th>\n",
       "      <td>3.093338e-17</td>\n",
       "      <td>1.000002</td>\n",
       "    </tr>\n",
       "    <tr>\n",
       "      <th>last_gcs_eyes</th>\n",
       "      <td>-2.602973e-16</td>\n",
       "      <td>1.000002</td>\n",
       "    </tr>\n",
       "    <tr>\n",
       "      <th>last_gcs_unable</th>\n",
       "      <td>1.971124e-16</td>\n",
       "      <td>1.000002</td>\n",
       "    </tr>\n",
       "    <tr>\n",
       "      <th>last_CREATININE</th>\n",
       "      <td>-3.047641e-16</td>\n",
       "      <td>1.000002</td>\n",
       "    </tr>\n",
       "    <tr>\n",
       "      <th>last_PLATELET</th>\n",
       "      <td>7.487283e-17</td>\n",
       "      <td>1.000002</td>\n",
       "    </tr>\n",
       "    <tr>\n",
       "      <th>last_PTT</th>\n",
       "      <td>2.871004e-16</td>\n",
       "      <td>1.000002</td>\n",
       "    </tr>\n",
       "    <tr>\n",
       "      <th>last_BUN</th>\n",
       "      <td>2.221579e-16</td>\n",
       "      <td>1.000002</td>\n",
       "    </tr>\n",
       "    <tr>\n",
       "      <th>last_WBC</th>\n",
       "      <td>-6.784252e-17</td>\n",
       "      <td>1.000002</td>\n",
       "    </tr>\n",
       "    <tr>\n",
       "      <th>last_sbp</th>\n",
       "      <td>-4.312218e-16</td>\n",
       "      <td>1.000002</td>\n",
       "    </tr>\n",
       "    <tr>\n",
       "      <th>last_dbp</th>\n",
       "      <td>-1.117820e-16</td>\n",
       "      <td>1.000002</td>\n",
       "    </tr>\n",
       "    <tr>\n",
       "      <th>last_mbp</th>\n",
       "      <td>3.265580e-16</td>\n",
       "      <td>1.000002</td>\n",
       "    </tr>\n",
       "    <tr>\n",
       "      <th>last_spo2</th>\n",
       "      <td>-4.924734e-16</td>\n",
       "      <td>1.000002</td>\n",
       "    </tr>\n",
       "    <tr>\n",
       "      <th>last_heart_rate</th>\n",
       "      <td>-3.100368e-16</td>\n",
       "      <td>1.000002</td>\n",
       "    </tr>\n",
       "    <tr>\n",
       "      <th>last_respiration_24hours</th>\n",
       "      <td>-6.204251e-17</td>\n",
       "      <td>1.000002</td>\n",
       "    </tr>\n",
       "    <tr>\n",
       "      <th>last_coagulation_24hours</th>\n",
       "      <td>-1.652124e-17</td>\n",
       "      <td>1.000002</td>\n",
       "    </tr>\n",
       "    <tr>\n",
       "      <th>last_liver_24hours</th>\n",
       "      <td>-2.478185e-17</td>\n",
       "      <td>1.000002</td>\n",
       "    </tr>\n",
       "    <tr>\n",
       "      <th>last_cardiovascular_24hours</th>\n",
       "      <td>3.620611e-17</td>\n",
       "      <td>1.000002</td>\n",
       "    </tr>\n",
       "    <tr>\n",
       "      <th>last_cns_24hours</th>\n",
       "      <td>-1.040486e-16</td>\n",
       "      <td>1.000002</td>\n",
       "    </tr>\n",
       "    <tr>\n",
       "      <th>last_renal_24hours</th>\n",
       "      <td>1.379699e-17</td>\n",
       "      <td>1.000002</td>\n",
       "    </tr>\n",
       "    <tr>\n",
       "      <th>last_amount</th>\n",
       "      <td>-7.096222e-18</td>\n",
       "      <td>1.000002</td>\n",
       "    </tr>\n",
       "    <tr>\n",
       "      <th>last_weight</th>\n",
       "      <td>-1.021153e-16</td>\n",
       "      <td>1.000002</td>\n",
       "    </tr>\n",
       "    <tr>\n",
       "      <th>last_imputed_TV_standardized</th>\n",
       "      <td>-1.574526e-15</td>\n",
       "      <td>1.000002</td>\n",
       "    </tr>\n",
       "    <tr>\n",
       "      <th>last_opioid</th>\n",
       "      <td>2.794549e-17</td>\n",
       "      <td>1.000002</td>\n",
       "    </tr>\n",
       "    <tr>\n",
       "      <th>last_benzo</th>\n",
       "      <td>6.784252e-17</td>\n",
       "      <td>1.000002</td>\n",
       "    </tr>\n",
       "    <tr>\n",
       "      <th>last_propofol</th>\n",
       "      <td>1.031698e-16</td>\n",
       "      <td>1.000002</td>\n",
       "    </tr>\n",
       "    <tr>\n",
       "      <th>last_dex</th>\n",
       "      <td>-6.687585e-17</td>\n",
       "      <td>1.000002</td>\n",
       "    </tr>\n",
       "  </tbody>\n",
       "</table>\n",
       "</div>"
      ],
      "text/plain": [
       "                                      mean       std\n",
       "last_peep_set                 1.894669e-16  1.000002\n",
       "last_tidal_volume_set        -2.701398e-16  1.000002\n",
       "last_resp_rate               -3.831521e-17  1.000002\n",
       "last_peak_insp_pressure      -1.344547e-16  1.000002\n",
       "last_plateau_pressure        -1.963215e-16  1.000002\n",
       "last_mean_airway_pressure     2.193458e-16  1.000002\n",
       "last_minutes_vol              2.293640e-17  1.000002\n",
       "last_pao2fio2ratio            3.485278e-16  1.000002\n",
       "last_driving_pressure        -1.428911e-16  1.000002\n",
       "last_po2                     -5.769250e-17  1.000002\n",
       "last_pco2                     1.613457e-16  1.000002\n",
       "last_aado2_calc               2.530913e-17  1.000002\n",
       "last_ph                       5.858711e-15  1.000002\n",
       "last_baseexcess               7.996981e-18  1.000002\n",
       "last_totalco2                 5.448492e-17  1.000002\n",
       "last_temperature              1.020221e-14  1.000002\n",
       "last_fio2_chartevents         1.986063e-16  1.000002\n",
       "last_urine_output            -5.362811e-17  1.000002\n",
       "last_lactate                  1.572593e-16  1.000002\n",
       "last_glucose                 -3.954551e-19  1.000002\n",
       "last_gcs                      1.794487e-16  1.000002\n",
       "last_gcs_verbal              -3.154853e-17  1.000002\n",
       "last_gcs_motor                3.093338e-17  1.000002\n",
       "last_gcs_eyes                -2.602973e-16  1.000002\n",
       "last_gcs_unable               1.971124e-16  1.000002\n",
       "last_CREATININE              -3.047641e-16  1.000002\n",
       "last_PLATELET                 7.487283e-17  1.000002\n",
       "last_PTT                      2.871004e-16  1.000002\n",
       "last_BUN                      2.221579e-16  1.000002\n",
       "last_WBC                     -6.784252e-17  1.000002\n",
       "last_sbp                     -4.312218e-16  1.000002\n",
       "last_dbp                     -1.117820e-16  1.000002\n",
       "last_mbp                      3.265580e-16  1.000002\n",
       "last_spo2                    -4.924734e-16  1.000002\n",
       "last_heart_rate              -3.100368e-16  1.000002\n",
       "last_respiration_24hours     -6.204251e-17  1.000002\n",
       "last_coagulation_24hours     -1.652124e-17  1.000002\n",
       "last_liver_24hours           -2.478185e-17  1.000002\n",
       "last_cardiovascular_24hours   3.620611e-17  1.000002\n",
       "last_cns_24hours             -1.040486e-16  1.000002\n",
       "last_renal_24hours            1.379699e-17  1.000002\n",
       "last_amount                  -7.096222e-18  1.000002\n",
       "last_weight                  -1.021153e-16  1.000002\n",
       "last_imputed_TV_standardized -1.574526e-15  1.000002\n",
       "last_opioid                   2.794549e-17  1.000002\n",
       "last_benzo                    6.784252e-17  1.000002\n",
       "last_propofol                 1.031698e-16  1.000002\n",
       "last_dex                     -6.687585e-17  1.000002"
      ]
     },
     "execution_count": 12,
     "metadata": {},
     "output_type": "execute_result"
    }
   ],
   "source": [
    "# Get the numeric columns\n",
    "numeric = df[weaning_predictors].select_dtypes(exclude='object').columns\n",
    "# Standardize only the columns tracking the 'last' values of a variable\n",
    "to_standardize = [c for c in numeric if 'last' in c]\n",
    "df.loc[:, to_standardize] = StandardScaler().fit_transform(df[to_standardize])\n",
    "# Sanity check to make sure the DataFrame was actually standardized\n",
    "df[to_standardize].agg(['mean', 'std']).T"
   ]
  },
  {
   "cell_type": "markdown",
   "metadata": {},
   "source": [
    "Before modeling the probability of weaning, we'll remove extreme values from the covariates."
   ]
  },
  {
   "cell_type": "code",
   "execution_count": 13,
   "metadata": {},
   "outputs": [],
   "source": [
    "for c in weaning_predictors:\n",
    "    if 'last' in c:\n",
    "        df[c] = np.maximum(-5, np.minimum(df[c], 5))\n",
    "\n",
    "# save the processed data\n",
    "df.to_csv('processed_data.csv')"
   ]
  },
  {
   "cell_type": "markdown",
   "metadata": {},
   "source": [
    "The final step before modeling is to define our training data. \n",
    "\n",
    "For context, any commented-out code in the following cells represents what was/would be run had the notebook used the full dataframe instead of a sampled dataframe."
   ]
  },
  {
   "cell_type": "code",
   "execution_count": 16,
   "metadata": {},
   "outputs": [],
   "source": [
    "MODEL_PARAMS = {\n",
    "    'penalty': 'l2',\n",
    "    'max_iter': 2000,\n",
    "}\n",
    "# Dataframe checkpoint (loading in full processed dataset)\n",
    "df = pd.read_csv('processed_data.csv')\n",
    "\n",
    "X = df.loc[:, weaning_predictors]\n",
    "y = df['weaning']\n",
    "\n",
    "# Encode string/object columns as integers\n",
    "for col in X.select_dtypes(include='object'):\n",
    "    X[col] = LabelEncoder().fit_transform(X[col])"
   ]
  },
  {
   "cell_type": "code",
   "execution_count": 17,
   "metadata": {},
   "outputs": [],
   "source": [
    "weaning_predictor = LogisticRegression(**MODEL_PARAMS).fit(X, y)\n",
    "\n",
    "with open('models/weaning_predictor.pkl', 'wb') as f:\n",
    "    pickle.dump(weaning_predictor, f)\n"
   ]
  },
  {
   "cell_type": "code",
   "execution_count": 25,
   "metadata": {},
   "outputs": [],
   "source": [
    "from common import calibration_curve as cc"
   ]
  },
  {
   "cell_type": "code",
   "execution_count": 26,
   "metadata": {},
   "outputs": [
    {
     "data": {
      "image/png": "[encoded data removed]",
      "text/plain": [
       "<Figure size 432x288 with 1 Axes>"
      ]
     },
     "metadata": {
      "needs_background": "light"
     },
     "output_type": "display_data"
    }
   ],
   "source": [
    "# Model checkpoint\n",
    "with open('models/weaning_predictor.pkl', 'rb') as f:\n",
    "    weaning_predictor = pickle.load(f)\n",
    "\n",
    "# create a calibration curve\n",
    "df['p_hat'] = weaning_predictor.predict_proba(X)[:, 1]\n",
    "\n",
    "# calibration_curve(\n",
    "#     df, 'p_hat', 'weaning', 'Logistic Regression Calibration Curve', \n",
    "#     filename='logistic_reg_calibration.png'\n",
    "#     )\n",
    "\n",
    "cc(\n",
    "    df, 'p_hat', 'weaning', 'Logistic Regression Calibration Curve', \n",
    "    # filename='logistic_reg_calibration.png'\n",
    "    )"
   ]
  },
  {
   "cell_type": "markdown",
   "metadata": {},
   "source": [
    "Train a calibrated regressor since the above graph shows that the current predictor is poorly calibrated."
   ]
  },
  {
   "cell_type": "code",
   "execution_count": null,
   "metadata": {},
   "outputs": [],
   "source": [
    "calibrated_predictor = CalibratedClassifierCV(\n",
    "    base_estimator=LogisticRegression(**MODEL_PARAMS),\n",
    "    method='isotonic'\n",
    "    ).fit(X, y)\n",
    "\n",
    "with open('models/calibrated_predictor.pkl', 'wb') as f:\n",
    "    pickle.dump(calibrated_predictor, f)"
   ]
  },
  {
   "cell_type": "code",
   "execution_count": null,
   "metadata": {},
   "outputs": [],
   "source": [
    "# Model checkpoint\n",
    "with open('models/calibrated_predictor.pkl', 'rb') as f:\n",
    "    calibrated_predictor = pickle.load(f)\n",
    "\n",
    "df['propensity_score'] = calibrated_predictor.predict_proba(X)[:, 1]\n",
    "\n",
    "calibration_curve(\n",
    "    df, 'propensity_score', 'weaning', 'Isotonic Logistic Regression Calibration Curve',\n",
    "    filename='isoreg_calibration.png'\n",
    "    )"
   ]
  },
  {
   "cell_type": "markdown",
   "metadata": {},
   "source": [
    "With our well-calibrated model for the probability of weaning, we can now estimate the causal effect of incrementing this propensity score. To do so, there are four major steps:\n",
    "\n",
    "1. Construct time-dependent weights W_t for each subject and timepoint\n",
    "2. Calculate the cumulative weight for each subject across all timepoints\n",
    "3. Multiply each cumulative weight by the outcome\n",
    "4. Take the average of these products to estimate the mean counterfactual outcome\n",
    "\n",
    "Since we have multiple outcomes of interest, we first calculate the cumulative weights and later multiply them by each outcome."
   ]
  },
  {
   "cell_type": "code",
   "execution_count": null,
   "metadata": {},
   "outputs": [],
   "source": [
    "# round to remove floating point errors\n",
    "DELTAS = np.around(np.arange(0.5, 2.1, 0.1), decimals=1)\n",
    "\n",
    "def cumulative_weights(data, truncated: bool, propensity_col: str = 'propensity_score'):\n",
    "    \"\"\"\n",
    "    For each value of delta, calculate weights for each patient using the given\n",
    "    propensity scores.\n",
    "    \"\"\"\n",
    "    weights = {}\n",
    "    for delta in DELTAS:\n",
    "        A = data['weaning']\n",
    "        pi_hat = data[propensity_col]\n",
    "        weight_col = f'weights_d{delta}'\n",
    "        # construct time-dependent weights for each subject at each timepoint\n",
    "        data.loc[:, weight_col] = (\n",
    "            ((delta * A) + 1 - A) /\n",
    "            ((delta * pi_hat) + 1 - pi_hat)\n",
    "        )\n",
    "        # calculate cumulative product of weights\n",
    "        cumulative_products = group_by_stay(data, weight_col).prod()\n",
    "        # truncate cumulative weights at the 99th percentile\n",
    "        if truncated:\n",
    "            max_val = cumulative_products.quantile(q=0.99)\n",
    "            cumulative_products = np.minimum(cumulative_products, max_val)\n",
    "        # save the weights\n",
    "        weights[delta] = cumulative_products\n",
    "    return weights\n",
    "\n",
    "# calculate the weights\n",
    "weights = cumulative_weights(df, truncated=True)\n"
   ]
  },
  {
   "cell_type": "markdown",
   "metadata": {},
   "source": [
    "First, examine the impact on time until weaning. The goal of this analysis is to make sure that our incremental interventions actually affect the counterfactual time until weaning for a given patient."
   ]
  },
  {
   "cell_type": "code",
   "execution_count": null,
   "metadata": {},
   "outputs": [],
   "source": [
    "# time until weaning outcome\n",
    "grouped = group_by_stay(df, 'weaning')\n",
    "df['time_until_wean'] = (grouped\n",
    "    # Apply the .max() and .size() functions to the weaning groups\n",
    "    # This determines 1. whether weaning occured\n",
    "    # and 2. the number of hours at which weaning began (if it did)\n",
    "    .agg(['max', 'size'])\n",
    "    # If weaning did occur, return the number of hours after baseline with it occured\n",
    "    # Otherwise, we set the value to 720 hours\n",
    "    .apply(lambda row: row['size'] if row['max'] else 720, axis=1)\n",
    "    # Repeat rows to ensure the size of the array matches what's in the dataframe\n",
    "    .repeat(grouped.size())\n",
    "    # Reset index so column can be inserted into the dataframe properly\n",
    "    .reset_index(drop=True)\n",
    ")"
   ]
  },
  {
   "cell_type": "markdown",
   "metadata": {},
   "source": [
    "Define a helper function to calculate our estimates given a set of cumulative weights and a given outcome."
   ]
  },
  {
   "cell_type": "code",
   "execution_count": null,
   "metadata": {},
   "outputs": [],
   "source": [
    "def calculate_estimates(weights, outcome):\n",
    "    \"\"\"\n",
    "    Estimate the effect on the given outcome of intervening on weawning.\n",
    "    \"\"\"\n",
    "    results = {}\n",
    "    for delta in DELTAS:\n",
    "        # multiply by outcome\n",
    "        weighted_products = weights[delta].multiply(outcome)\n",
    "        # average over subjects and add to results\n",
    "        results[delta] = weighted_products.mean()\n",
    "    return results"
   ]
  },
  {
   "cell_type": "code",
   "execution_count": null,
   "metadata": {},
   "outputs": [],
   "source": [
    "time_until_wean_results = calculate_estimates(weights, group_by_stay(df, 'time_until_wean'))\n",
    "pprint(time_until_wean_results)"
   ]
  },
  {
   "cell_type": "code",
   "execution_count": null,
   "metadata": {},
   "outputs": [],
   "source": [
    "plt.xlabel('Delta')\n",
    "plt.ylabel('Mean Estimated Hours Until Weaning Begins')\n",
    "plt.scatter(time_until_wean_results.keys(), time_until_wean_results.values())\n",
    "plt.axvline(1, color='grey', alpha=0.5)\n",
    "plt.minorticks_on()\n",
    "plt.savefig('images/time_until_wean_results.png', facecolor='white')\n",
    "plt.show()"
   ]
  },
  {
   "cell_type": "markdown",
   "metadata": {},
   "source": [
    "Next, calculate the effect on mortality."
   ]
  },
  {
   "cell_type": "code",
   "execution_count": null,
   "metadata": {},
   "outputs": [],
   "source": [
    "mortality_results = calculate_estimates(weights, group_by_stay(df, 'hospital_expire_flag'))\n",
    "\n",
    "pprint(mortality_results)"
   ]
  },
  {
   "cell_type": "code",
   "execution_count": null,
   "metadata": {},
   "outputs": [],
   "source": [
    "plt.xlabel('Delta')\n",
    "plt.ylabel('Mean Estimated Mortality Rate')\n",
    "plt.scatter(mortality_results.keys(), mortality_results.values())\n",
    "plt.axvline(1, color='grey', alpha=0.5)\n",
    "plt.ylim(0.33, 0.34)\n",
    "plt.minorticks_on()\n",
    "plt.savefig('images/mortality_results.png', facecolor='white')\n",
    "plt.show()"
   ]
  },
  {
   "cell_type": "markdown",
   "metadata": {},
   "source": [
    "Now we can rerun our analysis with the desired outcome being ICU-free days."
   ]
  },
  {
   "cell_type": "code",
   "execution_count": null,
   "metadata": {},
   "outputs": [],
   "source": [
    "# 1. find baseline time\n",
    "# 2. find how many days in the 30 days post-baseline the patient was alive and not in the icu\n",
    "# assumptions:\n",
    "#   if the patient didn't die in a hospital stay, they didn't die\n",
    "#   if they died in hospital, assume discharge time is time of death\n",
    "\n",
    "# Merge dataframe containing in and out time\n",
    "baseline_hour_df = cohort.loc[\n",
    "    :, ['stay_id', 'intime', 'outtime', 'subject_id']\n",
    "    ].merge(\n",
    "        df.loc[df['hour_baseline'] == 1, ['stay_id', 'baseline_hour', 'baseline_time']]\n",
    "    )\n",
    "\n",
    "icu_duration_df = cohort.merge(\n",
    "    baseline_hour_df.loc[:, ['subject_id', 'baseline_time']].drop_duplicates()\n",
    "    )"
   ]
  },
  {
   "cell_type": "code",
   "execution_count": null,
   "metadata": {},
   "outputs": [],
   "source": [
    "# convert dtype of columns with datetimes from object to datetimes\n",
    "for time_col in ('intime', 'outtime', 'deathtime'):\n",
    "    icu_duration_df[time_col] = pd.to_datetime(icu_duration_df[time_col])\n",
    "\n",
    "icu_duration_df['max_time'] = icu_duration_df['baseline_time'] + pd.Timedelta(30, unit=\"days\")\n",
    "# remove ones where outtime <= baseline_time\n",
    "icu_duration_df = icu_duration_df.loc[icu_duration_df['outtime'] > icu_duration_df['baseline_time']]\n",
    "# remove rows with max_time <= intime\n",
    "icu_duration_df = icu_duration_df.loc[icu_duration_df['max_time'] > icu_duration_df['intime']]"
   ]
  },
  {
   "cell_type": "code",
   "execution_count": null,
   "metadata": {},
   "outputs": [],
   "source": [
    "# Calculate duration of each stay\n",
    "icu_duration_df = icu_duration_df.sort_values('subject_id')\n",
    "stay_start = np.maximum(icu_duration_df['intime'], icu_duration_df['baseline_time'])\n",
    "stay_end = np.minimum(icu_duration_df['outtime'], icu_duration_df['max_time'])\n",
    "icu_duration_df['icu_stay_durations'] = stay_end - stay_start"
   ]
  },
  {
   "cell_type": "code",
   "execution_count": null,
   "metadata": {},
   "outputs": [],
   "source": [
    "icu_duration_df['death_day'] = icu_duration_df['deathtime'] - icu_duration_df['baseline_time']\n",
    "# fill all entries with deathtime before baseline_time with 0\n",
    "icu_duration_df.loc[icu_duration_df['death_day'] < pd.to_timedelta(0), 'death_day'] = pd.to_timedelta(0)\n",
    "# fill all entries with NaN deathtime with a dummy value\n",
    "icu_duration_df['death_day'].fillna(pd.Timedelta(100000, unit=\"days\"), inplace=True)"
   ]
  },
  {
   "cell_type": "code",
   "execution_count": null,
   "metadata": {},
   "outputs": [],
   "source": [
    "max_val = pd.Timedelta(30, \"days\")\n",
    "icu_duration_df['max'] = icu_duration_df['death_day'].where(\n",
    "    icu_duration_df['death_day'] <= max_val, max_val\n",
    "    )\n",
    "max_df = icu_duration_df[['subject_id', 'max']].drop_duplicates()\n",
    "max_df = max_df.groupby('subject_id', as_index=False).min()"
   ]
  },
  {
   "cell_type": "code",
   "execution_count": null,
   "metadata": {},
   "outputs": [],
   "source": [
    "duration_df = icu_duration_df.groupby('subject_id', as_index=False)['icu_stay_durations'].sum()"
   ]
  },
  {
   "cell_type": "code",
   "execution_count": null,
   "metadata": {},
   "outputs": [],
   "source": [
    "icu_outcome_df = max_df.merge(duration_df)\n",
    "icu_outcome_df.rename(columns = {'icu_stay_durations' : 'icu_duration'}, inplace=True)"
   ]
  },
  {
   "cell_type": "code",
   "execution_count": null,
   "metadata": {},
   "outputs": [],
   "source": [
    "# construct outcome column (take ceil of the time difference to the nearest day)\n",
    "icu_outcome_df['outcome'] = (icu_outcome_df['max'] - icu_outcome_df['icu_duration']).dt.ceil('d')\n",
    "# merge with subjects to get stay id\n",
    "icu_outcome_df = icu_outcome_df.merge(subjects[['subject_id', 'stay_id']])\n",
    "icu_outcome_df.sort_values('stay_id', inplace=True)"
   ]
  },
  {
   "cell_type": "markdown",
   "metadata": {},
   "source": [
    "Calculate estimates!"
   ]
  },
  {
   "cell_type": "code",
   "execution_count": null,
   "metadata": {},
   "outputs": [],
   "source": [
    "outcome = icu_outcome_df.set_index('stay_id')['outcome'].dt.days\n",
    "icu_free_days_results = calculate_estimates(weights, outcome)"
   ]
  },
  {
   "cell_type": "code",
   "execution_count": null,
   "metadata": {},
   "outputs": [],
   "source": [
    "plt.xlabel('Delta')\n",
    "plt.ylabel('Mean Estimated ICU-Free Days')\n",
    "plt.scatter(icu_free_days_results.keys(), icu_free_days_results.values())\n",
    "plt.axvline(1, color='grey', alpha=0.5)\n",
    "plt.minorticks_on()\n",
    "plt.savefig('images/icu_free_results.png', facecolor='white')\n",
    "plt.show()"
   ]
  },
  {
   "cell_type": "markdown",
   "metadata": {},
   "source": [
    "Next, we'll analyze the impact on ventilator-free days."
   ]
  },
  {
   "cell_type": "code",
   "execution_count": null,
   "metadata": {},
   "outputs": [],
   "source": [
    "vent = pd.read_csv('ventilator.csv')"
   ]
  },
  {
   "cell_type": "code",
   "execution_count": null,
   "metadata": {},
   "outputs": [],
   "source": [
    "vent_duration_df = vent.merge(baseline_hour_df[['stay_id', 'subject_id', 'baseline_time']])\n",
    "vent_duration_df = vent_duration_df.loc[vent_duration_df['ventilation_status'].isin((\"InvasiveVent\", \"Trach\"))]\n",
    "# TODO: check to make sure `baseline_time` is already a pandas datetime column\n",
    "vent_duration_df['max_time'] = vent_duration_df['baseline_time'] + pd.Timedelta(30, \"days\")"
   ]
  },
  {
   "cell_type": "code",
   "execution_count": null,
   "metadata": {},
   "outputs": [],
   "source": [
    "# convert endtime + max_time + starttime to datetime columns?\n",
    "for time_col in ('starttime', 'endtime', 'max_time'):\n",
    "    icu_duration_df[time_col] = pd.to_datetime(icu_duration_df[time_col])"
   ]
  },
  {
   "cell_type": "code",
   "execution_count": null,
   "metadata": {},
   "outputs": [],
   "source": [
    "# remove rows with endtime <= baseline_time\n",
    "vent_duration_df = vent_duration_df[vent_duration_df['endtime'] > vent_duration_df['baseline_time']]\n",
    "vent_duration_df = vent_duration_df[vent_duration_df['max_time'] > vent_duration_df['starttime']]\n",
    "\n",
    "vent_duration_df['startday'] = (vent_duration_df['starttime'] - vent_duration_df['baseline_time']).dt.days\n",
    "vent_duration_df['endday'] = (vent_duration_df['endtime'] - vent_duration_df['baseline_time']).dt.days\n",
    "\n",
    "vent_duration_df['startday_ceiling'] = np.max(1, vent_duration_df['startday'])\n",
    "vent_duration_df['endday_ceiling'] = np.min(30, vent_duration_df['endday'])\n",
    "\n",
    "vent_duration_df['vent_days'] = np.arange(vent_duration_df['startday_ceiling'], vent_duration_df['endday_ceiling'])\n",
    "# TODO: in r code is death_cohort = cohort[cohort$deathtime!='',].\n",
    "# so make sure isna() catches '' values\n",
    "death_cohort = cohort[~cohort['deathtime'].isna()]\n",
    "\n",
    "baseline_hour_df = baseline_hour_df.merge(death_cohort['subject_id', 'deathtime'])\n",
    "baseline_hour_df['death_day'] = np.max(1, (baseline_hour_df['deathtime'] - baseline_hour_df['baseline_time']).dt.days)\n",
    "baseline_hour_df.fillna(10000000)"
   ]
  },
  {
   "cell_type": "code",
   "execution_count": null,
   "metadata": {},
   "outputs": [],
   "source": [
    "patients = vent_duration_df['stay_id'].unique()\n",
    "\n",
    "# somehow create a dataframe indexed by stay_id and with the column vent_days\n",
    "vent_days_df = pd.DataFrame(index=patients)\n",
    "# create the outcome\n",
    "vent_days_df['vent_days'] = group_by_stay(vent_duration_df, 'vent_days').unique()\n",
    "baseline_hour_df = baseline_hour_df.merge(vent_days_df)\n",
    "# maybe all that above isn't really necessary if we can just go like dis\n",
    "# baseline_hour_df['vent_days'] = group_by_stay(vent_duration_df, 'vent_days').unique()\n",
    "\n",
    "baseline_hour_df['death_days'] = np.where(\n",
    "    baseline_hour_df['death_day'] <= 30,\n",
    "    np.arange(baseline_hour_df['death_day'], 30),\n",
    "    np.nan)\n",
    "\n",
    "baseline_hour_df['vent_free_days'] = 30 - np.where(\n",
    "    baseline_hour_df['death_day'] <= 30,\n",
    "    len(np.unique(baseline_hour_df['vent_days'] + baseline_hour_df['death_days'])),\n",
    "    len(np.unique(baseline_hour_df['vent_days']))\n",
    ")\n",
    "\n",
    "baseline_hour_df.sort_values('stay_id', inplace=True)"
   ]
  },
  {
   "cell_type": "markdown",
   "metadata": {},
   "source": [
    "Get estimates!"
   ]
  },
  {
   "cell_type": "code",
   "execution_count": null,
   "metadata": {},
   "outputs": [],
   "source": [
    "vent_free_days_results = calculate_estimates(weights, baseline_hour_df['vent_free_days'])\n",
    "\n",
    "plt.xlabel('Delta')\n",
    "plt.ylabel('Mean Estimated Ventilator-Free Days')\n",
    "plt.scatter(vent_free_days_results.keys(), vent_free_days_results.values())\n",
    "plt.axvline(1, color='grey', alpha=0.5)\n",
    "plt.minorticks_on()\n",
    "plt.savefig('images/vent_free_days_results.png', facecolor='white')\n",
    "plt.show()"
   ]
  },
  {
   "cell_type": "markdown",
   "metadata": {},
   "source": [
    "Bootstrap on outcomes to determine variability."
   ]
  },
  {
   "cell_type": "code",
   "execution_count": null,
   "metadata": {},
   "outputs": [],
   "source": [
    "N_BOOTSTRAPS = 100\n",
    "stays = df['stay_id'].unique()"
   ]
  },
  {
   "cell_type": "code",
   "execution_count": null,
   "metadata": {},
   "outputs": [],
   "source": [
    "N_BOOTSTRAPS = 100\n",
    "outcome_estimates = {d: [] for d in DELTAS}\n",
    "\n",
    "stays = df['stay_id'].unique()\n",
    "\n",
    "def get_bootstrap_sample():\n",
    "    \"\"\"Randomly sample from the dataframe, keeping the number of stays the same.\"\"\"\n",
    "    sampled_stays = np.random.choice(stays, size=stays.shape, replace=True)\n",
    "    # Determine how many times each stay should be repeated (since we sample w/replacement)\n",
    "    num_repeats = {s: 0 for s in sampled_stays}\n",
    "    for s in sampled_stays:\n",
    "        num_repeats[s] += 1\n",
    "    # Choose only the selected stays\n",
    "    curr_data = df.loc[df['stay_id'].isin(sampled_stays)]\n",
    "    indices = []\n",
    "    for stay, idxs in group_by_stay(curr_data).groups.items():\n",
    "        indices += (num_repeats[stay] * list(idxs))\n",
    "    return curr_data.reindex(indices)\n",
    "\n",
    "for i in range(N_BOOTSTRAPS):\n",
    "    r = calculate_estimates(\n",
    "        DELTAS,\n",
    "        data=get_bootstrap_sample(),\n",
    "    )\n",
    "    for delta, estimate in r.items():\n",
    "        outcome_estimates[delta].append(estimate)\n",
    "\n",
    "outcome_estimates = pd.DataFrame(outcome_estimates)\n",
    "# outcome_estimates.to_csv('outcome_estimates.csv')\n",
    "outcome_estimates.head()"
   ]
  },
  {
   "cell_type": "code",
   "execution_count": null,
   "metadata": {},
   "outputs": [],
   "source": [
    "outcome_estimates.mean()"
   ]
  },
  {
   "cell_type": "code",
   "execution_count": null,
   "metadata": {},
   "outputs": [],
   "source": [
    "to_plot = outcome_estimates.iloc[:, 2:17]"
   ]
  },
  {
   "cell_type": "code",
   "execution_count": null,
   "metadata": {},
   "outputs": [],
   "source": [
    "bounds = outcome_estimates.quantile(0.025), outcome_estimates.quantile(0.975)\n",
    "# bounds = outcome_estimates.min(), outcome_estimates.max()\n",
    "plt.fill_between(delta_vals, bounds[0], bounds[1], alpha=0.5)\n",
    "plt.plot(mortality_results.keys(), mortality_results.values())\n",
    "plt.show()"
   ]
  },
  {
   "cell_type": "markdown",
   "metadata": {},
   "source": [
    "Now that we have an understanding of the variability of our estimates, we'll run one final analysis. This time, instead of looking at the impact of weaning interventions on mortality, our outcome of interest will be the amount of time until first weaning attempt. The goal of this is to see how much of an impact the interventions actually have on the time before first attempt."
   ]
  },
  {
   "cell_type": "code",
   "execution_count": null,
   "metadata": {},
   "outputs": [],
   "source": [
    "grouped = group_by_stay(df, 'weaning')\n",
    "df['time_until_wean'] = (grouped\n",
    "    # Apply the .max() and .size() functions to the weaning groups\n",
    "    # This determines 1. whether weaning occured\n",
    "    # and 2. the number of hours at which weaning began (if it did)\n",
    "    .agg(['max', 'size'])\n",
    "    # If weaning did occur, return the number of hours after baseline with it occured\n",
    "    # Otherwise, we set the value to 720 hours\n",
    "    .apply(lambda row: row['size'] if row['max'] else 720, axis=1)\n",
    "    # Repeat rows to ensure the size of the array matches what's in the dataframe\n",
    "    .repeat(grouped.size())\n",
    "    # Reset index so column can be inserted into the dataframe properly\n",
    "    .reset_index(drop=True)\n",
    ")"
   ]
  },
  {
   "cell_type": "code",
   "execution_count": null,
   "metadata": {},
   "outputs": [],
   "source": [
    "time_until_wean_results = calculate_estimates(delta_vals, outcome_col='time_until_wean')\n",
    "pprint(time_until_wean_results)"
   ]
  },
  {
   "cell_type": "code",
   "execution_count": null,
   "metadata": {},
   "outputs": [],
   "source": [
    "plt.xlabel('Delta')\n",
    "plt.ylabel('Mean Estimated Hours Until Weaning Begins')\n",
    "plt.plot(time_until_wean_results.keys(), time_until_wean_results.values())\n",
    "plt.axvline(1, color='grey', alpha=0.5)\n",
    "plt.minorticks_on()\n",
    "plt.savefig('images/time_until_wean_results.png', facecolor='white')\n",
    "plt.show()"
   ]
  }
 ],
 "metadata": {
  "interpreter": {
   "hash": "56b99ba35fbf06c4dc463b67e081262ac24be503d9ee1adee8d3ec32db9e0e1c"
  },
  "kernelspec": {
   "display_name": "Python 3.9.0 64-bit ('venv': venv)",
   "name": "python3"
  },
  "language_info": {
   "codemirror_mode": {
    "name": "ipython",
    "version": 3
   },
   "file_extension": ".py",
   "mimetype": "text/x-python",
   "name": "python",
   "nbconvert_exporter": "python",
   "pygments_lexer": "ipython3",
   "version": "3.9.0"
  },
  "metadata": {
   "interpreter": {
    "hash": "974242ba8bd4aee876d4cc6b2b4fd6d90080efacd3e889d4fd5fe2f92b3a2fbb"
   }
  },
  "orig_nbformat": 2
 },
 "nbformat": 4,
 "nbformat_minor": 2
}
