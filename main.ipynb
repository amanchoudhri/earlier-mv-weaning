{
 "cells": [
  {
   "cell_type": "markdown",
   "metadata": {},
   "source": [
    "# Effects of Aggressive and Conservative Strategies for Mechanical Ventilation Liberation\n",
    "This project aims to use causal inference to estimate the effects of weaning patients off mechanical ventilation sooner or later than normal, following the approach described in [Kennedy, 2018](https://arxiv.org/pdf/1704.00211.pdf). In this study we consider patients who have been on mechanical ventilation for 24 hours (our start criteria)."
   ]
  },
  {
   "cell_type": "code",
   "execution_count": 102,
   "metadata": {},
   "outputs": [],
   "source": [
    "import pickle\n",
    "from pprint import pprint\n",
    "\n",
    "import numpy as np\n",
    "import pandas as pd\n",
    "\n",
    "from matplotlib import pyplot as plt\n",
    "from sklearn.calibration import CalibratedClassifierCV\n",
    "from sklearn.linear_model import LogisticRegression\n",
    "from sklearn.preprocessing import LabelEncoder, StandardScaler\n",
    "\n",
    "# ALL_WEANING_PREDICTORS is a list of all covariates intially identified as potentially useful in predicting probability of weaning\n",
    "# group_by_stay is a helper function that groups a dataframe by the column 'stay_id'\n",
    "from common import (\n",
    "    ALL_WEANING_PREDICTORS,\n",
    "    group_by_stay,\n",
    ")\n",
    "\n",
    "np.random.seed(0)"
   ]
  },
  {
   "cell_type": "markdown",
   "metadata": {},
   "source": [
    "First, we exclude variables from consideration if they are missing more than 10% of the time in post-baseline times. Post-baseline in this case means we filter out records from patients at time points before our start criteria.\n",
    "\n",
    "```\n",
    ">>> full_df = pd.read_csv('full_weaning_dataset.csv')\n",
    ">>> post_baseline_df = full_df.loc[full_df['hour_baseline'] >= 1]\n",
    ">>> post_baseline_df.to_csv('post_baseline_weaning.csv')\n",
    "```"
   ]
  },
  {
   "cell_type": "code",
   "execution_count": 103,
   "metadata": {},
   "outputs": [
    {
     "ename": "KeyboardInterrupt",
     "evalue": "",
     "output_type": "error",
     "traceback": [
      "\u001b[0;31m---------------------------------------------------------------------------\u001b[0m",
      "\u001b[0;31mKeyboardInterrupt\u001b[0m                         Traceback (most recent call last)",
      "\u001b[0;32m<ipython-input-103-30545da966e9>\u001b[0m in \u001b[0;36m<module>\u001b[0;34m\u001b[0m\n\u001b[1;32m      2\u001b[0m \u001b[0;31m# df contains records for the duration of each stay across all stay_ids\u001b[0m\u001b[0;34m\u001b[0m\u001b[0;34m\u001b[0m\u001b[0;34m\u001b[0m\u001b[0m\n\u001b[1;32m      3\u001b[0m \u001b[0;31m# df = pd.read_csv('sampled_post_baseline.csv')\u001b[0m\u001b[0;34m\u001b[0m\u001b[0;34m\u001b[0m\u001b[0;34m\u001b[0m\u001b[0m\n\u001b[0;32m----> 4\u001b[0;31m \u001b[0mdf\u001b[0m \u001b[0;34m=\u001b[0m \u001b[0mpd\u001b[0m\u001b[0;34m.\u001b[0m\u001b[0mread_csv\u001b[0m\u001b[0;34m(\u001b[0m\u001b[0;34m'post_baseline_weaning.csv'\u001b[0m\u001b[0;34m)\u001b[0m\u001b[0;34m\u001b[0m\u001b[0;34m\u001b[0m\u001b[0m\n\u001b[0m\u001b[1;32m      5\u001b[0m \u001b[0;31m# Cohort contains information about each patient, including\u001b[0m\u001b[0;34m\u001b[0m\u001b[0;34m\u001b[0m\u001b[0;34m\u001b[0m\u001b[0m\n\u001b[1;32m      6\u001b[0m \u001b[0;31m# intime, outtime, deathtime, subject_id, etc\u001b[0m\u001b[0;34m\u001b[0m\u001b[0;34m\u001b[0m\u001b[0;34m\u001b[0m\u001b[0m\n",
      "\u001b[0;32m~/VSCode Files/earlier-mv-weaning/venv/lib/python3.9/site-packages/pandas/io/parsers.py\u001b[0m in \u001b[0;36mread_csv\u001b[0;34m(filepath_or_buffer, sep, delimiter, header, names, index_col, usecols, squeeze, prefix, mangle_dupe_cols, dtype, engine, converters, true_values, false_values, skipinitialspace, skiprows, skipfooter, nrows, na_values, keep_default_na, na_filter, verbose, skip_blank_lines, parse_dates, infer_datetime_format, keep_date_col, date_parser, dayfirst, cache_dates, iterator, chunksize, compression, thousands, decimal, lineterminator, quotechar, quoting, doublequote, escapechar, comment, encoding, dialect, error_bad_lines, warn_bad_lines, delim_whitespace, low_memory, memory_map, float_precision, storage_options)\u001b[0m\n\u001b[1;32m    608\u001b[0m     \u001b[0mkwds\u001b[0m\u001b[0;34m.\u001b[0m\u001b[0mupdate\u001b[0m\u001b[0;34m(\u001b[0m\u001b[0mkwds_defaults\u001b[0m\u001b[0;34m)\u001b[0m\u001b[0;34m\u001b[0m\u001b[0;34m\u001b[0m\u001b[0m\n\u001b[1;32m    609\u001b[0m \u001b[0;34m\u001b[0m\u001b[0m\n\u001b[0;32m--> 610\u001b[0;31m     \u001b[0;32mreturn\u001b[0m \u001b[0m_read\u001b[0m\u001b[0;34m(\u001b[0m\u001b[0mfilepath_or_buffer\u001b[0m\u001b[0;34m,\u001b[0m \u001b[0mkwds\u001b[0m\u001b[0;34m)\u001b[0m\u001b[0;34m\u001b[0m\u001b[0;34m\u001b[0m\u001b[0m\n\u001b[0m\u001b[1;32m    611\u001b[0m \u001b[0;34m\u001b[0m\u001b[0m\n\u001b[1;32m    612\u001b[0m \u001b[0;34m\u001b[0m\u001b[0m\n",
      "\u001b[0;32m~/VSCode Files/earlier-mv-weaning/venv/lib/python3.9/site-packages/pandas/io/parsers.py\u001b[0m in \u001b[0;36m_read\u001b[0;34m(filepath_or_buffer, kwds)\u001b[0m\n\u001b[1;32m    466\u001b[0m \u001b[0;34m\u001b[0m\u001b[0m\n\u001b[1;32m    467\u001b[0m     \u001b[0;32mwith\u001b[0m \u001b[0mparser\u001b[0m\u001b[0;34m:\u001b[0m\u001b[0;34m\u001b[0m\u001b[0;34m\u001b[0m\u001b[0m\n\u001b[0;32m--> 468\u001b[0;31m         \u001b[0;32mreturn\u001b[0m \u001b[0mparser\u001b[0m\u001b[0;34m.\u001b[0m\u001b[0mread\u001b[0m\u001b[0;34m(\u001b[0m\u001b[0mnrows\u001b[0m\u001b[0;34m)\u001b[0m\u001b[0;34m\u001b[0m\u001b[0;34m\u001b[0m\u001b[0m\n\u001b[0m\u001b[1;32m    469\u001b[0m \u001b[0;34m\u001b[0m\u001b[0m\n\u001b[1;32m    470\u001b[0m \u001b[0;34m\u001b[0m\u001b[0m\n",
      "\u001b[0;32m~/VSCode Files/earlier-mv-weaning/venv/lib/python3.9/site-packages/pandas/io/parsers.py\u001b[0m in \u001b[0;36mread\u001b[0;34m(self, nrows)\u001b[0m\n\u001b[1;32m   1055\u001b[0m     \u001b[0;32mdef\u001b[0m \u001b[0mread\u001b[0m\u001b[0;34m(\u001b[0m\u001b[0mself\u001b[0m\u001b[0;34m,\u001b[0m \u001b[0mnrows\u001b[0m\u001b[0;34m=\u001b[0m\u001b[0;32mNone\u001b[0m\u001b[0;34m)\u001b[0m\u001b[0;34m:\u001b[0m\u001b[0;34m\u001b[0m\u001b[0;34m\u001b[0m\u001b[0m\n\u001b[1;32m   1056\u001b[0m         \u001b[0mnrows\u001b[0m \u001b[0;34m=\u001b[0m \u001b[0mvalidate_integer\u001b[0m\u001b[0;34m(\u001b[0m\u001b[0;34m\"nrows\"\u001b[0m\u001b[0;34m,\u001b[0m \u001b[0mnrows\u001b[0m\u001b[0;34m)\u001b[0m\u001b[0;34m\u001b[0m\u001b[0;34m\u001b[0m\u001b[0m\n\u001b[0;32m-> 1057\u001b[0;31m         \u001b[0mindex\u001b[0m\u001b[0;34m,\u001b[0m \u001b[0mcolumns\u001b[0m\u001b[0;34m,\u001b[0m \u001b[0mcol_dict\u001b[0m \u001b[0;34m=\u001b[0m \u001b[0mself\u001b[0m\u001b[0;34m.\u001b[0m\u001b[0m_engine\u001b[0m\u001b[0;34m.\u001b[0m\u001b[0mread\u001b[0m\u001b[0;34m(\u001b[0m\u001b[0mnrows\u001b[0m\u001b[0;34m)\u001b[0m\u001b[0;34m\u001b[0m\u001b[0;34m\u001b[0m\u001b[0m\n\u001b[0m\u001b[1;32m   1058\u001b[0m \u001b[0;34m\u001b[0m\u001b[0m\n\u001b[1;32m   1059\u001b[0m         \u001b[0;32mif\u001b[0m \u001b[0mindex\u001b[0m \u001b[0;32mis\u001b[0m \u001b[0;32mNone\u001b[0m\u001b[0;34m:\u001b[0m\u001b[0;34m\u001b[0m\u001b[0;34m\u001b[0m\u001b[0m\n",
      "\u001b[0;32m~/VSCode Files/earlier-mv-weaning/venv/lib/python3.9/site-packages/pandas/io/parsers.py\u001b[0m in \u001b[0;36mread\u001b[0;34m(self, nrows)\u001b[0m\n\u001b[1;32m   2059\u001b[0m     \u001b[0;32mdef\u001b[0m \u001b[0mread\u001b[0m\u001b[0;34m(\u001b[0m\u001b[0mself\u001b[0m\u001b[0;34m,\u001b[0m \u001b[0mnrows\u001b[0m\u001b[0;34m=\u001b[0m\u001b[0;32mNone\u001b[0m\u001b[0;34m)\u001b[0m\u001b[0;34m:\u001b[0m\u001b[0;34m\u001b[0m\u001b[0;34m\u001b[0m\u001b[0m\n\u001b[1;32m   2060\u001b[0m         \u001b[0;32mtry\u001b[0m\u001b[0;34m:\u001b[0m\u001b[0;34m\u001b[0m\u001b[0;34m\u001b[0m\u001b[0m\n\u001b[0;32m-> 2061\u001b[0;31m             \u001b[0mdata\u001b[0m \u001b[0;34m=\u001b[0m \u001b[0mself\u001b[0m\u001b[0;34m.\u001b[0m\u001b[0m_reader\u001b[0m\u001b[0;34m.\u001b[0m\u001b[0mread\u001b[0m\u001b[0;34m(\u001b[0m\u001b[0mnrows\u001b[0m\u001b[0;34m)\u001b[0m\u001b[0;34m\u001b[0m\u001b[0;34m\u001b[0m\u001b[0m\n\u001b[0m\u001b[1;32m   2062\u001b[0m         \u001b[0;32mexcept\u001b[0m \u001b[0mStopIteration\u001b[0m\u001b[0;34m:\u001b[0m\u001b[0;34m\u001b[0m\u001b[0;34m\u001b[0m\u001b[0m\n\u001b[1;32m   2063\u001b[0m             \u001b[0;32mif\u001b[0m \u001b[0mself\u001b[0m\u001b[0;34m.\u001b[0m\u001b[0m_first_chunk\u001b[0m\u001b[0;34m:\u001b[0m\u001b[0;34m\u001b[0m\u001b[0;34m\u001b[0m\u001b[0m\n",
      "\u001b[0;32mpandas/_libs/parsers.pyx\u001b[0m in \u001b[0;36mpandas._libs.parsers.TextReader.read\u001b[0;34m()\u001b[0m\n",
      "\u001b[0;32mpandas/_libs/parsers.pyx\u001b[0m in \u001b[0;36mpandas._libs.parsers.TextReader._read_low_memory\u001b[0;34m()\u001b[0m\n",
      "\u001b[0;32mpandas/_libs/parsers.pyx\u001b[0m in \u001b[0;36mpandas._libs.parsers.TextReader._read_rows\u001b[0;34m()\u001b[0m\n",
      "\u001b[0;32mpandas/_libs/parsers.pyx\u001b[0m in \u001b[0;36mpandas._libs.parsers.TextReader._convert_column_data\u001b[0;34m()\u001b[0m\n",
      "\u001b[0;32mpandas/_libs/parsers.pyx\u001b[0m in \u001b[0;36mpandas._libs.parsers.TextReader._convert_tokens\u001b[0;34m()\u001b[0m\n",
      "\u001b[0;32mpandas/_libs/parsers.pyx\u001b[0m in \u001b[0;36mpandas._libs.parsers.TextReader._convert_with_dtype\u001b[0;34m()\u001b[0m\n",
      "\u001b[0;32m~/VSCode Files/earlier-mv-weaning/venv/lib/python3.9/site-packages/pandas/core/dtypes/common.py\u001b[0m in \u001b[0;36mis_categorical_dtype\u001b[0;34m(arr_or_dtype)\u001b[0m\n\u001b[1;32m    535\u001b[0m \u001b[0;34m\u001b[0m\u001b[0m\n\u001b[1;32m    536\u001b[0m \u001b[0;34m\u001b[0m\u001b[0m\n\u001b[0;32m--> 537\u001b[0;31m \u001b[0;32mdef\u001b[0m \u001b[0mis_categorical_dtype\u001b[0m\u001b[0;34m(\u001b[0m\u001b[0marr_or_dtype\u001b[0m\u001b[0;34m)\u001b[0m \u001b[0;34m->\u001b[0m \u001b[0mbool\u001b[0m\u001b[0;34m:\u001b[0m\u001b[0;34m\u001b[0m\u001b[0;34m\u001b[0m\u001b[0m\n\u001b[0m\u001b[1;32m    538\u001b[0m     \"\"\"\n\u001b[1;32m    539\u001b[0m     \u001b[0mCheck\u001b[0m \u001b[0mwhether\u001b[0m \u001b[0man\u001b[0m \u001b[0marray\u001b[0m\u001b[0;34m-\u001b[0m\u001b[0mlike\u001b[0m \u001b[0;32mor\u001b[0m \u001b[0mdtype\u001b[0m \u001b[0;32mis\u001b[0m \u001b[0mof\u001b[0m \u001b[0mthe\u001b[0m \u001b[0mCategorical\u001b[0m \u001b[0mdtype\u001b[0m\u001b[0;34m.\u001b[0m\u001b[0;34m\u001b[0m\u001b[0;34m\u001b[0m\u001b[0m\n",
      "\u001b[0;31mKeyboardInterrupt\u001b[0m: "
     ]
    }
   ],
   "source": [
    "# Load in the required datasets\n",
    "# df contains records for the duration of each stay across all stay_ids\n",
    "# df = pd.read_csv('sampled_post_baseline.csv')\n",
    "df = pd.read_csv('post_baseline_weaning.csv')\n",
    "# Cohort contains information about each patient, including\n",
    "# intime, outtime, deathtime, subject_id, etc\n",
    "cohort = pd.read_csv('icustays_1.0.csv')\n",
    "careunits = pd.read_csv('careunits_1.0.csv')\n",
    "admissions = pd.read_csv('admissions.csv')\n",
    "cohort = cohort.merge(careunits).merge(admissions)"
   ]
  },
  {
   "cell_type": "markdown",
   "metadata": {},
   "source": [
    "## Clean the main dataframe\n",
    "Overview:\n",
    " - Remove patients who have deathtimes before the baseline criteria for the study.\n",
    " - Include only the first ICU stays for each patient\n",
    " - Fill missing values for certain columns where NaN values just mean 0\n",
    " - Create a few columns to track the value of certain variables at time t-1\n",
    " - Forward fill most of the columns to remove NaN values, since in most cases NaN simply means the variable wasn't measured at that timepoint\n",
    " - Ignore columns who still have a NaN proportion > 0.1\n",
    " \n",
    "First, remove patients whose deathtimes are listed as before the baseline criteria for this study."
   ]
  },
  {
   "cell_type": "markdown",
   "metadata": {},
   "source": [
    "Ventilation status being 2 or 5 indicates invasive ventilation or the presence a tracheal tube, respectively. When the status shifts away from these values, it implies the patient was extubated, so adjust control accordingly."
   ]
  },
  {
   "cell_type": "code",
   "execution_count": null,
   "metadata": {},
   "outputs": [],
   "source": [
    "df.loc[~df['ventilation_status'].isin([2, 5]), 'control'] = 0"
   ]
  },
  {
   "cell_type": "code",
   "execution_count": null,
   "metadata": {},
   "outputs": [],
   "source": [
    "# Remove data points past weaning\n",
    "df['weaning'] = 1 - df['control']\n",
    "df['is_past_wean'] = group_by_stay(df, 'weaning').apply(lambda stay: stay.cumsum().cumsum() > 1)\n",
    "df = df[~df['is_past_wean']]                                   "
   ]
  },
  {
   "cell_type": "code",
   "execution_count": null,
   "metadata": {},
   "outputs": [
    {
     "data": {
      "text/html": [
       "<div>\n",
       "<style scoped>\n",
       "    .dataframe tbody tr th:only-of-type {\n",
       "        vertical-align: middle;\n",
       "    }\n",
       "\n",
       "    .dataframe tbody tr th {\n",
       "        vertical-align: top;\n",
       "    }\n",
       "\n",
       "    .dataframe thead th {\n",
       "        text-align: right;\n",
       "    }\n",
       "</style>\n",
       "<table border=\"1\" class=\"dataframe\">\n",
       "  <thead>\n",
       "    <tr style=\"text-align: right;\">\n",
       "      <th></th>\n",
       "      <th>Unnamed: 0</th>\n",
       "      <th>stay_id</th>\n",
       "      <th>hour</th>\n",
       "      <th>ventilator_type</th>\n",
       "      <th>ventilator_mode</th>\n",
       "      <th>peep_set</th>\n",
       "      <th>total_peep_level</th>\n",
       "      <th>tidal_volume_set</th>\n",
       "      <th>tidal_volume_observed</th>\n",
       "      <th>tidal_volume_spontaneous</th>\n",
       "      <th>...</th>\n",
       "      <th>last_rass_max</th>\n",
       "      <th>last_rass_min</th>\n",
       "      <th>last_rass_mean</th>\n",
       "      <th>last_rass_meas</th>\n",
       "      <th>opioid</th>\n",
       "      <th>benzo</th>\n",
       "      <th>propofol</th>\n",
       "      <th>dex</th>\n",
       "      <th>weaning</th>\n",
       "      <th>is_past_wean</th>\n",
       "    </tr>\n",
       "  </thead>\n",
       "  <tbody>\n",
       "    <tr>\n",
       "      <th>0</th>\n",
       "      <td>44</td>\n",
       "      <td>30003598</td>\n",
       "      <td>45</td>\n",
       "      <td>4.0</td>\n",
       "      <td>CMV/ASSIST/AutoFlow</td>\n",
       "      <td>5.0</td>\n",
       "      <td>5.0</td>\n",
       "      <td>600.5</td>\n",
       "      <td>521.0</td>\n",
       "      <td>465.0</td>\n",
       "      <td>...</td>\n",
       "      <td>NaN</td>\n",
       "      <td>NaN</td>\n",
       "      <td>NaN</td>\n",
       "      <td>False</td>\n",
       "      <td>0</td>\n",
       "      <td>0</td>\n",
       "      <td>0</td>\n",
       "      <td>0</td>\n",
       "      <td>0</td>\n",
       "      <td>False</td>\n",
       "    </tr>\n",
       "    <tr>\n",
       "      <th>1</th>\n",
       "      <td>45</td>\n",
       "      <td>30003598</td>\n",
       "      <td>46</td>\n",
       "      <td>4.0</td>\n",
       "      <td>CMV/ASSIST/AutoFlow</td>\n",
       "      <td>5.0</td>\n",
       "      <td>5.0</td>\n",
       "      <td>600.5</td>\n",
       "      <td>521.0</td>\n",
       "      <td>465.0</td>\n",
       "      <td>...</td>\n",
       "      <td>NaN</td>\n",
       "      <td>NaN</td>\n",
       "      <td>NaN</td>\n",
       "      <td>False</td>\n",
       "      <td>0</td>\n",
       "      <td>0</td>\n",
       "      <td>0</td>\n",
       "      <td>0</td>\n",
       "      <td>0</td>\n",
       "      <td>False</td>\n",
       "    </tr>\n",
       "    <tr>\n",
       "      <th>2</th>\n",
       "      <td>46</td>\n",
       "      <td>30003598</td>\n",
       "      <td>47</td>\n",
       "      <td>4.0</td>\n",
       "      <td>CMV/ASSIST/AutoFlow</td>\n",
       "      <td>5.0</td>\n",
       "      <td>5.0</td>\n",
       "      <td>600.5</td>\n",
       "      <td>521.0</td>\n",
       "      <td>465.0</td>\n",
       "      <td>...</td>\n",
       "      <td>NaN</td>\n",
       "      <td>NaN</td>\n",
       "      <td>NaN</td>\n",
       "      <td>False</td>\n",
       "      <td>0</td>\n",
       "      <td>0</td>\n",
       "      <td>0</td>\n",
       "      <td>0</td>\n",
       "      <td>0</td>\n",
       "      <td>False</td>\n",
       "    </tr>\n",
       "    <tr>\n",
       "      <th>3</th>\n",
       "      <td>47</td>\n",
       "      <td>30003598</td>\n",
       "      <td>48</td>\n",
       "      <td>1.0</td>\n",
       "      <td>CMV/ASSIST/AutoFlow</td>\n",
       "      <td>5.0</td>\n",
       "      <td>5.0</td>\n",
       "      <td>600.5</td>\n",
       "      <td>521.0</td>\n",
       "      <td>465.0</td>\n",
       "      <td>...</td>\n",
       "      <td>NaN</td>\n",
       "      <td>NaN</td>\n",
       "      <td>NaN</td>\n",
       "      <td>False</td>\n",
       "      <td>0</td>\n",
       "      <td>0</td>\n",
       "      <td>0</td>\n",
       "      <td>0</td>\n",
       "      <td>0</td>\n",
       "      <td>False</td>\n",
       "    </tr>\n",
       "    <tr>\n",
       "      <th>4</th>\n",
       "      <td>48</td>\n",
       "      <td>30003598</td>\n",
       "      <td>49</td>\n",
       "      <td>1.0</td>\n",
       "      <td>CMV/ASSIST/AutoFlow</td>\n",
       "      <td>5.0</td>\n",
       "      <td>5.0</td>\n",
       "      <td>600.5</td>\n",
       "      <td>521.0</td>\n",
       "      <td>465.0</td>\n",
       "      <td>...</td>\n",
       "      <td>NaN</td>\n",
       "      <td>NaN</td>\n",
       "      <td>NaN</td>\n",
       "      <td>False</td>\n",
       "      <td>0</td>\n",
       "      <td>0</td>\n",
       "      <td>0</td>\n",
       "      <td>0</td>\n",
       "      <td>1</td>\n",
       "      <td>False</td>\n",
       "    </tr>\n",
       "    <tr>\n",
       "      <th>...</th>\n",
       "      <td>...</td>\n",
       "      <td>...</td>\n",
       "      <td>...</td>\n",
       "      <td>...</td>\n",
       "      <td>...</td>\n",
       "      <td>...</td>\n",
       "      <td>...</td>\n",
       "      <td>...</td>\n",
       "      <td>...</td>\n",
       "      <td>...</td>\n",
       "      <td>...</td>\n",
       "      <td>...</td>\n",
       "      <td>...</td>\n",
       "      <td>...</td>\n",
       "      <td>...</td>\n",
       "      <td>...</td>\n",
       "      <td>...</td>\n",
       "      <td>...</td>\n",
       "      <td>...</td>\n",
       "      <td>...</td>\n",
       "      <td>...</td>\n",
       "    </tr>\n",
       "    <tr>\n",
       "      <th>360656</th>\n",
       "      <td>2207034</td>\n",
       "      <td>39998622</td>\n",
       "      <td>50</td>\n",
       "      <td>5.0</td>\n",
       "      <td>APV (cmv)</td>\n",
       "      <td>5.0</td>\n",
       "      <td>6.0</td>\n",
       "      <td>500.0</td>\n",
       "      <td>537.0</td>\n",
       "      <td>420.0</td>\n",
       "      <td>...</td>\n",
       "      <td>1.0</td>\n",
       "      <td>-1.0</td>\n",
       "      <td>0.0</td>\n",
       "      <td>False</td>\n",
       "      <td>0</td>\n",
       "      <td>0</td>\n",
       "      <td>1</td>\n",
       "      <td>0</td>\n",
       "      <td>0</td>\n",
       "      <td>False</td>\n",
       "    </tr>\n",
       "    <tr>\n",
       "      <th>360657</th>\n",
       "      <td>2207035</td>\n",
       "      <td>39998622</td>\n",
       "      <td>51</td>\n",
       "      <td>5.0</td>\n",
       "      <td>APV (cmv)</td>\n",
       "      <td>5.0</td>\n",
       "      <td>5.0</td>\n",
       "      <td>500.0</td>\n",
       "      <td>724.0</td>\n",
       "      <td>420.0</td>\n",
       "      <td>...</td>\n",
       "      <td>1.0</td>\n",
       "      <td>-1.0</td>\n",
       "      <td>0.0</td>\n",
       "      <td>True</td>\n",
       "      <td>1</td>\n",
       "      <td>0</td>\n",
       "      <td>1</td>\n",
       "      <td>0</td>\n",
       "      <td>0</td>\n",
       "      <td>False</td>\n",
       "    </tr>\n",
       "    <tr>\n",
       "      <th>360658</th>\n",
       "      <td>2207036</td>\n",
       "      <td>39998622</td>\n",
       "      <td>52</td>\n",
       "      <td>5.0</td>\n",
       "      <td>APV (cmv)</td>\n",
       "      <td>5.0</td>\n",
       "      <td>5.0</td>\n",
       "      <td>500.0</td>\n",
       "      <td>724.0</td>\n",
       "      <td>420.0</td>\n",
       "      <td>...</td>\n",
       "      <td>1.0</td>\n",
       "      <td>-1.0</td>\n",
       "      <td>0.0</td>\n",
       "      <td>False</td>\n",
       "      <td>0</td>\n",
       "      <td>0</td>\n",
       "      <td>1</td>\n",
       "      <td>0</td>\n",
       "      <td>0</td>\n",
       "      <td>False</td>\n",
       "    </tr>\n",
       "    <tr>\n",
       "      <th>360659</th>\n",
       "      <td>2207037</td>\n",
       "      <td>39998622</td>\n",
       "      <td>53</td>\n",
       "      <td>5.0</td>\n",
       "      <td>APV (cmv)</td>\n",
       "      <td>5.0</td>\n",
       "      <td>5.0</td>\n",
       "      <td>500.0</td>\n",
       "      <td>724.0</td>\n",
       "      <td>420.0</td>\n",
       "      <td>...</td>\n",
       "      <td>1.0</td>\n",
       "      <td>-1.0</td>\n",
       "      <td>0.0</td>\n",
       "      <td>False</td>\n",
       "      <td>0</td>\n",
       "      <td>0</td>\n",
       "      <td>1</td>\n",
       "      <td>0</td>\n",
       "      <td>0</td>\n",
       "      <td>False</td>\n",
       "    </tr>\n",
       "    <tr>\n",
       "      <th>360660</th>\n",
       "      <td>2207038</td>\n",
       "      <td>39998622</td>\n",
       "      <td>54</td>\n",
       "      <td>5.0</td>\n",
       "      <td>VS</td>\n",
       "      <td>5.0</td>\n",
       "      <td>5.0</td>\n",
       "      <td>400.0</td>\n",
       "      <td>686.0</td>\n",
       "      <td>686.0</td>\n",
       "      <td>...</td>\n",
       "      <td>1.0</td>\n",
       "      <td>-1.0</td>\n",
       "      <td>0.0</td>\n",
       "      <td>False</td>\n",
       "      <td>1</td>\n",
       "      <td>0</td>\n",
       "      <td>1</td>\n",
       "      <td>0</td>\n",
       "      <td>1</td>\n",
       "      <td>False</td>\n",
       "    </tr>\n",
       "  </tbody>\n",
       "</table>\n",
       "<p>360661 rows × 490 columns</p>\n",
       "</div>"
      ],
      "text/plain": [
       "        Unnamed: 0   stay_id  hour  ventilator_type      ventilator_mode  \\\n",
       "0               44  30003598    45              4.0  CMV/ASSIST/AutoFlow   \n",
       "1               45  30003598    46              4.0  CMV/ASSIST/AutoFlow   \n",
       "2               46  30003598    47              4.0  CMV/ASSIST/AutoFlow   \n",
       "3               47  30003598    48              1.0  CMV/ASSIST/AutoFlow   \n",
       "4               48  30003598    49              1.0  CMV/ASSIST/AutoFlow   \n",
       "...            ...       ...   ...              ...                  ...   \n",
       "360656     2207034  39998622    50              5.0            APV (cmv)   \n",
       "360657     2207035  39998622    51              5.0            APV (cmv)   \n",
       "360658     2207036  39998622    52              5.0            APV (cmv)   \n",
       "360659     2207037  39998622    53              5.0            APV (cmv)   \n",
       "360660     2207038  39998622    54              5.0                   VS   \n",
       "\n",
       "        peep_set  total_peep_level  tidal_volume_set  tidal_volume_observed  \\\n",
       "0            5.0               5.0             600.5                  521.0   \n",
       "1            5.0               5.0             600.5                  521.0   \n",
       "2            5.0               5.0             600.5                  521.0   \n",
       "3            5.0               5.0             600.5                  521.0   \n",
       "4            5.0               5.0             600.5                  521.0   \n",
       "...          ...               ...               ...                    ...   \n",
       "360656       5.0               6.0             500.0                  537.0   \n",
       "360657       5.0               5.0             500.0                  724.0   \n",
       "360658       5.0               5.0             500.0                  724.0   \n",
       "360659       5.0               5.0             500.0                  724.0   \n",
       "360660       5.0               5.0             400.0                  686.0   \n",
       "\n",
       "        tidal_volume_spontaneous  ...  last_rass_max  last_rass_min  \\\n",
       "0                          465.0  ...            NaN            NaN   \n",
       "1                          465.0  ...            NaN            NaN   \n",
       "2                          465.0  ...            NaN            NaN   \n",
       "3                          465.0  ...            NaN            NaN   \n",
       "4                          465.0  ...            NaN            NaN   \n",
       "...                          ...  ...            ...            ...   \n",
       "360656                     420.0  ...            1.0           -1.0   \n",
       "360657                     420.0  ...            1.0           -1.0   \n",
       "360658                     420.0  ...            1.0           -1.0   \n",
       "360659                     420.0  ...            1.0           -1.0   \n",
       "360660                     686.0  ...            1.0           -1.0   \n",
       "\n",
       "        last_rass_mean  last_rass_meas  opioid  benzo  propofol  dex  weaning  \\\n",
       "0                  NaN           False       0      0         0    0        0   \n",
       "1                  NaN           False       0      0         0    0        0   \n",
       "2                  NaN           False       0      0         0    0        0   \n",
       "3                  NaN           False       0      0         0    0        0   \n",
       "4                  NaN           False       0      0         0    0        1   \n",
       "...                ...             ...     ...    ...       ...  ...      ...   \n",
       "360656             0.0           False       0      0         1    0        0   \n",
       "360657             0.0            True       1      0         1    0        0   \n",
       "360658             0.0           False       0      0         1    0        0   \n",
       "360659             0.0           False       0      0         1    0        0   \n",
       "360660             0.0           False       1      0         1    0        1   \n",
       "\n",
       "        is_past_wean  \n",
       "0              False  \n",
       "1              False  \n",
       "2              False  \n",
       "3              False  \n",
       "4              False  \n",
       "...              ...  \n",
       "360656         False  \n",
       "360657         False  \n",
       "360658         False  \n",
       "360659         False  \n",
       "360660         False  \n",
       "\n",
       "[360661 rows x 490 columns]"
      ]
     },
     "execution_count": 5,
     "metadata": {},
     "output_type": "execute_result"
    }
   ],
   "source": [
    "# order the df since that's what shahn does next\n",
    "df.sort_values(['stay_id', 'hour'], ignore_index=True)"
   ]
  },
  {
   "cell_type": "markdown",
   "metadata": {},
   "source": [
    "Fill missing urine output (`urine_output`) and vasopressor (`rate_std`) values with 0, since missing entries for these two columns means the value is 0 in this dataset. We do this to make sure we don't accidentally exclude the columns from the dataset because their NaN proportion appears too high, when they should really be included."
   ]
  },
  {
   "cell_type": "code",
   "execution_count": null,
   "metadata": {},
   "outputs": [],
   "source": [
    "cols_to_impute = ['urine_output', 'last_urine_output', 'rate_std', 'last_rate_std']\n",
    "df.loc[:, cols_to_impute] = df[cols_to_impute].fillna(0)"
   ]
  },
  {
   "cell_type": "markdown",
   "metadata": {},
   "source": [
    "Next, we'll create some columns (mostly columns that track the 'last' version of a given variable, i.e. the value at the previous timepoint)."
   ]
  },
  {
   "cell_type": "code",
   "execution_count": null,
   "metadata": {},
   "outputs": [],
   "source": [
    "df['any_vaso'] = df['rate_std'] > 0\n",
    "\n",
    "for col in ('opioid', 'benzo', 'propofol','dex', 'driving_pressure', 'any_vaso'):\n",
    "    df[f'last_{col}'] = group_by_stay(df, col).shift(periods=1)"
   ]
  },
  {
   "cell_type": "code",
   "execution_count": null,
   "metadata": {},
   "outputs": [],
   "source": [
    "df = df.merge(cohort[['stay_id', 'deathtime', 'intime']])\n",
    "# Find the actual time at which the patient's stay started,\n",
    "# rather than hour `44`, for example\n",
    "df['baseline_time'] = (\n",
    "    pd.to_datetime(df['intime']) +\n",
    "    pd.to_timedelta(df['baseline_hour'], unit='hr')\n",
    ")\n",
    "# Identify the stays corresponding to patients whose\n",
    "# deathtimes occured before the baseline time for the study.\n",
    "stays_to_omit = df.loc[ \n",
    "    df['baseline_time'] > pd.to_datetime(df['deathtime']),\n",
    "    'stay_id'\n",
    "].unique()\n",
    "\n",
    "df = df.loc[~df['stay_id'].isin(stays_to_omit)]"
   ]
  },
  {
   "cell_type": "markdown",
   "metadata": {},
   "source": [
    "Next, we'll filter the dataframe such that only the first ICU stay for each patient is included."
   ]
  },
  {
   "cell_type": "code",
   "execution_count": null,
   "metadata": {},
   "outputs": [],
   "source": [
    "# Select subject_id and intime from each valid stay_id in cohort\n",
    "subjects = cohort.loc[\n",
    "    cohort['stay_id'].isin(df['stay_id']), ['subject_id', 'stay_id', 'intime']\n",
    "]\n",
    "# Sort by subject_id, then by intime to identify which is the first stay\n",
    "subjects.sort_values(['subject_id', 'intime'], ignore_index=True, inplace=True)\n",
    "# Get those first stay_ids\n",
    "first_stay_ids = subjects.groupby('subject_id')['stay_id'].first()\n",
    "# Filter df (and subjects) to only include those stays\n",
    "df = df[df['stay_id'].isin(first_stay_ids)]\n",
    "subjects = subjects[subjects['stay_id'].isin(first_stay_ids)]\n",
    "# Sort the df\n",
    "df.sort_values(['stay_id', 'hour'], ignore_index=True, inplace=True)"
   ]
  },
  {
   "cell_type": "markdown",
   "metadata": {},
   "source": [
    "Then, we forward fill all columns except for `amount` on a per-patient basis. Their values may only be measured occasionally, which is fine since the previous measurement of these values is important, not whether they were measured recently."
   ]
  },
  {
   "cell_type": "code",
   "execution_count": null,
   "metadata": {
    "tags": []
   },
   "outputs": [],
   "source": [
    "# for c in ALL_WEANING_PREDICTORS:\n",
    "#     if c == 'amount': continue\n",
    "#     df.loc[:, c] = group_by_stay(df, c).ffill()"
   ]
  },
  {
   "cell_type": "markdown",
   "metadata": {},
   "source": [
    "Next, we identify columns to exclude from the analysis on the basis of their NA proportion being too high (we set the threshhold at 0.10)."
   ]
  },
  {
   "cell_type": "code",
   "execution_count": null,
   "metadata": {},
   "outputs": [
    {
     "name": "stdout",
     "output_type": "stream",
     "text": [
      "marital_status: 0.15031893611692573\n"
     ]
    }
   ],
   "source": [
    "LEN_DF = len(df) # cache to avoid recalculating each loop\n",
    "cols_to_exclude = set()\n",
    "for c in ALL_WEANING_PREDICTORS:\n",
    "    na_proportion = df[c].isna().sum() / LEN_DF\n",
    "    if na_proportion >= 0.1:\n",
    "        cols_to_exclude.add(c)\n",
    "        print(f'{c}: {na_proportion}')"
   ]
  },
  {
   "cell_type": "markdown",
   "metadata": {},
   "source": [
    "Now that we've identified which columns should be excluded from our analysis, we can create a new list of predictors."
   ]
  },
  {
   "cell_type": "code",
   "execution_count": null,
   "metadata": {},
   "outputs": [],
   "source": [
    "weaning_predictors = [\n",
    "    c for c in ALL_WEANING_PREDICTORS if c not in cols_to_exclude\n",
    "]"
   ]
  },
  {
   "cell_type": "markdown",
   "metadata": {},
   "source": [
    "The next step is to process the data and remove outliers. The `remove_outliers` function essentially writes over implausible values with NaN."
   ]
  },
  {
   "cell_type": "code",
   "execution_count": null,
   "metadata": {},
   "outputs": [],
   "source": [
    "# df.loc[:, 'amount'] = df['amount']/1000\n",
    "# df.loc[:, 'last_amount'] = df['last_amount']/1000\n",
    "\n",
    "# remove_outliers(df)"
   ]
  },
  {
   "cell_type": "code",
   "execution_count": null,
   "metadata": {},
   "outputs": [],
   "source": [
    "for c in weaning_predictors:\n",
    "    try:\n",
    "        df[c].fillna(df[c].median(), inplace=True)\n",
    "    # If a column is a string or object type, the median method will throw a TypeError\n",
    "    except TypeError:\n",
    "        # TODO: impute mode for factor datatypes. what's the equivalent in pandas?\n",
    "        pass\n",
    "\n",
    "# remove_extremes(df)"
   ]
  },
  {
   "cell_type": "markdown",
   "metadata": {},
   "source": [
    "Now, we'll standardize our predictors."
   ]
  },
  {
   "cell_type": "code",
   "execution_count": null,
   "metadata": {},
   "outputs": [
    {
     "data": {
      "text/html": [
       "<div>\n",
       "<style scoped>\n",
       "    .dataframe tbody tr th:only-of-type {\n",
       "        vertical-align: middle;\n",
       "    }\n",
       "\n",
       "    .dataframe tbody tr th {\n",
       "        vertical-align: top;\n",
       "    }\n",
       "\n",
       "    .dataframe thead th {\n",
       "        text-align: right;\n",
       "    }\n",
       "</style>\n",
       "<table border=\"1\" class=\"dataframe\">\n",
       "  <thead>\n",
       "    <tr style=\"text-align: right;\">\n",
       "      <th></th>\n",
       "      <th>mean</th>\n",
       "      <th>std</th>\n",
       "    </tr>\n",
       "  </thead>\n",
       "  <tbody>\n",
       "    <tr>\n",
       "      <th>last_peep_set</th>\n",
       "      <td>1.894669e-16</td>\n",
       "      <td>1.000002</td>\n",
       "    </tr>\n",
       "    <tr>\n",
       "      <th>last_tidal_volume_set</th>\n",
       "      <td>-2.701398e-16</td>\n",
       "      <td>1.000002</td>\n",
       "    </tr>\n",
       "    <tr>\n",
       "      <th>last_resp_rate</th>\n",
       "      <td>-3.831521e-17</td>\n",
       "      <td>1.000002</td>\n",
       "    </tr>\n",
       "    <tr>\n",
       "      <th>last_peak_insp_pressure</th>\n",
       "      <td>-1.344547e-16</td>\n",
       "      <td>1.000002</td>\n",
       "    </tr>\n",
       "    <tr>\n",
       "      <th>last_plateau_pressure</th>\n",
       "      <td>-1.963215e-16</td>\n",
       "      <td>1.000002</td>\n",
       "    </tr>\n",
       "    <tr>\n",
       "      <th>last_mean_airway_pressure</th>\n",
       "      <td>2.193458e-16</td>\n",
       "      <td>1.000002</td>\n",
       "    </tr>\n",
       "    <tr>\n",
       "      <th>last_minutes_vol</th>\n",
       "      <td>2.293640e-17</td>\n",
       "      <td>1.000002</td>\n",
       "    </tr>\n",
       "    <tr>\n",
       "      <th>last_pao2fio2ratio</th>\n",
       "      <td>3.485278e-16</td>\n",
       "      <td>1.000002</td>\n",
       "    </tr>\n",
       "    <tr>\n",
       "      <th>last_driving_pressure</th>\n",
       "      <td>-1.428911e-16</td>\n",
       "      <td>1.000002</td>\n",
       "    </tr>\n",
       "    <tr>\n",
       "      <th>last_po2</th>\n",
       "      <td>-5.769250e-17</td>\n",
       "      <td>1.000002</td>\n",
       "    </tr>\n",
       "    <tr>\n",
       "      <th>last_pco2</th>\n",
       "      <td>1.613457e-16</td>\n",
       "      <td>1.000002</td>\n",
       "    </tr>\n",
       "    <tr>\n",
       "      <th>last_aado2_calc</th>\n",
       "      <td>2.530913e-17</td>\n",
       "      <td>1.000002</td>\n",
       "    </tr>\n",
       "    <tr>\n",
       "      <th>last_ph</th>\n",
       "      <td>5.858711e-15</td>\n",
       "      <td>1.000002</td>\n",
       "    </tr>\n",
       "    <tr>\n",
       "      <th>last_baseexcess</th>\n",
       "      <td>7.996981e-18</td>\n",
       "      <td>1.000002</td>\n",
       "    </tr>\n",
       "    <tr>\n",
       "      <th>last_totalco2</th>\n",
       "      <td>5.448492e-17</td>\n",
       "      <td>1.000002</td>\n",
       "    </tr>\n",
       "    <tr>\n",
       "      <th>last_temperature</th>\n",
       "      <td>1.020221e-14</td>\n",
       "      <td>1.000002</td>\n",
       "    </tr>\n",
       "    <tr>\n",
       "      <th>last_fio2_chartevents</th>\n",
       "      <td>1.986063e-16</td>\n",
       "      <td>1.000002</td>\n",
       "    </tr>\n",
       "    <tr>\n",
       "      <th>last_urine_output</th>\n",
       "      <td>-5.362811e-17</td>\n",
       "      <td>1.000002</td>\n",
       "    </tr>\n",
       "    <tr>\n",
       "      <th>last_lactate</th>\n",
       "      <td>1.572593e-16</td>\n",
       "      <td>1.000002</td>\n",
       "    </tr>\n",
       "    <tr>\n",
       "      <th>last_glucose</th>\n",
       "      <td>-3.954551e-19</td>\n",
       "      <td>1.000002</td>\n",
       "    </tr>\n",
       "    <tr>\n",
       "      <th>last_gcs</th>\n",
       "      <td>1.794487e-16</td>\n",
       "      <td>1.000002</td>\n",
       "    </tr>\n",
       "    <tr>\n",
       "      <th>last_gcs_verbal</th>\n",
       "      <td>-3.154853e-17</td>\n",
       "      <td>1.000002</td>\n",
       "    </tr>\n",
       "    <tr>\n",
       "      <th>last_gcs_motor</th>\n",
       "      <td>3.093338e-17</td>\n",
       "      <td>1.000002</td>\n",
       "    </tr>\n",
       "    <tr>\n",
       "      <th>last_gcs_eyes</th>\n",
       "      <td>-2.602973e-16</td>\n",
       "      <td>1.000002</td>\n",
       "    </tr>\n",
       "    <tr>\n",
       "      <th>last_gcs_unable</th>\n",
       "      <td>1.971124e-16</td>\n",
       "      <td>1.000002</td>\n",
       "    </tr>\n",
       "    <tr>\n",
       "      <th>last_CREATININE</th>\n",
       "      <td>-3.047641e-16</td>\n",
       "      <td>1.000002</td>\n",
       "    </tr>\n",
       "    <tr>\n",
       "      <th>last_PLATELET</th>\n",
       "      <td>7.487283e-17</td>\n",
       "      <td>1.000002</td>\n",
       "    </tr>\n",
       "    <tr>\n",
       "      <th>last_PTT</th>\n",
       "      <td>2.871004e-16</td>\n",
       "      <td>1.000002</td>\n",
       "    </tr>\n",
       "    <tr>\n",
       "      <th>last_BUN</th>\n",
       "      <td>2.221579e-16</td>\n",
       "      <td>1.000002</td>\n",
       "    </tr>\n",
       "    <tr>\n",
       "      <th>last_WBC</th>\n",
       "      <td>-6.784252e-17</td>\n",
       "      <td>1.000002</td>\n",
       "    </tr>\n",
       "    <tr>\n",
       "      <th>last_sbp</th>\n",
       "      <td>-4.312218e-16</td>\n",
       "      <td>1.000002</td>\n",
       "    </tr>\n",
       "    <tr>\n",
       "      <th>last_dbp</th>\n",
       "      <td>-1.117820e-16</td>\n",
       "      <td>1.000002</td>\n",
       "    </tr>\n",
       "    <tr>\n",
       "      <th>last_mbp</th>\n",
       "      <td>3.265580e-16</td>\n",
       "      <td>1.000002</td>\n",
       "    </tr>\n",
       "    <tr>\n",
       "      <th>last_spo2</th>\n",
       "      <td>-4.924734e-16</td>\n",
       "      <td>1.000002</td>\n",
       "    </tr>\n",
       "    <tr>\n",
       "      <th>last_heart_rate</th>\n",
       "      <td>-3.100368e-16</td>\n",
       "      <td>1.000002</td>\n",
       "    </tr>\n",
       "    <tr>\n",
       "      <th>last_respiration_24hours</th>\n",
       "      <td>-6.204251e-17</td>\n",
       "      <td>1.000002</td>\n",
       "    </tr>\n",
       "    <tr>\n",
       "      <th>last_coagulation_24hours</th>\n",
       "      <td>-1.652124e-17</td>\n",
       "      <td>1.000002</td>\n",
       "    </tr>\n",
       "    <tr>\n",
       "      <th>last_liver_24hours</th>\n",
       "      <td>-2.478185e-17</td>\n",
       "      <td>1.000002</td>\n",
       "    </tr>\n",
       "    <tr>\n",
       "      <th>last_cardiovascular_24hours</th>\n",
       "      <td>3.620611e-17</td>\n",
       "      <td>1.000002</td>\n",
       "    </tr>\n",
       "    <tr>\n",
       "      <th>last_cns_24hours</th>\n",
       "      <td>-1.040486e-16</td>\n",
       "      <td>1.000002</td>\n",
       "    </tr>\n",
       "    <tr>\n",
       "      <th>last_renal_24hours</th>\n",
       "      <td>1.379699e-17</td>\n",
       "      <td>1.000002</td>\n",
       "    </tr>\n",
       "    <tr>\n",
       "      <th>last_amount</th>\n",
       "      <td>-7.096222e-18</td>\n",
       "      <td>1.000002</td>\n",
       "    </tr>\n",
       "    <tr>\n",
       "      <th>last_weight</th>\n",
       "      <td>-1.021153e-16</td>\n",
       "      <td>1.000002</td>\n",
       "    </tr>\n",
       "    <tr>\n",
       "      <th>last_imputed_TV_standardized</th>\n",
       "      <td>-1.574526e-15</td>\n",
       "      <td>1.000002</td>\n",
       "    </tr>\n",
       "    <tr>\n",
       "      <th>last_opioid</th>\n",
       "      <td>2.794549e-17</td>\n",
       "      <td>1.000002</td>\n",
       "    </tr>\n",
       "    <tr>\n",
       "      <th>last_benzo</th>\n",
       "      <td>6.784252e-17</td>\n",
       "      <td>1.000002</td>\n",
       "    </tr>\n",
       "    <tr>\n",
       "      <th>last_propofol</th>\n",
       "      <td>1.031698e-16</td>\n",
       "      <td>1.000002</td>\n",
       "    </tr>\n",
       "    <tr>\n",
       "      <th>last_dex</th>\n",
       "      <td>-6.687585e-17</td>\n",
       "      <td>1.000002</td>\n",
       "    </tr>\n",
       "  </tbody>\n",
       "</table>\n",
       "</div>"
      ],
      "text/plain": [
       "                                      mean       std\n",
       "last_peep_set                 1.894669e-16  1.000002\n",
       "last_tidal_volume_set        -2.701398e-16  1.000002\n",
       "last_resp_rate               -3.831521e-17  1.000002\n",
       "last_peak_insp_pressure      -1.344547e-16  1.000002\n",
       "last_plateau_pressure        -1.963215e-16  1.000002\n",
       "last_mean_airway_pressure     2.193458e-16  1.000002\n",
       "last_minutes_vol              2.293640e-17  1.000002\n",
       "last_pao2fio2ratio            3.485278e-16  1.000002\n",
       "last_driving_pressure        -1.428911e-16  1.000002\n",
       "last_po2                     -5.769250e-17  1.000002\n",
       "last_pco2                     1.613457e-16  1.000002\n",
       "last_aado2_calc               2.530913e-17  1.000002\n",
       "last_ph                       5.858711e-15  1.000002\n",
       "last_baseexcess               7.996981e-18  1.000002\n",
       "last_totalco2                 5.448492e-17  1.000002\n",
       "last_temperature              1.020221e-14  1.000002\n",
       "last_fio2_chartevents         1.986063e-16  1.000002\n",
       "last_urine_output            -5.362811e-17  1.000002\n",
       "last_lactate                  1.572593e-16  1.000002\n",
       "last_glucose                 -3.954551e-19  1.000002\n",
       "last_gcs                      1.794487e-16  1.000002\n",
       "last_gcs_verbal              -3.154853e-17  1.000002\n",
       "last_gcs_motor                3.093338e-17  1.000002\n",
       "last_gcs_eyes                -2.602973e-16  1.000002\n",
       "last_gcs_unable               1.971124e-16  1.000002\n",
       "last_CREATININE              -3.047641e-16  1.000002\n",
       "last_PLATELET                 7.487283e-17  1.000002\n",
       "last_PTT                      2.871004e-16  1.000002\n",
       "last_BUN                      2.221579e-16  1.000002\n",
       "last_WBC                     -6.784252e-17  1.000002\n",
       "last_sbp                     -4.312218e-16  1.000002\n",
       "last_dbp                     -1.117820e-16  1.000002\n",
       "last_mbp                      3.265580e-16  1.000002\n",
       "last_spo2                    -4.924734e-16  1.000002\n",
       "last_heart_rate              -3.100368e-16  1.000002\n",
       "last_respiration_24hours     -6.204251e-17  1.000002\n",
       "last_coagulation_24hours     -1.652124e-17  1.000002\n",
       "last_liver_24hours           -2.478185e-17  1.000002\n",
       "last_cardiovascular_24hours   3.620611e-17  1.000002\n",
       "last_cns_24hours             -1.040486e-16  1.000002\n",
       "last_renal_24hours            1.379699e-17  1.000002\n",
       "last_amount                  -7.096222e-18  1.000002\n",
       "last_weight                  -1.021153e-16  1.000002\n",
       "last_imputed_TV_standardized -1.574526e-15  1.000002\n",
       "last_opioid                   2.794549e-17  1.000002\n",
       "last_benzo                    6.784252e-17  1.000002\n",
       "last_propofol                 1.031698e-16  1.000002\n",
       "last_dex                     -6.687585e-17  1.000002"
      ]
     },
     "execution_count": 20,
     "metadata": {},
     "output_type": "execute_result"
    }
   ],
   "source": [
    "# Standardize predictors\n",
    "numeric = df[weaning_predictors].select_dtypes(exclude='object').columns\n",
    "to_standardize = [c for c in numeric if 'last' in c]\n",
    "df.loc[:, to_standardize] = StandardScaler().fit_transform(df[to_standardize])\n",
    "# Sanity check to make sure the DataFrame was actually standardized\n",
    "df[to_standardize].agg(['mean', 'std']).T"
   ]
  },
  {
   "cell_type": "markdown",
   "metadata": {},
   "source": [
    "Before modeling the probability of weaning, we'll impute medians and remove extreme values from the covariates."
   ]
  },
  {
   "cell_type": "code",
   "execution_count": null,
   "metadata": {},
   "outputs": [],
   "source": [
    "for c in weaning_predictors:\n",
    "    if 'last' in c:\n",
    "        df[c] = np.maximum(-5, np.minimum(df[c], 5))"
   ]
  },
  {
   "cell_type": "markdown",
   "metadata": {},
   "source": [
    "The final step before modeling is to define our training data. Since we're interested in predicting the probability of starting the first weaning attempt, the relevant data is every timestep up until and including the true start of the first weaning attempt.\n",
    "\n",
    "For context, any commented-out code in the following cells represents what was/would be run had the notebook used the full dataframe instead of a sampled dataframe."
   ]
  },
  {
   "cell_type": "code",
   "execution_count": null,
   "metadata": {},
   "outputs": [],
   "source": [
    "# num_days_off_ctrl = group_by_stay(df, 'control').transform(\n",
    "#     lambda x: (x == 0).cumsum()\n",
    "# )\n",
    "# df = df.loc[num_days_off_ctrl <= 1]\n",
    "# df = df.reset_index(drop=True)\n",
    "\n",
    "df.to_csv('processed_data.csv')"
   ]
  },
  {
   "cell_type": "code",
   "execution_count": null,
   "metadata": {},
   "outputs": [
    {
     "name": "stderr",
     "output_type": "stream",
     "text": [
      "<ipython-input-47-1b4914cada55>:14: SettingWithCopyWarning: \n",
      "A value is trying to be set on a copy of a slice from a DataFrame.\n",
      "Try using .loc[row_indexer,col_indexer] = value instead\n",
      "\n",
      "See the caveats in the documentation: https://pandas.pydata.org/pandas-docs/stable/user_guide/indexing.html#returning-a-view-versus-a-copy\n",
      "  X[col] = LabelEncoder().fit_transform(X[col])\n"
     ]
    }
   ],
   "source": [
    "MODEL_PARAMS = {\n",
    "    'penalty': 'l2',\n",
    "    'max_iter': 2000,\n",
    "}\n",
    "# Dataframe checkpoint (loading in full processed dataset)\n",
    "# df = pd.read_csv('processed_data.csv')\n",
    "# create our objective column\n",
    "# df['weaning'] = 1 - df['control']\n",
    "\n",
    "X = df[weaning_predictors]\n",
    "y = df['weaning']\n",
    "\n",
    "for col in X.select_dtypes(include='object'):\n",
    "    X[col] = LabelEncoder().fit_transform(X[col])"
   ]
  },
  {
   "cell_type": "code",
   "execution_count": null,
   "metadata": {},
   "outputs": [
    {
     "data": {
      "image/png": "[encoded data removed]",
      "text/plain": [
       "<Figure size 432x288 with 1 Axes>"
      ]
     },
     "metadata": {
      "needs_background": "light"
     },
     "output_type": "display_data"
    }
   ],
   "source": [
    "weaning_predictor = LogisticRegression(**MODEL_PARAMS).fit(X, y)\n",
    "\n",
    "with open('models/weaning_predictor.pkl', 'wb') as f:\n",
    "    pickle.dump(weaning_predictor, f)\n",
    "\n",
    "# # Load in a LogisticRegression model fitted on the full dataset\n",
    "# with open('models/weaning_predictor.pkl', 'rb') as f:\n",
    "#     weaning_predictor = pickle.load(f)\n",
    "\n",
    "create_calibration_curve(\n",
    "    weaning_predictor, X, y,\n",
    "    'Standard Logistic Regression',\n",
    "    save_path='images/calibration_curve.png'\n",
    ")"
   ]
  },
  {
   "cell_type": "code",
   "execution_count": 107,
   "metadata": {},
   "outputs": [
    {
     "data": {
      "text/plain": [
       "<matplotlib.lines._AxLine at 0x135c93e20>"
      ]
     },
     "execution_count": 107,
     "metadata": {},
     "output_type": "execute_result"
    },
    {
     "data": {
      "image/png": "[encoded data removed]",
      "text/plain": [
       "<Figure size 432x288 with 1 Axes>"
      ]
     },
     "metadata": {
      "needs_background": "light"
     },
     "output_type": "display_data"
    }
   ],
   "source": [
    "# create a calibration curve\n",
    "df['p_hat'] = weaning_predictor.predict_proba(X)[:, 1]\n",
    "\n",
    "prob_pred = []\n",
    "prob_true = []\n",
    "\n",
    "resolution = 0.02\n",
    "xmax = 0.3\n",
    "for i in range(int(xmax/resolution)):\n",
    "    prob_true.append(i * resolution)\n",
    "    prob_pred.append(df.loc[(df['p_hat'] >= resolution * i) & (df['p_hat'] <= resolution * (i + 1)), 'weaning'].mean())\n",
    "\n",
    "_ , ax = plt.subplots(nrows=1, ncols=1)\n",
    "plt.plot(prob_true, prob_pred)\n",
    "ax.axline([0, 0], [0.2, 0.2], color='black', alpha=0.3)"
   ]
  },
  {
   "cell_type": "markdown",
   "metadata": {},
   "source": [
    "Train a calibrated regressor since the above graph shows that the current predictor is poorly calibrated."
   ]
  },
  {
   "cell_type": "code",
   "execution_count": null,
   "metadata": {},
   "outputs": [
    {
     "name": "stderr",
     "output_type": "stream",
     "text": [
      "/Users/aman/VSCode Files/earlier-mv-weaning/venv/lib/python3.9/site-packages/sklearn/linear_model/_logistic.py:763: ConvergenceWarning: lbfgs failed to converge (status=1):\n",
      "STOP: TOTAL NO. of ITERATIONS REACHED LIMIT.\n",
      "\n",
      "Increase the number of iterations (max_iter) or scale the data as shown in:\n",
      "    https://scikit-learn.org/stable/modules/preprocessing.html\n",
      "Please also refer to the documentation for alternative solver options:\n",
      "    https://scikit-learn.org/stable/modules/linear_model.html#logistic-regression\n",
      "  n_iter_i = _check_optimize_result(\n"
     ]
    }
   ],
   "source": [
    "calibrated_predictor = CalibratedClassifierCV(\n",
    "    base_estimator=LogisticRegression(**MODEL_PARAMS),\n",
    "    method='isotonic'\n",
    "    ).fit(X, y)\n",
    "\n",
    "with open('models/calibrated_predictor.pkl', 'wb') as f:\n",
    "    pickle.dump(calibrated_predictor, f)\n",
    "\n",
    "# # Load in a calibrated LogisticRegression model fitted on the full dataset\n",
    "# with open('models/calibrated_predictor.pkl', 'rb') as f:\n",
    "#     calibrated_predictor = pickle.load(f)\n",
    "\n",
    "# create_calibration_curve(\n",
    "#     calibrated_predictor, X, y, \n",
    "#     'Logistic Regression with Isotonic Calibration',\n",
    "#     save_path='images/isotonic_calibration_curve.png'\n",
    "# )"
   ]
  },
  {
   "cell_type": "code",
   "execution_count": 108,
   "metadata": {},
   "outputs": [
    {
     "data": {
      "text/plain": [
       "<matplotlib.lines._AxLine at 0x1358b4670>"
      ]
     },
     "execution_count": 108,
     "metadata": {},
     "output_type": "execute_result"
    },
    {
     "data": {
      "image/png": "[encoded data removed]",
      "text/plain": [
       "<Figure size 432x288 with 1 Axes>"
      ]
     },
     "metadata": {
      "needs_background": "light"
     },
     "output_type": "display_data"
    }
   ],
   "source": [
    "df['p_hat_cal'] = calibrated_predictor.predict_proba(X)[:, 1]\n",
    "\n",
    "prob_pred = []\n",
    "prob_true = []\n",
    "\n",
    "resolution = 0.02\n",
    "xmax = 0.2\n",
    "for i in range(int(xmax/resolution) + 1):\n",
    "    prob_true.append(i * resolution)\n",
    "    prob_pred.append(df.loc[(df['p_hat_cal'] >= resolution * i) & (df['p_hat_cal'] <= resolution * (i + 1)), 'weaning'].mean())\n",
    "\n",
    "_ , ax = plt.subplots(nrows=1, ncols=1)\n",
    "plt.plot(prob_true, prob_pred)\n",
    "ax.axline([0, 0], [0.2, 0.2], color='black', alpha=0.3)"
   ]
  },
  {
   "cell_type": "markdown",
   "metadata": {},
   "source": [
    "With our well-calibrated model for the probability of weaning, we can now estimate the causal effect of incrementing this propensity score."
   ]
  },
  {
   "cell_type": "code",
   "execution_count": 123,
   "metadata": {},
   "outputs": [],
   "source": [
    "delta_vals = np.around(np.arange(0.5, 2.1, 0.1), decimals=1) # round to remove floating point errors\n",
    "\n",
    "# For each value of delta:\n",
    "\n",
    "# 1. Construct time-dependent weights W_t for each subject and timepoint\n",
    "# 2. Calculate cumulative product weight for each subject across timepoints\n",
    "# 3. Multiply each cumulative product weight by the outcome\n",
    "# 4. Take the average of these products to estimate the mean counterfactual outcome\n",
    "\n",
    "# Create a column with the propensity of a subject at a given timepoint to begin weaning\n",
    "df.loc[:, 'propensity_score'] = calibrated_predictor.predict_proba(X)[:, 1]\n",
    "\n",
    "def calculate_estimates(\n",
    "    deltas,\n",
    "    data=df,\n",
    "    treatment_col='weaning',\n",
    "    propensity_col='propensity_score',\n",
    "    outcome_col='hospital_expire_flag',\n",
    "    return_weights=False,\n",
    "    truncate_weights=True,\n",
    "    ):\n",
    "    \"\"\"\n",
    "    Calculate estimates for the effect on `outcome_col` of intervening on `A`\n",
    "    \"\"\"\n",
    "    data = data.copy()\n",
    "    results = {}\n",
    "    weights = {}\n",
    "    for delta in deltas:\n",
    "        A = data[treatment_col]\n",
    "        pi_hat = data[propensity_col]\n",
    "        weight_col = f'weights_d{delta}_{outcome_col}'\n",
    "        # construct time-dependent weights for each subject at each timepoint\n",
    "        data.loc[:, weight_col] = (\n",
    "            ((delta * A) + 1 - A) /\n",
    "            ((delta * pi_hat) + 1 - pi_hat)\n",
    "        )\n",
    "        # calculate cumulative product of weights\n",
    "        cumulative_products = group_by_stay(data, weight_col).prod()\n",
    "        # truncate cumulative weights at the 99th percentile\n",
    "        if truncate_weights:\n",
    "            max_val = cumulative_products.quantile(q=0.99)\n",
    "            cumulative_products = np.minimum(cumulative_products, max_val)\n",
    "        # save the weights\n",
    "        weights[delta] = cumulative_products\n",
    "        # multiply by outcome\n",
    "        weighted_products = cumulative_products.multiply(\n",
    "            group_by_stay(data, outcome_col).first()\n",
    "        )\n",
    "        # average over subjects and add to results\n",
    "        results[delta] = weighted_products.mean()\n",
    "    return (results, weights) if return_weights else results\n"
   ]
  },
  {
   "cell_type": "markdown",
   "metadata": {},
   "source": [
    "First, examine time until weaning results."
   ]
  },
  {
   "cell_type": "code",
   "execution_count": 116,
   "metadata": {},
   "outputs": [],
   "source": [
    "# time until weaning outcome\n",
    "grouped = group_by_stay(df, 'weaning')\n",
    "df['time_until_wean'] = (grouped\n",
    "    # Apply the .max() and .size() functions to the weaning groups\n",
    "    # This determines 1. whether weaning occured\n",
    "    # and 2. the number of hours at which weaning began (if it did)\n",
    "    .agg(['max', 'size'])\n",
    "    # If weaning did occur, return the number of hours after baseline with it occured\n",
    "    # Otherwise, we set the value to 720 hours\n",
    "    .apply(lambda row: row['size'] if row['max'] else 720, axis=1)\n",
    "    # Repeat rows to ensure the size of the array matches what's in the dataframe\n",
    "    .repeat(grouped.size())\n",
    "    # Reset index so column can be inserted into the dataframe properly\n",
    "    .reset_index(drop=True)\n",
    ")"
   ]
  },
  {
   "cell_type": "code",
   "execution_count": 117,
   "metadata": {},
   "outputs": [
    {
     "name": "stdout",
     "output_type": "stream",
     "text": [
      "{0.5: 72.973649425188,\n",
      " 0.6: 65.7496713131525,\n",
      " 0.7: 59.060645591941054,\n",
      " 0.8: 53.21267305489172,\n",
      " 0.9: 48.23995410307622,\n",
      " 1.0: 44.05771559262771,\n",
      " 1.1: 40.220958052712284,\n",
      " 1.2: 37.23536378842845,\n",
      " 1.3: 34.775009347164506,\n",
      " 1.4: 32.681987062737264,\n",
      " 1.5: 30.865896602165215,\n",
      " 1.6: 29.26807472555956,\n",
      " 1.7: 27.84722567727777,\n",
      " 1.8: 26.572756625762633,\n",
      " 1.9: 25.421230651938565,\n",
      " 2.0: 24.37425944551152}\n"
     ]
    }
   ],
   "source": [
    "time_until_wean_results = calculate_estimates(delta_vals, outcome_col='time_until_wean')\n",
    "pprint(time_until_wean_results)"
   ]
  },
  {
   "cell_type": "code",
   "execution_count": 120,
   "metadata": {},
   "outputs": [
    {
     "data": {
      "image/png": "[encoded data removed]",
      "text/plain": [
       "<Figure size 432x288 with 1 Axes>"
      ]
     },
     "metadata": {
      "needs_background": "light"
     },
     "output_type": "display_data"
    }
   ],
   "source": [
    "plt.xlabel('Delta')\n",
    "plt.ylabel('Mean Estimated Hours Until Weaning Begins')\n",
    "plt.plot(time_until_wean_results.keys(), time_until_wean_results.values())\n",
    "plt.axvline(1, color='grey', alpha=0.5)\n",
    "plt.minorticks_on()\n",
    "plt.savefig('images/time_until_wean_results.png', facecolor='white')\n",
    "plt.show()"
   ]
  },
  {
   "cell_type": "markdown",
   "metadata": {},
   "source": [
    "Next, mortality."
   ]
  },
  {
   "cell_type": "code",
   "execution_count": 289,
   "metadata": {},
   "outputs": [
    {
     "name": "stdout",
     "output_type": "stream",
     "text": [
      "{0.5: 0.3349789308983709,\n",
      " 0.6: 0.33722795764366953,\n",
      " 0.7: 0.3372380855147004,\n",
      " 0.8: 0.33644840098622425,\n",
      " 0.9: 0.3355223409955113,\n",
      " 1.0: 0.334723530203149,\n",
      " 1.1: 0.33378903581315067,\n",
      " 1.2: 0.3333431010974809,\n",
      " 1.3: 0.33314637141283127,\n",
      " 1.4: 0.33308241689986035,\n",
      " 1.5: 0.33308663895095264,\n",
      " 1.6: 0.33312009428729095,\n",
      " 1.7: 0.33315831621417474,\n",
      " 1.8: 0.3331857506983772,\n",
      " 1.9: 0.33319262309886594,\n",
      " 2.0: 0.3331730186039036}\n"
     ]
    }
   ],
   "source": [
    "# mortality\n",
    "mortality_results, weights = calculate_estimates(delta_vals, return_weights=True)\n",
    "\n",
    "pprint(mortality_results)"
   ]
  },
  {
   "cell_type": "markdown",
   "metadata": {},
   "source": [
    "To get a better idea of the results, we'll plot a line graph of the estimated outcomes for each value of delta."
   ]
  },
  {
   "cell_type": "code",
   "execution_count": 290,
   "metadata": {},
   "outputs": [
    {
     "data": {
      "image/png": "[encoded data removed]",
      "text/plain": [
       "<Figure size 432x288 with 1 Axes>"
      ]
     },
     "metadata": {
      "needs_background": "light"
     },
     "output_type": "display_data"
    }
   ],
   "source": [
    "plt.xlabel('Delta')\n",
    "plt.ylabel('Mean Estimated Mortality Rate')\n",
    "plt.scatter(mortality_results.keys(), mortality_results.values())\n",
    "plt.axvline(1, color='grey', alpha=0.5)\n",
    "plt.ylim(0.33, 0.34)\n",
    "plt.minorticks_on()\n",
    "plt.savefig('images/mortality_results.png', facecolor='white')\n",
    "plt.show()"
   ]
  },
  {
   "cell_type": "markdown",
   "metadata": {},
   "source": [
    "Now we can rerun our analysis with the desired outcome being ICU-free days."
   ]
  },
  {
   "cell_type": "code",
   "execution_count": 176,
   "metadata": {},
   "outputs": [],
   "source": [
    "# 1. find baseline time\n",
    "# 2. find how many days in the 30 days post-baseline the patient was alive and not in the icu\n",
    "# assumptions:\n",
    "#   if the patient didn't die in a hospital stay, they didn't die\n",
    "#   if they died in hospital, assume discharge time is time of death\n",
    "\n",
    "# Merge dataframe containing in and out time\n",
    "baseline_hour_df = cohort.loc[\n",
    "    :, ['stay_id', 'intime', 'outtime', 'subject_id']\n",
    "    ].merge(\n",
    "        df.loc[df['hour_baseline'] == 1, ['stay_id', 'baseline_hour', 'baseline_time']]\n",
    "    )\n",
    "\n",
    "icu_duration_df = cohort.merge(\n",
    "    baseline_hour_df.loc[:, ['subject_id', 'baseline_time']].drop_duplicates()\n",
    "    )"
   ]
  },
  {
   "cell_type": "code",
   "execution_count": null,
   "metadata": {},
   "outputs": [],
   "source": [
    "# convert dtype of columns with datetimes from object to datetimes\n",
    "for time_col in ('intime', 'outtime', 'deathtime'):\n",
    "    icu_duration_df[time_col] = pd.to_datetime(icu_duration_df[time_col])\n",
    "\n",
    "icu_duration_df['max_time'] = icu_duration_df['baseline_time'] + pd.Timedelta(30, unit=\"days\")\n",
    "# remove ones where outtime <= baseline_time\n",
    "icu_duration_df = icu_duration_df.loc[icu_duration_df['outtime'] > icu_duration_df['baseline_time']]\n",
    "# remove rows with max_time <= intime\n",
    "icu_duration_df = icu_duration_df.loc[icu_duration_df['max_time'] > icu_duration_df['intime']]"
   ]
  },
  {
   "cell_type": "code",
   "execution_count": null,
   "metadata": {},
   "outputs": [],
   "source": [
    "# Calculate duration of each stay\n",
    "icu_duration_df = icu_duration_df.sort_values('subject_id')\n",
    "stay_start = np.maximum(icu_duration_df['intime'], icu_duration_df['baseline_time'])\n",
    "stay_end = np.minimum(icu_duration_df['outtime'], icu_duration_df['max_time'])\n",
    "icu_duration_df['icu_stay_durations'] = stay_end - stay_start"
   ]
  },
  {
   "cell_type": "code",
   "execution_count": 231,
   "metadata": {},
   "outputs": [],
   "source": [
    "icu_duration_df['death_day'] = icu_duration_df['deathtime'] - icu_duration_df['baseline_time']\n",
    "# fill all entries with deathtime before baseline_time with 0\n",
    "icu_duration_df.loc[icu_duration_df['death_day'] < pd.to_timedelta(0), 'death_day'] = pd.to_timedelta(0)\n",
    "# fill all entries with NaN deathtime with a dummy value\n",
    "icu_duration_df['death_day'].fillna(pd.Timedelta(100000, unit=\"days\"), inplace=True)"
   ]
  },
  {
   "cell_type": "code",
   "execution_count": 235,
   "metadata": {},
   "outputs": [],
   "source": [
    "max_val = pd.Timedelta(30, \"days\")\n",
    "icu_duration_df['max'] = icu_duration_df['death_day'].where(icu_duration_df['death_day'] <= max_val, max_val)\n",
    "max_df = icu_duration_df[['subject_id', 'max']].drop_duplicates()\n",
    "max_df = max_df.groupby('subject_id', as_index=False).min()"
   ]
  },
  {
   "cell_type": "code",
   "execution_count": 257,
   "metadata": {},
   "outputs": [],
   "source": [
    "duration_df = icu_duration_df.groupby('subject_id', as_index=False)['icu_stay_durations'].sum()"
   ]
  },
  {
   "cell_type": "code",
   "execution_count": 274,
   "metadata": {},
   "outputs": [],
   "source": [
    "icu_outcome_df = max_df.merge(duration_df)\n",
    "icu_outcome_df.rename(columns = {'icu_stay_durations' : 'icu_duration'}, inplace=True)"
   ]
  },
  {
   "cell_type": "code",
   "execution_count": 286,
   "metadata": {},
   "outputs": [],
   "source": [
    "# construct outcome column (take ceil of the time difference to the nearest day)\n",
    "icu_outcome_df['outcome'] = (icu_outcome_df['max'] - icu_outcome_df['icu_duration']).dt.ceil('d')\n",
    "# merge with subjects to get stay id\n",
    "icu_outcome_df = icu_outcome_df.merge(subjects[['subject_id', 'stay_id']])\n",
    "icu_outcome_df.sort_values('stay_id', inplace=True)"
   ]
  },
  {
   "cell_type": "markdown",
   "metadata": {},
   "source": [
    "Calculate estimates!"
   ]
  },
  {
   "cell_type": "code",
   "execution_count": 320,
   "metadata": {},
   "outputs": [],
   "source": [
    "counterfactual_icu_free_days = {}\n",
    "outcome = icu_outcome_df.set_index('stay_id')['outcome'].dt.days\n",
    "for d in delta_vals:\n",
    "    counterfactual_icu_free_days[d] = (weights[d] * outcome).mean()"
   ]
  },
  {
   "cell_type": "code",
   "execution_count": 324,
   "metadata": {},
   "outputs": [
    {
     "data": {
      "image/png": "[encoded data removed]",
      "text/plain": [
       "<Figure size 432x288 with 1 Axes>"
      ]
     },
     "metadata": {
      "needs_background": "light"
     },
     "output_type": "display_data"
    }
   ],
   "source": [
    "plt.xlabel('Delta')\n",
    "plt.ylabel('Mean Estimated ICU-Free Days')\n",
    "plt.scatter(counterfactual_icu_free_days.keys(), counterfactual_icu_free_days.values())\n",
    "plt.axvline(1, color='grey', alpha=0.5)\n",
    "# plt.ylim(0.33, 0.34)\n",
    "plt.minorticks_on()\n",
    "plt.savefig('images/icu_free_results.png', facecolor='white')\n",
    "plt.show()"
   ]
  },
  {
   "cell_type": "markdown",
   "metadata": {},
   "source": [
    "Up until this point, all results verified against R code!"
   ]
  },
  {
   "cell_type": "markdown",
   "metadata": {},
   "source": [
    "Next: bootstrap to determine variability."
   ]
  },
  {
   "cell_type": "code",
   "execution_count": 128,
   "metadata": {},
   "outputs": [
    {
     "data": {
      "text/html": [
       "<div>\n",
       "<style scoped>\n",
       "    .dataframe tbody tr th:only-of-type {\n",
       "        vertical-align: middle;\n",
       "    }\n",
       "\n",
       "    .dataframe tbody tr th {\n",
       "        vertical-align: top;\n",
       "    }\n",
       "\n",
       "    .dataframe thead th {\n",
       "        text-align: right;\n",
       "    }\n",
       "</style>\n",
       "<table border=\"1\" class=\"dataframe\">\n",
       "  <thead>\n",
       "    <tr style=\"text-align: right;\">\n",
       "      <th></th>\n",
       "      <th>0.5</th>\n",
       "      <th>0.6</th>\n",
       "      <th>0.7</th>\n",
       "      <th>0.8</th>\n",
       "      <th>0.9</th>\n",
       "      <th>1.0</th>\n",
       "      <th>1.1</th>\n",
       "      <th>1.2</th>\n",
       "      <th>1.3</th>\n",
       "      <th>1.4</th>\n",
       "      <th>1.5</th>\n",
       "      <th>1.6</th>\n",
       "      <th>1.7</th>\n",
       "      <th>1.8</th>\n",
       "      <th>1.9</th>\n",
       "      <th>2.0</th>\n",
       "    </tr>\n",
       "  </thead>\n",
       "  <tbody>\n",
       "    <tr>\n",
       "      <th>0</th>\n",
       "      <td>0.457909</td>\n",
       "      <td>0.402063</td>\n",
       "      <td>0.364967</td>\n",
       "      <td>0.342731</td>\n",
       "      <td>0.331746</td>\n",
       "      <td>0.328052</td>\n",
       "      <td>0.328325</td>\n",
       "      <td>0.332323</td>\n",
       "      <td>0.338262</td>\n",
       "      <td>0.345428</td>\n",
       "      <td>0.353457</td>\n",
       "      <td>0.362147</td>\n",
       "      <td>0.371220</td>\n",
       "      <td>0.380816</td>\n",
       "      <td>0.390698</td>\n",
       "      <td>0.401026</td>\n",
       "    </tr>\n",
       "    <tr>\n",
       "      <th>1</th>\n",
       "      <td>0.474154</td>\n",
       "      <td>0.414744</td>\n",
       "      <td>0.376292</td>\n",
       "      <td>0.354188</td>\n",
       "      <td>0.344120</td>\n",
       "      <td>0.341505</td>\n",
       "      <td>0.342623</td>\n",
       "      <td>0.347181</td>\n",
       "      <td>0.353536</td>\n",
       "      <td>0.361062</td>\n",
       "      <td>0.369394</td>\n",
       "      <td>0.378283</td>\n",
       "      <td>0.387637</td>\n",
       "      <td>0.397566</td>\n",
       "      <td>0.407860</td>\n",
       "      <td>0.417834</td>\n",
       "    </tr>\n",
       "    <tr>\n",
       "      <th>2</th>\n",
       "      <td>0.425234</td>\n",
       "      <td>0.388179</td>\n",
       "      <td>0.361388</td>\n",
       "      <td>0.345133</td>\n",
       "      <td>0.336842</td>\n",
       "      <td>0.334183</td>\n",
       "      <td>0.334630</td>\n",
       "      <td>0.338348</td>\n",
       "      <td>0.343764</td>\n",
       "      <td>0.350241</td>\n",
       "      <td>0.357389</td>\n",
       "      <td>0.365017</td>\n",
       "      <td>0.372945</td>\n",
       "      <td>0.381234</td>\n",
       "      <td>0.389702</td>\n",
       "      <td>0.398295</td>\n",
       "    </tr>\n",
       "    <tr>\n",
       "      <th>3</th>\n",
       "      <td>0.491602</td>\n",
       "      <td>0.419705</td>\n",
       "      <td>0.375781</td>\n",
       "      <td>0.351622</td>\n",
       "      <td>0.339117</td>\n",
       "      <td>0.334396</td>\n",
       "      <td>0.333914</td>\n",
       "      <td>0.337260</td>\n",
       "      <td>0.342562</td>\n",
       "      <td>0.349035</td>\n",
       "      <td>0.356216</td>\n",
       "      <td>0.364049</td>\n",
       "      <td>0.372328</td>\n",
       "      <td>0.380860</td>\n",
       "      <td>0.389755</td>\n",
       "      <td>0.398903</td>\n",
       "    </tr>\n",
       "    <tr>\n",
       "      <th>4</th>\n",
       "      <td>0.475320</td>\n",
       "      <td>0.418236</td>\n",
       "      <td>0.378423</td>\n",
       "      <td>0.355064</td>\n",
       "      <td>0.343519</td>\n",
       "      <td>0.339602</td>\n",
       "      <td>0.339946</td>\n",
       "      <td>0.343654</td>\n",
       "      <td>0.349362</td>\n",
       "      <td>0.356296</td>\n",
       "      <td>0.364048</td>\n",
       "      <td>0.372464</td>\n",
       "      <td>0.381441</td>\n",
       "      <td>0.390822</td>\n",
       "      <td>0.400538</td>\n",
       "      <td>0.410537</td>\n",
       "    </tr>\n",
       "  </tbody>\n",
       "</table>\n",
       "</div>"
      ],
      "text/plain": [
       "        0.5       0.6       0.7       0.8       0.9       1.0       1.1  \\\n",
       "0  0.457909  0.402063  0.364967  0.342731  0.331746  0.328052  0.328325   \n",
       "1  0.474154  0.414744  0.376292  0.354188  0.344120  0.341505  0.342623   \n",
       "2  0.425234  0.388179  0.361388  0.345133  0.336842  0.334183  0.334630   \n",
       "3  0.491602  0.419705  0.375781  0.351622  0.339117  0.334396  0.333914   \n",
       "4  0.475320  0.418236  0.378423  0.355064  0.343519  0.339602  0.339946   \n",
       "\n",
       "        1.2       1.3       1.4       1.5       1.6       1.7       1.8  \\\n",
       "0  0.332323  0.338262  0.345428  0.353457  0.362147  0.371220  0.380816   \n",
       "1  0.347181  0.353536  0.361062  0.369394  0.378283  0.387637  0.397566   \n",
       "2  0.338348  0.343764  0.350241  0.357389  0.365017  0.372945  0.381234   \n",
       "3  0.337260  0.342562  0.349035  0.356216  0.364049  0.372328  0.380860   \n",
       "4  0.343654  0.349362  0.356296  0.364048  0.372464  0.381441  0.390822   \n",
       "\n",
       "        1.9       2.0  \n",
       "0  0.390698  0.401026  \n",
       "1  0.407860  0.417834  \n",
       "2  0.389702  0.398295  \n",
       "3  0.389755  0.398903  \n",
       "4  0.400538  0.410537  "
      ]
     },
     "execution_count": 128,
     "metadata": {},
     "output_type": "execute_result"
    }
   ],
   "source": [
    "N_BOOTSTRAPS = 100\n",
    "outcome_estimates = {d: [] for d in delta_vals}\n",
    "\n",
    "stays = df['stay_id'].unique()\n",
    "\n",
    "def get_bootstrap_sample():\n",
    "    \"\"\"Randomly sample from the dataframe, keeping the number of stays the same.\"\"\"\n",
    "    sampled_stays = np.random.choice(stays, size=stays.shape, replace=True)\n",
    "    # Determine how many times each stay should be repeated (since we sample w/replacement)\n",
    "    num_repeats = {s: 0 for s in sampled_stays}\n",
    "    for s in sampled_stays:\n",
    "        num_repeats[s] += 1\n",
    "    # Choose only the selected stays\n",
    "    curr_data = df.loc[df['stay_id'].isin(sampled_stays)]\n",
    "    indices = []\n",
    "    for stay, idxs in group_by_stay(curr_data).groups.items():\n",
    "        indices += (num_repeats[stay] * list(idxs))\n",
    "    return curr_data.reindex(indices)\n",
    "\n",
    "for i in range(N_BOOTSTRAPS):\n",
    "    r = calculate_estimates(\n",
    "        delta_vals,\n",
    "        data=get_bootstrap_sample(),\n",
    "    )\n",
    "    for delta, estimate in r.items():\n",
    "        outcome_estimates[delta].append(estimate)\n",
    "\n",
    "outcome_estimates = pd.DataFrame(outcome_estimates)\n",
    "# outcome_estimates.to_csv('outcome_estimates.csv')\n",
    "outcome_estimates.head()"
   ]
  },
  {
   "cell_type": "code",
   "execution_count": 129,
   "metadata": {},
   "outputs": [
    {
     "data": {
      "text/plain": [
       "0.5    0.467399\n",
       "0.6    0.409106\n",
       "0.7    0.370506\n",
       "0.8    0.348270\n",
       "0.9    0.337486\n",
       "1.0    0.334096\n",
       "1.1    0.334711\n",
       "1.2    0.338798\n",
       "1.3    0.344747\n",
       "1.4    0.351863\n",
       "1.5    0.359762\n",
       "1.6    0.368217\n",
       "1.7    0.377101\n",
       "1.8    0.386314\n",
       "1.9    0.395772\n",
       "2.0    0.405440\n",
       "dtype: float64"
      ]
     },
     "execution_count": 129,
     "metadata": {},
     "output_type": "execute_result"
    }
   ],
   "source": [
    "outcome_estimates.mean()"
   ]
  },
  {
   "cell_type": "code",
   "execution_count": 130,
   "metadata": {},
   "outputs": [],
   "source": [
    "to_plot = outcome_estimates.iloc[:, 2:17]"
   ]
  },
  {
   "cell_type": "code",
   "execution_count": 133,
   "metadata": {},
   "outputs": [
    {
     "data": {
      "image/png": "[encoded data removed]",
      "text/plain": [
       "<Figure size 432x288 with 1 Axes>"
      ]
     },
     "metadata": {
      "needs_background": "light"
     },
     "output_type": "display_data"
    }
   ],
   "source": [
    "bounds = outcome_estimates.quantile(0.025), outcome_estimates.quantile(0.975)\n",
    "# bounds = outcome_estimates.min(), outcome_estimates.max()\n",
    "plt.fill_between(delta_vals, bounds[0], bounds[1], alpha=0.5)\n",
    "plt.plot(mortality_results.keys(), mortality_results.values())\n",
    "plt.show()"
   ]
  },
  {
   "cell_type": "markdown",
   "metadata": {},
   "source": [
    "Now that we have an understanding of the variability of our estimates, we'll run one final analysis. This time, instead of looking at the impact of weaning interventions on mortality, our outcome of interest will be the amount of time until first weaning attempt. The goal of this is to see how much of an impact the interventions actually have on the time before first attempt."
   ]
  },
  {
   "cell_type": "code",
   "execution_count": null,
   "metadata": {},
   "outputs": [],
   "source": [
    "grouped = group_by_stay(df, 'weaning')\n",
    "df['time_until_wean'] = (grouped\n",
    "    # Apply the .max() and .size() functions to the weaning groups\n",
    "    # This determines 1. whether weaning occured\n",
    "    # and 2. the number of hours at which weaning began (if it did)\n",
    "    .agg(['max', 'size'])\n",
    "    # If weaning did occur, return the number of hours after baseline with it occured\n",
    "    # Otherwise, we set the value to 720 hours\n",
    "    .apply(lambda row: row['size'] if row['max'] else 720, axis=1)\n",
    "    # Repeat rows to ensure the size of the array matches what's in the dataframe\n",
    "    .repeat(grouped.size())\n",
    "    # Reset index so column can be inserted into the dataframe properly\n",
    "    .reset_index(drop=True)\n",
    ")"
   ]
  },
  {
   "cell_type": "code",
   "execution_count": null,
   "metadata": {},
   "outputs": [
    {
     "name": "stdout",
     "output_type": "stream",
     "text": [
      "{0.5: 40.26349090669701,\n",
      " 0.6: 36.40434666461345,\n",
      " 0.7: 32.89950168000707,\n",
      " 0.8: 29.93177644269899,\n",
      " 0.9: 27.393641875978574,\n",
      " 1.0: 25.225469728601393,\n",
      " 1.1: 23.171979261007245,\n",
      " 1.2: 21.55431868841622,\n",
      " 1.3: 20.20713227161252,\n",
      " 1.4: 19.050516748678056,\n",
      " 1.5: 18.03818963829559,\n",
      " 1.6: 17.140031072711746,\n",
      " 1.7: 16.334901039484713,\n",
      " 1.8: 15.607197249956442,\n",
      " 1.9: 14.944992427376341,\n",
      " 2.0: 14.338932216615847}\n"
     ]
    }
   ],
   "source": [
    "time_until_wean_results = calculate_estimates(delta_vals, outcome_col='time_until_wean')\n",
    "pprint(time_until_wean_results)"
   ]
  },
  {
   "cell_type": "code",
   "execution_count": null,
   "metadata": {},
   "outputs": [
    {
     "data": {
      "image/png": "[encoded data removed]",
      "image/svg+xml": "<?xml version=\"1.0\" encoding=\"utf-8\" standalone=\"no\"?>\n<!DOCTYPE svg PUBLIC \"-//W3C//DTD SVG 1.1//EN\"\n  \"http://www.w3.org/Graphics/SVG/1.1/DTD/svg11.dtd\">\n<svg height=\"265.053594pt\" version=\"1.1\" viewBox=\"0 0 382.603125 265.053594\" width=\"382.603125pt\" xmlns=\"http://www.w3.org/2000/svg\" xmlns:xlink=\"http://www.w3.org/1999/xlink\">\n <metadata>\n  <rdf:RDF xmlns:cc=\"http://creativecommons.org/ns#\" xmlns:dc=\"http://purl.org/dc/elements/1.1/\" xmlns:rdf=\"http://www.w3.org/1999/02/22-rdf-syntax-ns#\">\n   <cc:Work>\n    <dc:type rdf:resource=\"http://purl.org/dc/dcmitype/StillImage\"/>\n    <dc:date>2021-09-07T16:06:49.697822</dc:date>\n    <dc:format>image/svg+xml</dc:format>\n    <dc:creator>\n     <cc:Agent>\n      <dc:title>Matplotlib v3.4.2, https://matplotlib.org/</dc:title>\n     </cc:Agent>\n    </dc:creator>\n   </cc:Work>\n  </rdf:RDF>\n </metadata>\n <defs>\n  <style type=\"text/css\">*{stroke-linecap:butt;stroke-linejoin:round;}</style>\n </defs>\n <g id=\"figure_1\">\n  <g id=\"patch_1\">\n   <path d=\"M 0 265.053594 \nL 382.603125 265.053594 \nL 382.603125 0 \nL 0 0 \nz\n\" style=\"fill:none;\"/>\n  </g>\n  <g id=\"axes_1\">\n   <g id=\"patch_2\">\n    <path d=\"M 40.603125 227.497344 \nL 375.403125 227.497344 \nL 375.403125 10.057344 \nL 40.603125 10.057344 \nz\n\" style=\"fill:#ffffff;\"/>\n   </g>\n   <g id=\"matplotlib.axis_1\">\n    <g id=\"xtick_1\">\n     <g id=\"line2d_1\">\n      <defs>\n       <path d=\"M 0 0 \nL 0 3.5 \n\" id=\"m6232d91bd6\" style=\"stroke:#000000;stroke-width:0.8;\"/>\n      </defs>\n      <g>\n       <use style=\"stroke:#000000;stroke-width:0.8;\" x=\"76.112216\" xlink:href=\"#m6232d91bd6\" y=\"227.497344\"/>\n      </g>\n     </g>\n     <g id=\"text_1\">\n      <!-- 0.6 -->\n      <g transform=\"translate(68.160653 242.095781)scale(0.1 -0.1)\">\n       <defs>\n        <path d=\"M 2034 4250 \nQ 1547 4250 1301 3770 \nQ 1056 3291 1056 2328 \nQ 1056 1369 1301 889 \nQ 1547 409 2034 409 \nQ 2525 409 2770 889 \nQ 3016 1369 3016 2328 \nQ 3016 3291 2770 3770 \nQ 2525 4250 2034 4250 \nz\nM 2034 4750 \nQ 2819 4750 3233 4129 \nQ 3647 3509 3647 2328 \nQ 3647 1150 3233 529 \nQ 2819 -91 2034 -91 \nQ 1250 -91 836 529 \nQ 422 1150 422 2328 \nQ 422 3509 836 4129 \nQ 1250 4750 2034 4750 \nz\n\" id=\"DejaVuSans-30\" transform=\"scale(0.015625)\"/>\n        <path d=\"M 684 794 \nL 1344 794 \nL 1344 0 \nL 684 0 \nL 684 794 \nz\n\" id=\"DejaVuSans-2e\" transform=\"scale(0.015625)\"/>\n        <path d=\"M 2113 2584 \nQ 1688 2584 1439 2293 \nQ 1191 2003 1191 1497 \nQ 1191 994 1439 701 \nQ 1688 409 2113 409 \nQ 2538 409 2786 701 \nQ 3034 994 3034 1497 \nQ 3034 2003 2786 2293 \nQ 2538 2584 2113 2584 \nz\nM 3366 4563 \nL 3366 3988 \nQ 3128 4100 2886 4159 \nQ 2644 4219 2406 4219 \nQ 1781 4219 1451 3797 \nQ 1122 3375 1075 2522 \nQ 1259 2794 1537 2939 \nQ 1816 3084 2150 3084 \nQ 2853 3084 3261 2657 \nQ 3669 2231 3669 1497 \nQ 3669 778 3244 343 \nQ 2819 -91 2113 -91 \nQ 1303 -91 875 529 \nQ 447 1150 447 2328 \nQ 447 3434 972 4092 \nQ 1497 4750 2381 4750 \nQ 2619 4750 2861 4703 \nQ 3103 4656 3366 4563 \nz\n\" id=\"DejaVuSans-36\" transform=\"scale(0.015625)\"/>\n       </defs>\n       <use xlink:href=\"#DejaVuSans-30\"/>\n       <use x=\"63.623047\" xlink:href=\"#DejaVuSans-2e\"/>\n       <use x=\"95.410156\" xlink:href=\"#DejaVuSans-36\"/>\n      </g>\n     </g>\n    </g>\n    <g id=\"xtick_2\">\n     <g id=\"line2d_2\">\n      <g>\n       <use style=\"stroke:#000000;stroke-width:0.8;\" x=\"116.694034\" xlink:href=\"#m6232d91bd6\" y=\"227.497344\"/>\n      </g>\n     </g>\n     <g id=\"text_2\">\n      <!-- 0.8 -->\n      <g transform=\"translate(108.742472 242.095781)scale(0.1 -0.1)\">\n       <defs>\n        <path d=\"M 2034 2216 \nQ 1584 2216 1326 1975 \nQ 1069 1734 1069 1313 \nQ 1069 891 1326 650 \nQ 1584 409 2034 409 \nQ 2484 409 2743 651 \nQ 3003 894 3003 1313 \nQ 3003 1734 2745 1975 \nQ 2488 2216 2034 2216 \nz\nM 1403 2484 \nQ 997 2584 770 2862 \nQ 544 3141 544 3541 \nQ 544 4100 942 4425 \nQ 1341 4750 2034 4750 \nQ 2731 4750 3128 4425 \nQ 3525 4100 3525 3541 \nQ 3525 3141 3298 2862 \nQ 3072 2584 2669 2484 \nQ 3125 2378 3379 2068 \nQ 3634 1759 3634 1313 \nQ 3634 634 3220 271 \nQ 2806 -91 2034 -91 \nQ 1263 -91 848 271 \nQ 434 634 434 1313 \nQ 434 1759 690 2068 \nQ 947 2378 1403 2484 \nz\nM 1172 3481 \nQ 1172 3119 1398 2916 \nQ 1625 2713 2034 2713 \nQ 2441 2713 2670 2916 \nQ 2900 3119 2900 3481 \nQ 2900 3844 2670 4047 \nQ 2441 4250 2034 4250 \nQ 1625 4250 1398 4047 \nQ 1172 3844 1172 3481 \nz\n\" id=\"DejaVuSans-38\" transform=\"scale(0.015625)\"/>\n       </defs>\n       <use xlink:href=\"#DejaVuSans-30\"/>\n       <use x=\"63.623047\" xlink:href=\"#DejaVuSans-2e\"/>\n       <use x=\"95.410156\" xlink:href=\"#DejaVuSans-38\"/>\n      </g>\n     </g>\n    </g>\n    <g id=\"xtick_3\">\n     <g id=\"line2d_3\">\n      <g>\n       <use style=\"stroke:#000000;stroke-width:0.8;\" x=\"157.275852\" xlink:href=\"#m6232d91bd6\" y=\"227.497344\"/>\n      </g>\n     </g>\n     <g id=\"text_3\">\n      <!-- 1.0 -->\n      <g transform=\"translate(149.32429 242.095781)scale(0.1 -0.1)\">\n       <defs>\n        <path d=\"M 794 531 \nL 1825 531 \nL 1825 4091 \nL 703 3866 \nL 703 4441 \nL 1819 4666 \nL 2450 4666 \nL 2450 531 \nL 3481 531 \nL 3481 0 \nL 794 0 \nL 794 531 \nz\n\" id=\"DejaVuSans-31\" transform=\"scale(0.015625)\"/>\n       </defs>\n       <use xlink:href=\"#DejaVuSans-31\"/>\n       <use x=\"63.623047\" xlink:href=\"#DejaVuSans-2e\"/>\n       <use x=\"95.410156\" xlink:href=\"#DejaVuSans-30\"/>\n      </g>\n     </g>\n    </g>\n    <g id=\"xtick_4\">\n     <g id=\"line2d_4\">\n      <g>\n       <use style=\"stroke:#000000;stroke-width:0.8;\" x=\"197.85767\" xlink:href=\"#m6232d91bd6\" y=\"227.497344\"/>\n      </g>\n     </g>\n     <g id=\"text_4\">\n      <!-- 1.2 -->\n      <g transform=\"translate(189.906108 242.095781)scale(0.1 -0.1)\">\n       <defs>\n        <path d=\"M 1228 531 \nL 3431 531 \nL 3431 0 \nL 469 0 \nL 469 531 \nQ 828 903 1448 1529 \nQ 2069 2156 2228 2338 \nQ 2531 2678 2651 2914 \nQ 2772 3150 2772 3378 \nQ 2772 3750 2511 3984 \nQ 2250 4219 1831 4219 \nQ 1534 4219 1204 4116 \nQ 875 4013 500 3803 \nL 500 4441 \nQ 881 4594 1212 4672 \nQ 1544 4750 1819 4750 \nQ 2544 4750 2975 4387 \nQ 3406 4025 3406 3419 \nQ 3406 3131 3298 2873 \nQ 3191 2616 2906 2266 \nQ 2828 2175 2409 1742 \nQ 1991 1309 1228 531 \nz\n\" id=\"DejaVuSans-32\" transform=\"scale(0.015625)\"/>\n       </defs>\n       <use xlink:href=\"#DejaVuSans-31\"/>\n       <use x=\"63.623047\" xlink:href=\"#DejaVuSans-2e\"/>\n       <use x=\"95.410156\" xlink:href=\"#DejaVuSans-32\"/>\n      </g>\n     </g>\n    </g>\n    <g id=\"xtick_5\">\n     <g id=\"line2d_5\">\n      <g>\n       <use style=\"stroke:#000000;stroke-width:0.8;\" x=\"238.439489\" xlink:href=\"#m6232d91bd6\" y=\"227.497344\"/>\n      </g>\n     </g>\n     <g id=\"text_5\">\n      <!-- 1.4 -->\n      <g transform=\"translate(230.487926 242.095781)scale(0.1 -0.1)\">\n       <defs>\n        <path d=\"M 2419 4116 \nL 825 1625 \nL 2419 1625 \nL 2419 4116 \nz\nM 2253 4666 \nL 3047 4666 \nL 3047 1625 \nL 3713 1625 \nL 3713 1100 \nL 3047 1100 \nL 3047 0 \nL 2419 0 \nL 2419 1100 \nL 313 1100 \nL 313 1709 \nL 2253 4666 \nz\n\" id=\"DejaVuSans-34\" transform=\"scale(0.015625)\"/>\n       </defs>\n       <use xlink:href=\"#DejaVuSans-31\"/>\n       <use x=\"63.623047\" xlink:href=\"#DejaVuSans-2e\"/>\n       <use x=\"95.410156\" xlink:href=\"#DejaVuSans-34\"/>\n      </g>\n     </g>\n    </g>\n    <g id=\"xtick_6\">\n     <g id=\"line2d_6\">\n      <g>\n       <use style=\"stroke:#000000;stroke-width:0.8;\" x=\"279.021307\" xlink:href=\"#m6232d91bd6\" y=\"227.497344\"/>\n      </g>\n     </g>\n     <g id=\"text_6\">\n      <!-- 1.6 -->\n      <g transform=\"translate(271.069744 242.095781)scale(0.1 -0.1)\">\n       <use xlink:href=\"#DejaVuSans-31\"/>\n       <use x=\"63.623047\" xlink:href=\"#DejaVuSans-2e\"/>\n       <use x=\"95.410156\" xlink:href=\"#DejaVuSans-36\"/>\n      </g>\n     </g>\n    </g>\n    <g id=\"xtick_7\">\n     <g id=\"line2d_7\">\n      <g>\n       <use style=\"stroke:#000000;stroke-width:0.8;\" x=\"319.603125\" xlink:href=\"#m6232d91bd6\" y=\"227.497344\"/>\n      </g>\n     </g>\n     <g id=\"text_7\">\n      <!-- 1.8 -->\n      <g transform=\"translate(311.651563 242.095781)scale(0.1 -0.1)\">\n       <use xlink:href=\"#DejaVuSans-31\"/>\n       <use x=\"63.623047\" xlink:href=\"#DejaVuSans-2e\"/>\n       <use x=\"95.410156\" xlink:href=\"#DejaVuSans-38\"/>\n      </g>\n     </g>\n    </g>\n    <g id=\"xtick_8\">\n     <g id=\"line2d_8\">\n      <g>\n       <use style=\"stroke:#000000;stroke-width:0.8;\" x=\"360.184943\" xlink:href=\"#m6232d91bd6\" y=\"227.497344\"/>\n      </g>\n     </g>\n     <g id=\"text_8\">\n      <!-- 2.0 -->\n      <g transform=\"translate(352.233381 242.095781)scale(0.1 -0.1)\">\n       <use xlink:href=\"#DejaVuSans-32\"/>\n       <use x=\"63.623047\" xlink:href=\"#DejaVuSans-2e\"/>\n       <use x=\"95.410156\" xlink:href=\"#DejaVuSans-30\"/>\n      </g>\n     </g>\n    </g>\n    <g id=\"xtick_9\">\n     <g id=\"line2d_9\">\n      <defs>\n       <path d=\"M 0 0 \nL 0 2 \n\" id=\"mb89a8fec0f\" style=\"stroke:#000000;stroke-width:0.6;\"/>\n      </defs>\n      <g>\n       <use style=\"stroke:#000000;stroke-width:0.6;\" x=\"45.675852\" xlink:href=\"#mb89a8fec0f\" y=\"227.497344\"/>\n      </g>\n     </g>\n    </g>\n    <g id=\"xtick_10\">\n     <g id=\"line2d_10\">\n      <g>\n       <use style=\"stroke:#000000;stroke-width:0.6;\" x=\"55.821307\" xlink:href=\"#mb89a8fec0f\" y=\"227.497344\"/>\n      </g>\n     </g>\n    </g>\n    <g id=\"xtick_11\">\n     <g id=\"line2d_11\">\n      <g>\n       <use style=\"stroke:#000000;stroke-width:0.6;\" x=\"65.966761\" xlink:href=\"#mb89a8fec0f\" y=\"227.497344\"/>\n      </g>\n     </g>\n    </g>\n    <g id=\"xtick_12\">\n     <g id=\"line2d_12\">\n      <g>\n       <use style=\"stroke:#000000;stroke-width:0.6;\" x=\"86.25767\" xlink:href=\"#mb89a8fec0f\" y=\"227.497344\"/>\n      </g>\n     </g>\n    </g>\n    <g id=\"xtick_13\">\n     <g id=\"line2d_13\">\n      <g>\n       <use style=\"stroke:#000000;stroke-width:0.6;\" x=\"96.403125\" xlink:href=\"#mb89a8fec0f\" y=\"227.497344\"/>\n      </g>\n     </g>\n    </g>\n    <g id=\"xtick_14\">\n     <g id=\"line2d_14\">\n      <g>\n       <use style=\"stroke:#000000;stroke-width:0.6;\" x=\"106.54858\" xlink:href=\"#mb89a8fec0f\" y=\"227.497344\"/>\n      </g>\n     </g>\n    </g>\n    <g id=\"xtick_15\">\n     <g id=\"line2d_15\">\n      <g>\n       <use style=\"stroke:#000000;stroke-width:0.6;\" x=\"126.839489\" xlink:href=\"#mb89a8fec0f\" y=\"227.497344\"/>\n      </g>\n     </g>\n    </g>\n    <g id=\"xtick_16\">\n     <g id=\"line2d_16\">\n      <g>\n       <use style=\"stroke:#000000;stroke-width:0.6;\" x=\"136.984943\" xlink:href=\"#mb89a8fec0f\" y=\"227.497344\"/>\n      </g>\n     </g>\n    </g>\n    <g id=\"xtick_17\">\n     <g id=\"line2d_17\">\n      <g>\n       <use style=\"stroke:#000000;stroke-width:0.6;\" x=\"147.130398\" xlink:href=\"#mb89a8fec0f\" y=\"227.497344\"/>\n      </g>\n     </g>\n    </g>\n    <g id=\"xtick_18\">\n     <g id=\"line2d_18\">\n      <g>\n       <use style=\"stroke:#000000;stroke-width:0.6;\" x=\"167.421307\" xlink:href=\"#mb89a8fec0f\" y=\"227.497344\"/>\n      </g>\n     </g>\n    </g>\n    <g id=\"xtick_19\">\n     <g id=\"line2d_19\">\n      <g>\n       <use style=\"stroke:#000000;stroke-width:0.6;\" x=\"177.566761\" xlink:href=\"#mb89a8fec0f\" y=\"227.497344\"/>\n      </g>\n     </g>\n    </g>\n    <g id=\"xtick_20\">\n     <g id=\"line2d_20\">\n      <g>\n       <use style=\"stroke:#000000;stroke-width:0.6;\" x=\"187.712216\" xlink:href=\"#mb89a8fec0f\" y=\"227.497344\"/>\n      </g>\n     </g>\n    </g>\n    <g id=\"xtick_21\">\n     <g id=\"line2d_21\">\n      <g>\n       <use style=\"stroke:#000000;stroke-width:0.6;\" x=\"208.003125\" xlink:href=\"#mb89a8fec0f\" y=\"227.497344\"/>\n      </g>\n     </g>\n    </g>\n    <g id=\"xtick_22\">\n     <g id=\"line2d_22\">\n      <g>\n       <use style=\"stroke:#000000;stroke-width:0.6;\" x=\"218.14858\" xlink:href=\"#mb89a8fec0f\" y=\"227.497344\"/>\n      </g>\n     </g>\n    </g>\n    <g id=\"xtick_23\">\n     <g id=\"line2d_23\">\n      <g>\n       <use style=\"stroke:#000000;stroke-width:0.6;\" x=\"228.294034\" xlink:href=\"#mb89a8fec0f\" y=\"227.497344\"/>\n      </g>\n     </g>\n    </g>\n    <g id=\"xtick_24\">\n     <g id=\"line2d_24\">\n      <g>\n       <use style=\"stroke:#000000;stroke-width:0.6;\" x=\"248.584943\" xlink:href=\"#mb89a8fec0f\" y=\"227.497344\"/>\n      </g>\n     </g>\n    </g>\n    <g id=\"xtick_25\">\n     <g id=\"line2d_25\">\n      <g>\n       <use style=\"stroke:#000000;stroke-width:0.6;\" x=\"258.730398\" xlink:href=\"#mb89a8fec0f\" y=\"227.497344\"/>\n      </g>\n     </g>\n    </g>\n    <g id=\"xtick_26\">\n     <g id=\"line2d_26\">\n      <g>\n       <use style=\"stroke:#000000;stroke-width:0.6;\" x=\"268.875852\" xlink:href=\"#mb89a8fec0f\" y=\"227.497344\"/>\n      </g>\n     </g>\n    </g>\n    <g id=\"xtick_27\">\n     <g id=\"line2d_27\">\n      <g>\n       <use style=\"stroke:#000000;stroke-width:0.6;\" x=\"289.166761\" xlink:href=\"#mb89a8fec0f\" y=\"227.497344\"/>\n      </g>\n     </g>\n    </g>\n    <g id=\"xtick_28\">\n     <g id=\"line2d_28\">\n      <g>\n       <use style=\"stroke:#000000;stroke-width:0.6;\" x=\"299.312216\" xlink:href=\"#mb89a8fec0f\" y=\"227.497344\"/>\n      </g>\n     </g>\n    </g>\n    <g id=\"xtick_29\">\n     <g id=\"line2d_29\">\n      <g>\n       <use style=\"stroke:#000000;stroke-width:0.6;\" x=\"309.45767\" xlink:href=\"#mb89a8fec0f\" y=\"227.497344\"/>\n      </g>\n     </g>\n    </g>\n    <g id=\"xtick_30\">\n     <g id=\"line2d_30\">\n      <g>\n       <use style=\"stroke:#000000;stroke-width:0.6;\" x=\"329.74858\" xlink:href=\"#mb89a8fec0f\" y=\"227.497344\"/>\n      </g>\n     </g>\n    </g>\n    <g id=\"xtick_31\">\n     <g id=\"line2d_31\">\n      <g>\n       <use style=\"stroke:#000000;stroke-width:0.6;\" x=\"339.894034\" xlink:href=\"#mb89a8fec0f\" y=\"227.497344\"/>\n      </g>\n     </g>\n    </g>\n    <g id=\"xtick_32\">\n     <g id=\"line2d_32\">\n      <g>\n       <use style=\"stroke:#000000;stroke-width:0.6;\" x=\"350.039489\" xlink:href=\"#mb89a8fec0f\" y=\"227.497344\"/>\n      </g>\n     </g>\n    </g>\n    <g id=\"xtick_33\">\n     <g id=\"line2d_33\">\n      <g>\n       <use style=\"stroke:#000000;stroke-width:0.6;\" x=\"370.330398\" xlink:href=\"#mb89a8fec0f\" y=\"227.497344\"/>\n      </g>\n     </g>\n    </g>\n    <g id=\"text_9\">\n     <!-- Delta -->\n     <g transform=\"translate(194.663281 255.773906)scale(0.1 -0.1)\">\n      <defs>\n       <path d=\"M 1259 4147 \nL 1259 519 \nL 2022 519 \nQ 2988 519 3436 956 \nQ 3884 1394 3884 2338 \nQ 3884 3275 3436 3711 \nQ 2988 4147 2022 4147 \nL 1259 4147 \nz\nM 628 4666 \nL 1925 4666 \nQ 3281 4666 3915 4102 \nQ 4550 3538 4550 2338 \nQ 4550 1131 3912 565 \nQ 3275 0 1925 0 \nL 628 0 \nL 628 4666 \nz\n\" id=\"DejaVuSans-44\" transform=\"scale(0.015625)\"/>\n       <path d=\"M 3597 1894 \nL 3597 1613 \nL 953 1613 \nQ 991 1019 1311 708 \nQ 1631 397 2203 397 \nQ 2534 397 2845 478 \nQ 3156 559 3463 722 \nL 3463 178 \nQ 3153 47 2828 -22 \nQ 2503 -91 2169 -91 \nQ 1331 -91 842 396 \nQ 353 884 353 1716 \nQ 353 2575 817 3079 \nQ 1281 3584 2069 3584 \nQ 2775 3584 3186 3129 \nQ 3597 2675 3597 1894 \nz\nM 3022 2063 \nQ 3016 2534 2758 2815 \nQ 2500 3097 2075 3097 \nQ 1594 3097 1305 2825 \nQ 1016 2553 972 2059 \nL 3022 2063 \nz\n\" id=\"DejaVuSans-65\" transform=\"scale(0.015625)\"/>\n       <path d=\"M 603 4863 \nL 1178 4863 \nL 1178 0 \nL 603 0 \nL 603 4863 \nz\n\" id=\"DejaVuSans-6c\" transform=\"scale(0.015625)\"/>\n       <path d=\"M 1172 4494 \nL 1172 3500 \nL 2356 3500 \nL 2356 3053 \nL 1172 3053 \nL 1172 1153 \nQ 1172 725 1289 603 \nQ 1406 481 1766 481 \nL 2356 481 \nL 2356 0 \nL 1766 0 \nQ 1100 0 847 248 \nQ 594 497 594 1153 \nL 594 3053 \nL 172 3053 \nL 172 3500 \nL 594 3500 \nL 594 4494 \nL 1172 4494 \nz\n\" id=\"DejaVuSans-74\" transform=\"scale(0.015625)\"/>\n       <path d=\"M 2194 1759 \nQ 1497 1759 1228 1600 \nQ 959 1441 959 1056 \nQ 959 750 1161 570 \nQ 1363 391 1709 391 \nQ 2188 391 2477 730 \nQ 2766 1069 2766 1631 \nL 2766 1759 \nL 2194 1759 \nz\nM 3341 1997 \nL 3341 0 \nL 2766 0 \nL 2766 531 \nQ 2569 213 2275 61 \nQ 1981 -91 1556 -91 \nQ 1019 -91 701 211 \nQ 384 513 384 1019 \nQ 384 1609 779 1909 \nQ 1175 2209 1959 2209 \nL 2766 2209 \nL 2766 2266 \nQ 2766 2663 2505 2880 \nQ 2244 3097 1772 3097 \nQ 1472 3097 1187 3025 \nQ 903 2953 641 2809 \nL 641 3341 \nQ 956 3463 1253 3523 \nQ 1550 3584 1831 3584 \nQ 2591 3584 2966 3190 \nQ 3341 2797 3341 1997 \nz\n\" id=\"DejaVuSans-61\" transform=\"scale(0.015625)\"/>\n      </defs>\n      <use xlink:href=\"#DejaVuSans-44\"/>\n      <use x=\"77.001953\" xlink:href=\"#DejaVuSans-65\"/>\n      <use x=\"138.525391\" xlink:href=\"#DejaVuSans-6c\"/>\n      <use x=\"166.308594\" xlink:href=\"#DejaVuSans-74\"/>\n      <use x=\"205.517578\" xlink:href=\"#DejaVuSans-61\"/>\n     </g>\n    </g>\n   </g>\n   <g id=\"matplotlib.axis_2\">\n    <g id=\"ytick_1\">\n     <g id=\"line2d_34\">\n      <defs>\n       <path d=\"M 0 0 \nL -3.5 0 \n\" id=\"m09355f8d7f\" style=\"stroke:#000000;stroke-width:0.8;\"/>\n      </defs>\n      <g>\n       <use style=\"stroke:#000000;stroke-width:0.8;\" x=\"40.603125\" xlink:href=\"#m09355f8d7f\" y=\"212.573117\"/>\n      </g>\n     </g>\n     <g id=\"text_10\">\n      <!-- 15 -->\n      <g transform=\"translate(20.878125 216.372336)scale(0.1 -0.1)\">\n       <defs>\n        <path d=\"M 691 4666 \nL 3169 4666 \nL 3169 4134 \nL 1269 4134 \nL 1269 2991 \nQ 1406 3038 1543 3061 \nQ 1681 3084 1819 3084 \nQ 2600 3084 3056 2656 \nQ 3513 2228 3513 1497 \nQ 3513 744 3044 326 \nQ 2575 -91 1722 -91 \nQ 1428 -91 1123 -41 \nQ 819 9 494 109 \nL 494 744 \nQ 775 591 1075 516 \nQ 1375 441 1709 441 \nQ 2250 441 2565 725 \nQ 2881 1009 2881 1497 \nQ 2881 1984 2565 2268 \nQ 2250 2553 1709 2553 \nQ 1456 2553 1204 2497 \nQ 953 2441 691 2322 \nL 691 4666 \nz\n\" id=\"DejaVuSans-35\" transform=\"scale(0.015625)\"/>\n       </defs>\n       <use xlink:href=\"#DejaVuSans-31\"/>\n       <use x=\"63.623047\" xlink:href=\"#DejaVuSans-35\"/>\n      </g>\n     </g>\n    </g>\n    <g id=\"ytick_2\">\n     <g id=\"line2d_35\">\n      <g>\n       <use style=\"stroke:#000000;stroke-width:0.8;\" x=\"40.603125\" xlink:href=\"#m09355f8d7f\" y=\"174.448509\"/>\n      </g>\n     </g>\n     <g id=\"text_11\">\n      <!-- 20 -->\n      <g transform=\"translate(20.878125 178.247728)scale(0.1 -0.1)\">\n       <use xlink:href=\"#DejaVuSans-32\"/>\n       <use x=\"63.623047\" xlink:href=\"#DejaVuSans-30\"/>\n      </g>\n     </g>\n    </g>\n    <g id=\"ytick_3\">\n     <g id=\"line2d_36\">\n      <g>\n       <use style=\"stroke:#000000;stroke-width:0.8;\" x=\"40.603125\" xlink:href=\"#m09355f8d7f\" y=\"136.323901\"/>\n      </g>\n     </g>\n     <g id=\"text_12\">\n      <!-- 25 -->\n      <g transform=\"translate(20.878125 140.12312)scale(0.1 -0.1)\">\n       <use xlink:href=\"#DejaVuSans-32\"/>\n       <use x=\"63.623047\" xlink:href=\"#DejaVuSans-35\"/>\n      </g>\n     </g>\n    </g>\n    <g id=\"ytick_4\">\n     <g id=\"line2d_37\">\n      <g>\n       <use style=\"stroke:#000000;stroke-width:0.8;\" x=\"40.603125\" xlink:href=\"#m09355f8d7f\" y=\"98.199294\"/>\n      </g>\n     </g>\n     <g id=\"text_13\">\n      <!-- 30 -->\n      <g transform=\"translate(20.878125 101.998512)scale(0.1 -0.1)\">\n       <defs>\n        <path d=\"M 2597 2516 \nQ 3050 2419 3304 2112 \nQ 3559 1806 3559 1356 \nQ 3559 666 3084 287 \nQ 2609 -91 1734 -91 \nQ 1441 -91 1130 -33 \nQ 819 25 488 141 \nL 488 750 \nQ 750 597 1062 519 \nQ 1375 441 1716 441 \nQ 2309 441 2620 675 \nQ 2931 909 2931 1356 \nQ 2931 1769 2642 2001 \nQ 2353 2234 1838 2234 \nL 1294 2234 \nL 1294 2753 \nL 1863 2753 \nQ 2328 2753 2575 2939 \nQ 2822 3125 2822 3475 \nQ 2822 3834 2567 4026 \nQ 2313 4219 1838 4219 \nQ 1578 4219 1281 4162 \nQ 984 4106 628 3988 \nL 628 4550 \nQ 988 4650 1302 4700 \nQ 1616 4750 1894 4750 \nQ 2613 4750 3031 4423 \nQ 3450 4097 3450 3541 \nQ 3450 3153 3228 2886 \nQ 3006 2619 2597 2516 \nz\n\" id=\"DejaVuSans-33\" transform=\"scale(0.015625)\"/>\n       </defs>\n       <use xlink:href=\"#DejaVuSans-33\"/>\n       <use x=\"63.623047\" xlink:href=\"#DejaVuSans-30\"/>\n      </g>\n     </g>\n    </g>\n    <g id=\"ytick_5\">\n     <g id=\"line2d_38\">\n      <g>\n       <use style=\"stroke:#000000;stroke-width:0.8;\" x=\"40.603125\" xlink:href=\"#m09355f8d7f\" y=\"60.074686\"/>\n      </g>\n     </g>\n     <g id=\"text_14\">\n      <!-- 35 -->\n      <g transform=\"translate(20.878125 63.873904)scale(0.1 -0.1)\">\n       <use xlink:href=\"#DejaVuSans-33\"/>\n       <use x=\"63.623047\" xlink:href=\"#DejaVuSans-35\"/>\n      </g>\n     </g>\n    </g>\n    <g id=\"ytick_6\">\n     <g id=\"line2d_39\">\n      <g>\n       <use style=\"stroke:#000000;stroke-width:0.8;\" x=\"40.603125\" xlink:href=\"#m09355f8d7f\" y=\"21.950078\"/>\n      </g>\n     </g>\n     <g id=\"text_15\">\n      <!-- 40 -->\n      <g transform=\"translate(20.878125 25.749296)scale(0.1 -0.1)\">\n       <use xlink:href=\"#DejaVuSans-34\"/>\n       <use x=\"63.623047\" xlink:href=\"#DejaVuSans-30\"/>\n      </g>\n     </g>\n    </g>\n    <g id=\"ytick_7\">\n     <g id=\"line2d_40\">\n      <defs>\n       <path d=\"M 0 0 \nL -2 0 \n\" id=\"m10dc61d5f0\" style=\"stroke:#000000;stroke-width:0.6;\"/>\n      </defs>\n      <g>\n       <use style=\"stroke:#000000;stroke-width:0.6;\" x=\"40.603125\" xlink:href=\"#m10dc61d5f0\" y=\"220.198039\"/>\n      </g>\n     </g>\n    </g>\n    <g id=\"ytick_8\">\n     <g id=\"line2d_41\">\n      <g>\n       <use style=\"stroke:#000000;stroke-width:0.6;\" x=\"40.603125\" xlink:href=\"#m10dc61d5f0\" y=\"204.948196\"/>\n      </g>\n     </g>\n    </g>\n    <g id=\"ytick_9\">\n     <g id=\"line2d_42\">\n      <g>\n       <use style=\"stroke:#000000;stroke-width:0.6;\" x=\"40.603125\" xlink:href=\"#m10dc61d5f0\" y=\"197.323274\"/>\n      </g>\n     </g>\n    </g>\n    <g id=\"ytick_10\">\n     <g id=\"line2d_43\">\n      <g>\n       <use style=\"stroke:#000000;stroke-width:0.6;\" x=\"40.603125\" xlink:href=\"#m10dc61d5f0\" y=\"189.698353\"/>\n      </g>\n     </g>\n    </g>\n    <g id=\"ytick_11\">\n     <g id=\"line2d_44\">\n      <g>\n       <use style=\"stroke:#000000;stroke-width:0.6;\" x=\"40.603125\" xlink:href=\"#m10dc61d5f0\" y=\"182.073431\"/>\n      </g>\n     </g>\n    </g>\n    <g id=\"ytick_12\">\n     <g id=\"line2d_45\">\n      <g>\n       <use style=\"stroke:#000000;stroke-width:0.6;\" x=\"40.603125\" xlink:href=\"#m10dc61d5f0\" y=\"166.823588\"/>\n      </g>\n     </g>\n    </g>\n    <g id=\"ytick_13\">\n     <g id=\"line2d_46\">\n      <g>\n       <use style=\"stroke:#000000;stroke-width:0.6;\" x=\"40.603125\" xlink:href=\"#m10dc61d5f0\" y=\"159.198666\"/>\n      </g>\n     </g>\n    </g>\n    <g id=\"ytick_14\">\n     <g id=\"line2d_47\">\n      <g>\n       <use style=\"stroke:#000000;stroke-width:0.6;\" x=\"40.603125\" xlink:href=\"#m10dc61d5f0\" y=\"151.573745\"/>\n      </g>\n     </g>\n    </g>\n    <g id=\"ytick_15\">\n     <g id=\"line2d_48\">\n      <g>\n       <use style=\"stroke:#000000;stroke-width:0.6;\" x=\"40.603125\" xlink:href=\"#m10dc61d5f0\" y=\"143.948823\"/>\n      </g>\n     </g>\n    </g>\n    <g id=\"ytick_16\">\n     <g id=\"line2d_49\">\n      <g>\n       <use style=\"stroke:#000000;stroke-width:0.6;\" x=\"40.603125\" xlink:href=\"#m10dc61d5f0\" y=\"128.69898\"/>\n      </g>\n     </g>\n    </g>\n    <g id=\"ytick_17\">\n     <g id=\"line2d_50\">\n      <g>\n       <use style=\"stroke:#000000;stroke-width:0.6;\" x=\"40.603125\" xlink:href=\"#m10dc61d5f0\" y=\"121.074058\"/>\n      </g>\n     </g>\n    </g>\n    <g id=\"ytick_18\">\n     <g id=\"line2d_51\">\n      <g>\n       <use style=\"stroke:#000000;stroke-width:0.6;\" x=\"40.603125\" xlink:href=\"#m10dc61d5f0\" y=\"113.449137\"/>\n      </g>\n     </g>\n    </g>\n    <g id=\"ytick_19\">\n     <g id=\"line2d_52\">\n      <g>\n       <use style=\"stroke:#000000;stroke-width:0.6;\" x=\"40.603125\" xlink:href=\"#m10dc61d5f0\" y=\"105.824215\"/>\n      </g>\n     </g>\n    </g>\n    <g id=\"ytick_20\">\n     <g id=\"line2d_53\">\n      <g>\n       <use style=\"stroke:#000000;stroke-width:0.6;\" x=\"40.603125\" xlink:href=\"#m10dc61d5f0\" y=\"90.574372\"/>\n      </g>\n     </g>\n    </g>\n    <g id=\"ytick_21\">\n     <g id=\"line2d_54\">\n      <g>\n       <use style=\"stroke:#000000;stroke-width:0.6;\" x=\"40.603125\" xlink:href=\"#m10dc61d5f0\" y=\"82.94945\"/>\n      </g>\n     </g>\n    </g>\n    <g id=\"ytick_22\">\n     <g id=\"line2d_55\">\n      <g>\n       <use style=\"stroke:#000000;stroke-width:0.6;\" x=\"40.603125\" xlink:href=\"#m10dc61d5f0\" y=\"75.324529\"/>\n      </g>\n     </g>\n    </g>\n    <g id=\"ytick_23\">\n     <g id=\"line2d_56\">\n      <g>\n       <use style=\"stroke:#000000;stroke-width:0.6;\" x=\"40.603125\" xlink:href=\"#m10dc61d5f0\" y=\"67.699607\"/>\n      </g>\n     </g>\n    </g>\n    <g id=\"ytick_24\">\n     <g id=\"line2d_57\">\n      <g>\n       <use style=\"stroke:#000000;stroke-width:0.6;\" x=\"40.603125\" xlink:href=\"#m10dc61d5f0\" y=\"52.449764\"/>\n      </g>\n     </g>\n    </g>\n    <g id=\"ytick_25\">\n     <g id=\"line2d_58\">\n      <g>\n       <use style=\"stroke:#000000;stroke-width:0.6;\" x=\"40.603125\" xlink:href=\"#m10dc61d5f0\" y=\"44.824842\"/>\n      </g>\n     </g>\n    </g>\n    <g id=\"ytick_26\">\n     <g id=\"line2d_59\">\n      <g>\n       <use style=\"stroke:#000000;stroke-width:0.6;\" x=\"40.603125\" xlink:href=\"#m10dc61d5f0\" y=\"37.199921\"/>\n      </g>\n     </g>\n    </g>\n    <g id=\"ytick_27\">\n     <g id=\"line2d_60\">\n      <g>\n       <use style=\"stroke:#000000;stroke-width:0.6;\" x=\"40.603125\" xlink:href=\"#m10dc61d5f0\" y=\"29.574999\"/>\n      </g>\n     </g>\n    </g>\n    <g id=\"ytick_28\">\n     <g id=\"line2d_61\">\n      <g>\n       <use style=\"stroke:#000000;stroke-width:0.6;\" x=\"40.603125\" xlink:href=\"#m10dc61d5f0\" y=\"14.325156\"/>\n      </g>\n     </g>\n    </g>\n    <g id=\"text_16\">\n     <!-- Mean Estimated Hours Until Weaning Begins -->\n     <g transform=\"translate(14.798438 230.354688)rotate(-90)scale(0.1 -0.1)\">\n      <defs>\n       <path d=\"M 628 4666 \nL 1569 4666 \nL 2759 1491 \nL 3956 4666 \nL 4897 4666 \nL 4897 0 \nL 4281 0 \nL 4281 4097 \nL 3078 897 \nL 2444 897 \nL 1241 4097 \nL 1241 0 \nL 628 0 \nL 628 4666 \nz\n\" id=\"DejaVuSans-4d\" transform=\"scale(0.015625)\"/>\n       <path d=\"M 3513 2113 \nL 3513 0 \nL 2938 0 \nL 2938 2094 \nQ 2938 2591 2744 2837 \nQ 2550 3084 2163 3084 \nQ 1697 3084 1428 2787 \nQ 1159 2491 1159 1978 \nL 1159 0 \nL 581 0 \nL 581 3500 \nL 1159 3500 \nL 1159 2956 \nQ 1366 3272 1645 3428 \nQ 1925 3584 2291 3584 \nQ 2894 3584 3203 3211 \nQ 3513 2838 3513 2113 \nz\n\" id=\"DejaVuSans-6e\" transform=\"scale(0.015625)\"/>\n       <path id=\"DejaVuSans-20\" transform=\"scale(0.015625)\"/>\n       <path d=\"M 628 4666 \nL 3578 4666 \nL 3578 4134 \nL 1259 4134 \nL 1259 2753 \nL 3481 2753 \nL 3481 2222 \nL 1259 2222 \nL 1259 531 \nL 3634 531 \nL 3634 0 \nL 628 0 \nL 628 4666 \nz\n\" id=\"DejaVuSans-45\" transform=\"scale(0.015625)\"/>\n       <path d=\"M 2834 3397 \nL 2834 2853 \nQ 2591 2978 2328 3040 \nQ 2066 3103 1784 3103 \nQ 1356 3103 1142 2972 \nQ 928 2841 928 2578 \nQ 928 2378 1081 2264 \nQ 1234 2150 1697 2047 \nL 1894 2003 \nQ 2506 1872 2764 1633 \nQ 3022 1394 3022 966 \nQ 3022 478 2636 193 \nQ 2250 -91 1575 -91 \nQ 1294 -91 989 -36 \nQ 684 19 347 128 \nL 347 722 \nQ 666 556 975 473 \nQ 1284 391 1588 391 \nQ 1994 391 2212 530 \nQ 2431 669 2431 922 \nQ 2431 1156 2273 1281 \nQ 2116 1406 1581 1522 \nL 1381 1569 \nQ 847 1681 609 1914 \nQ 372 2147 372 2553 \nQ 372 3047 722 3315 \nQ 1072 3584 1716 3584 \nQ 2034 3584 2315 3537 \nQ 2597 3491 2834 3397 \nz\n\" id=\"DejaVuSans-73\" transform=\"scale(0.015625)\"/>\n       <path d=\"M 603 3500 \nL 1178 3500 \nL 1178 0 \nL 603 0 \nL 603 3500 \nz\nM 603 4863 \nL 1178 4863 \nL 1178 4134 \nL 603 4134 \nL 603 4863 \nz\n\" id=\"DejaVuSans-69\" transform=\"scale(0.015625)\"/>\n       <path d=\"M 3328 2828 \nQ 3544 3216 3844 3400 \nQ 4144 3584 4550 3584 \nQ 5097 3584 5394 3201 \nQ 5691 2819 5691 2113 \nL 5691 0 \nL 5113 0 \nL 5113 2094 \nQ 5113 2597 4934 2840 \nQ 4756 3084 4391 3084 \nQ 3944 3084 3684 2787 \nQ 3425 2491 3425 1978 \nL 3425 0 \nL 2847 0 \nL 2847 2094 \nQ 2847 2600 2669 2842 \nQ 2491 3084 2119 3084 \nQ 1678 3084 1418 2786 \nQ 1159 2488 1159 1978 \nL 1159 0 \nL 581 0 \nL 581 3500 \nL 1159 3500 \nL 1159 2956 \nQ 1356 3278 1631 3431 \nQ 1906 3584 2284 3584 \nQ 2666 3584 2933 3390 \nQ 3200 3197 3328 2828 \nz\n\" id=\"DejaVuSans-6d\" transform=\"scale(0.015625)\"/>\n       <path d=\"M 2906 2969 \nL 2906 4863 \nL 3481 4863 \nL 3481 0 \nL 2906 0 \nL 2906 525 \nQ 2725 213 2448 61 \nQ 2172 -91 1784 -91 \nQ 1150 -91 751 415 \nQ 353 922 353 1747 \nQ 353 2572 751 3078 \nQ 1150 3584 1784 3584 \nQ 2172 3584 2448 3432 \nQ 2725 3281 2906 2969 \nz\nM 947 1747 \nQ 947 1113 1208 752 \nQ 1469 391 1925 391 \nQ 2381 391 2643 752 \nQ 2906 1113 2906 1747 \nQ 2906 2381 2643 2742 \nQ 2381 3103 1925 3103 \nQ 1469 3103 1208 2742 \nQ 947 2381 947 1747 \nz\n\" id=\"DejaVuSans-64\" transform=\"scale(0.015625)\"/>\n       <path d=\"M 628 4666 \nL 1259 4666 \nL 1259 2753 \nL 3553 2753 \nL 3553 4666 \nL 4184 4666 \nL 4184 0 \nL 3553 0 \nL 3553 2222 \nL 1259 2222 \nL 1259 0 \nL 628 0 \nL 628 4666 \nz\n\" id=\"DejaVuSans-48\" transform=\"scale(0.015625)\"/>\n       <path d=\"M 1959 3097 \nQ 1497 3097 1228 2736 \nQ 959 2375 959 1747 \nQ 959 1119 1226 758 \nQ 1494 397 1959 397 \nQ 2419 397 2687 759 \nQ 2956 1122 2956 1747 \nQ 2956 2369 2687 2733 \nQ 2419 3097 1959 3097 \nz\nM 1959 3584 \nQ 2709 3584 3137 3096 \nQ 3566 2609 3566 1747 \nQ 3566 888 3137 398 \nQ 2709 -91 1959 -91 \nQ 1206 -91 779 398 \nQ 353 888 353 1747 \nQ 353 2609 779 3096 \nQ 1206 3584 1959 3584 \nz\n\" id=\"DejaVuSans-6f\" transform=\"scale(0.015625)\"/>\n       <path d=\"M 544 1381 \nL 544 3500 \nL 1119 3500 \nL 1119 1403 \nQ 1119 906 1312 657 \nQ 1506 409 1894 409 \nQ 2359 409 2629 706 \nQ 2900 1003 2900 1516 \nL 2900 3500 \nL 3475 3500 \nL 3475 0 \nL 2900 0 \nL 2900 538 \nQ 2691 219 2414 64 \nQ 2138 -91 1772 -91 \nQ 1169 -91 856 284 \nQ 544 659 544 1381 \nz\nM 1991 3584 \nL 1991 3584 \nz\n\" id=\"DejaVuSans-75\" transform=\"scale(0.015625)\"/>\n       <path d=\"M 2631 2963 \nQ 2534 3019 2420 3045 \nQ 2306 3072 2169 3072 \nQ 1681 3072 1420 2755 \nQ 1159 2438 1159 1844 \nL 1159 0 \nL 581 0 \nL 581 3500 \nL 1159 3500 \nL 1159 2956 \nQ 1341 3275 1631 3429 \nQ 1922 3584 2338 3584 \nQ 2397 3584 2469 3576 \nQ 2541 3569 2628 3553 \nL 2631 2963 \nz\n\" id=\"DejaVuSans-72\" transform=\"scale(0.015625)\"/>\n       <path d=\"M 556 4666 \nL 1191 4666 \nL 1191 1831 \nQ 1191 1081 1462 751 \nQ 1734 422 2344 422 \nQ 2950 422 3222 751 \nQ 3494 1081 3494 1831 \nL 3494 4666 \nL 4128 4666 \nL 4128 1753 \nQ 4128 841 3676 375 \nQ 3225 -91 2344 -91 \nQ 1459 -91 1007 375 \nQ 556 841 556 1753 \nL 556 4666 \nz\n\" id=\"DejaVuSans-55\" transform=\"scale(0.015625)\"/>\n       <path d=\"M 213 4666 \nL 850 4666 \nL 1831 722 \nL 2809 4666 \nL 3519 4666 \nL 4500 722 \nL 5478 4666 \nL 6119 4666 \nL 4947 0 \nL 4153 0 \nL 3169 4050 \nL 2175 0 \nL 1381 0 \nL 213 4666 \nz\n\" id=\"DejaVuSans-57\" transform=\"scale(0.015625)\"/>\n       <path d=\"M 2906 1791 \nQ 2906 2416 2648 2759 \nQ 2391 3103 1925 3103 \nQ 1463 3103 1205 2759 \nQ 947 2416 947 1791 \nQ 947 1169 1205 825 \nQ 1463 481 1925 481 \nQ 2391 481 2648 825 \nQ 2906 1169 2906 1791 \nz\nM 3481 434 \nQ 3481 -459 3084 -895 \nQ 2688 -1331 1869 -1331 \nQ 1566 -1331 1297 -1286 \nQ 1028 -1241 775 -1147 \nL 775 -588 \nQ 1028 -725 1275 -790 \nQ 1522 -856 1778 -856 \nQ 2344 -856 2625 -561 \nQ 2906 -266 2906 331 \nL 2906 616 \nQ 2728 306 2450 153 \nQ 2172 0 1784 0 \nQ 1141 0 747 490 \nQ 353 981 353 1791 \nQ 353 2603 747 3093 \nQ 1141 3584 1784 3584 \nQ 2172 3584 2450 3431 \nQ 2728 3278 2906 2969 \nL 2906 3500 \nL 3481 3500 \nL 3481 434 \nz\n\" id=\"DejaVuSans-67\" transform=\"scale(0.015625)\"/>\n       <path d=\"M 1259 2228 \nL 1259 519 \nL 2272 519 \nQ 2781 519 3026 730 \nQ 3272 941 3272 1375 \nQ 3272 1813 3026 2020 \nQ 2781 2228 2272 2228 \nL 1259 2228 \nz\nM 1259 4147 \nL 1259 2741 \nL 2194 2741 \nQ 2656 2741 2882 2914 \nQ 3109 3088 3109 3444 \nQ 3109 3797 2882 3972 \nQ 2656 4147 2194 4147 \nL 1259 4147 \nz\nM 628 4666 \nL 2241 4666 \nQ 2963 4666 3353 4366 \nQ 3744 4066 3744 3513 \nQ 3744 3084 3544 2831 \nQ 3344 2578 2956 2516 \nQ 3422 2416 3680 2098 \nQ 3938 1781 3938 1306 \nQ 3938 681 3513 340 \nQ 3088 0 2303 0 \nL 628 0 \nL 628 4666 \nz\n\" id=\"DejaVuSans-42\" transform=\"scale(0.015625)\"/>\n      </defs>\n      <use xlink:href=\"#DejaVuSans-4d\"/>\n      <use x=\"86.279297\" xlink:href=\"#DejaVuSans-65\"/>\n      <use x=\"147.802734\" xlink:href=\"#DejaVuSans-61\"/>\n      <use x=\"209.082031\" xlink:href=\"#DejaVuSans-6e\"/>\n      <use x=\"272.460938\" xlink:href=\"#DejaVuSans-20\"/>\n      <use x=\"304.248047\" xlink:href=\"#DejaVuSans-45\"/>\n      <use x=\"367.431641\" xlink:href=\"#DejaVuSans-73\"/>\n      <use x=\"419.53125\" xlink:href=\"#DejaVuSans-74\"/>\n      <use x=\"458.740234\" xlink:href=\"#DejaVuSans-69\"/>\n      <use x=\"486.523438\" xlink:href=\"#DejaVuSans-6d\"/>\n      <use x=\"583.935547\" xlink:href=\"#DejaVuSans-61\"/>\n      <use x=\"645.214844\" xlink:href=\"#DejaVuSans-74\"/>\n      <use x=\"684.423828\" xlink:href=\"#DejaVuSans-65\"/>\n      <use x=\"745.947266\" xlink:href=\"#DejaVuSans-64\"/>\n      <use x=\"809.423828\" xlink:href=\"#DejaVuSans-20\"/>\n      <use x=\"841.210938\" xlink:href=\"#DejaVuSans-48\"/>\n      <use x=\"916.40625\" xlink:href=\"#DejaVuSans-6f\"/>\n      <use x=\"977.587891\" xlink:href=\"#DejaVuSans-75\"/>\n      <use x=\"1040.966797\" xlink:href=\"#DejaVuSans-72\"/>\n      <use x=\"1082.080078\" xlink:href=\"#DejaVuSans-73\"/>\n      <use x=\"1134.179688\" xlink:href=\"#DejaVuSans-20\"/>\n      <use x=\"1165.966797\" xlink:href=\"#DejaVuSans-55\"/>\n      <use x=\"1239.160156\" xlink:href=\"#DejaVuSans-6e\"/>\n      <use x=\"1302.539062\" xlink:href=\"#DejaVuSans-74\"/>\n      <use x=\"1341.748047\" xlink:href=\"#DejaVuSans-69\"/>\n      <use x=\"1369.53125\" xlink:href=\"#DejaVuSans-6c\"/>\n      <use x=\"1397.314453\" xlink:href=\"#DejaVuSans-20\"/>\n      <use x=\"1429.101562\" xlink:href=\"#DejaVuSans-57\"/>\n      <use x=\"1522.103516\" xlink:href=\"#DejaVuSans-65\"/>\n      <use x=\"1583.626953\" xlink:href=\"#DejaVuSans-61\"/>\n      <use x=\"1644.90625\" xlink:href=\"#DejaVuSans-6e\"/>\n      <use x=\"1708.285156\" xlink:href=\"#DejaVuSans-69\"/>\n      <use x=\"1736.068359\" xlink:href=\"#DejaVuSans-6e\"/>\n      <use x=\"1799.447266\" xlink:href=\"#DejaVuSans-67\"/>\n      <use x=\"1862.923828\" xlink:href=\"#DejaVuSans-20\"/>\n      <use x=\"1894.710938\" xlink:href=\"#DejaVuSans-42\"/>\n      <use x=\"1963.314453\" xlink:href=\"#DejaVuSans-65\"/>\n      <use x=\"2024.837891\" xlink:href=\"#DejaVuSans-67\"/>\n      <use x=\"2088.314453\" xlink:href=\"#DejaVuSans-69\"/>\n      <use x=\"2116.097656\" xlink:href=\"#DejaVuSans-6e\"/>\n      <use x=\"2179.476562\" xlink:href=\"#DejaVuSans-73\"/>\n     </g>\n    </g>\n   </g>\n   <g id=\"line2d_62\">\n    <path clip-path=\"url(#pf763f8ea0e)\" d=\"M 55.821307 19.94098 \nL 76.112216 49.366652 \nL 96.403125 76.090821 \nL 116.694034 98.719493 \nL 136.984943 118.07257 \nL 157.275852 134.604712 \nL 177.566761 150.262416 \nL 197.85767 162.596951 \nL 218.14858 172.869142 \nL 238.439489 181.688245 \nL 258.730398 189.40716 \nL 279.021307 196.255548 \nL 299.312216 202.394602 \nL 319.603125 207.943286 \nL 339.894034 212.992546 \nL 360.184943 217.613707 \n\" style=\"fill:none;stroke:#1f77b4;stroke-linecap:square;stroke-width:1.5;\"/>\n   </g>\n   <g id=\"line2d_63\">\n    <path clip-path=\"url(#pf763f8ea0e)\" d=\"M 157.275852 227.497344 \nL 157.275852 10.057344 \n\" style=\"fill:none;stroke:#808080;stroke-linecap:square;stroke-opacity:0.5;stroke-width:1.5;\"/>\n   </g>\n   <g id=\"patch_3\">\n    <path d=\"M 40.603125 227.497344 \nL 40.603125 10.057344 \n\" style=\"fill:none;stroke:#000000;stroke-linecap:square;stroke-linejoin:miter;stroke-width:0.8;\"/>\n   </g>\n   <g id=\"patch_4\">\n    <path d=\"M 375.403125 227.497344 \nL 375.403125 10.057344 \n\" style=\"fill:none;stroke:#000000;stroke-linecap:square;stroke-linejoin:miter;stroke-width:0.8;\"/>\n   </g>\n   <g id=\"patch_5\">\n    <path d=\"M 40.603125 227.497344 \nL 375.403125 227.497344 \n\" style=\"fill:none;stroke:#000000;stroke-linecap:square;stroke-linejoin:miter;stroke-width:0.8;\"/>\n   </g>\n   <g id=\"patch_6\">\n    <path d=\"M 40.603125 10.057344 \nL 375.403125 10.057344 \n\" style=\"fill:none;stroke:#000000;stroke-linecap:square;stroke-linejoin:miter;stroke-width:0.8;\"/>\n   </g>\n  </g>\n </g>\n <defs>\n  <clipPath id=\"pf763f8ea0e\">\n   <rect height=\"217.44\" width=\"334.8\" x=\"40.603125\" y=\"10.057344\"/>\n  </clipPath>\n </defs>\n</svg>\n",
      "text/plain": [
       "<Figure size 432x288 with 1 Axes>"
      ]
     },
     "metadata": {
      "needs_background": "light"
     },
     "output_type": "display_data"
    }
   ],
   "source": [
    "plt.xlabel('Delta')\n",
    "plt.ylabel('Mean Estimated Hours Until Weaning Begins')\n",
    "plt.plot(time_until_wean_results.keys(), time_until_wean_results.values())\n",
    "plt.axvline(1, color='grey', alpha=0.5)\n",
    "plt.minorticks_on()\n",
    "plt.savefig('images/time_until_wean_results.png', facecolor='white')\n",
    "plt.show()"
   ]
  }
 ],
 "metadata": {
  "interpreter": {
   "hash": "56b99ba35fbf06c4dc463b67e081262ac24be503d9ee1adee8d3ec32db9e0e1c"
  },
  "kernelspec": {
   "display_name": "Python 3.9.0 64-bit ('venv': venv)",
   "name": "python3"
  },
  "language_info": {
   "codemirror_mode": {
    "name": "ipython",
    "version": 3
   },
   "file_extension": ".py",
   "mimetype": "text/x-python",
   "name": "python",
   "nbconvert_exporter": "python",
   "pygments_lexer": "ipython3",
   "version": "3.9.0"
  },
  "metadata": {
   "interpreter": {
    "hash": "974242ba8bd4aee876d4cc6b2b4fd6d90080efacd3e889d4fd5fe2f92b3a2fbb"
   }
  },
  "orig_nbformat": 2
 },
 "nbformat": 4,
 "nbformat_minor": 2
}
